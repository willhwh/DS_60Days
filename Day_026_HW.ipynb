{
 "cells": [
  {
   "cell_type": "code",
   "execution_count": 1,
   "metadata": {},
   "outputs": [],
   "source": [
    "from IPython.display import Image\n",
    "import matplotlib.pyplot as plt\n",
    "import numpy as np\n",
    "import pandas as pd\n",
    "from scipy import stats\n",
    "import math\n",
    "import statistics\n",
    "import seaborn as sns"
   ]
  },
  {
   "cell_type": "code",
   "execution_count": 2,
   "metadata": {},
   "outputs": [],
   "source": [
    "boys=[164, 176, 169, 169, 165, 175, 159, 151, 144, 160, 183, 165, 156, 170,\n",
    "    164, 173, 165, 163, 177, 171]\n",
    "girls=[169, 170, 162, 154, 183, 173, 169, 167, 170, 185, 162, 175, 168, 151,\n",
    "    181, 170, 182, 156, 159, 160]"
   ]
  },
  {
   "cell_type": "code",
   "execution_count": 3,
   "metadata": {},
   "outputs": [
    {
     "data": {
      "text/html": [
       "<img src=\"http://cumatrixfile.cupoy.com/000001754A4550E30000002C6375706F795F72656C656173654349/marathon/1602735561192\"/>"
      ],
      "text/plain": [
       "<IPython.core.display.Image object>"
      ]
     },
     "execution_count": 3,
     "metadata": {},
     "output_type": "execute_result"
    }
   ],
   "source": [
    "#Python 有三種語法來計算統計量：\n",
    "\n",
    "#Python內建的 statistics \n",
    "#Numpy\n",
    "#Stats ( from scipy )\n",
    "Image(url='http://cumatrixfile.cupoy.com/000001754A4550E30000002C6375706F795F72656C656173654349/marathon/1602735561192')"
   ]
  },
  {
   "cell_type": "code",
   "execution_count": 4,
   "metadata": {},
   "outputs": [
    {
     "name": "stdout",
     "output_type": "stream",
     "text": [
      "男孩身高平均= 165.95\n",
      "statistics_mean_boy= 165.95\n",
      "np_median_boy= 165.0\n",
      "statistics_median_boy= 165.0\n",
      "男孩身高眾數= ModeResult(mode=array([165]), count=array([3]))\n",
      "男孩身高眾數= 165\n",
      "statistics_mode_boy= 165\n"
     ]
    }
   ],
   "source": [
    "# mean\n",
    "mean_boy=np.mean(boys)\n",
    "print(\"男孩身高平均=\",mean_boy)\n",
    "\n",
    "statistics_mean_boy=statistics.mean(boys)\n",
    "print(\"statistics_mean_boy=\",statistics_mean_boy)\n",
    "\n",
    "\n",
    "# median\n",
    "np_median_boy=np.median(boys,axis=None)\n",
    "print(\"np_median_boy=\",np_median_boy)\n",
    "\n",
    "\n",
    "statistics_median_boy=statistics.median(boys)\n",
    "print(\"statistics_median_boy=\",statistics_median_boy)\n",
    "\n",
    "\n",
    "# mode\n",
    "mode_boy=stats.mode(boys,axis=None)\n",
    "print(\"男孩身高眾數=\",mode_boy)# 眾數, 個數 （165, 有三個）\n",
    "print(\"男孩身高眾數=\",mode_boy[0][0])\n",
    "\n",
    "statistics_mode_boy=statistics.mode(boys)\n",
    "print(\"statistics_mode_boy=\",statistics_mode_boy)"
   ]
  },
  {
   "cell_type": "code",
   "execution_count": 5,
   "metadata": {},
   "outputs": [
    {
     "data": {
      "text/html": [
       "<img src=\"http://cumatrixfile.cupoy.com/000001754A4550E30000002C6375706F795F72656C656173654349/marathon/1602735561204\"/>"
      ],
      "text/plain": [
       "<IPython.core.display.Image object>"
      ]
     },
     "execution_count": 5,
     "metadata": {},
     "output_type": "execute_result"
    }
   ],
   "source": [
    "#離散程度\n",
    "#全距: Max-Min\n",
    "#變異數: 所有資料到平均數的平均距離\n",
    "#百分位數 (Percentile): PR(Percentile Rank)值\n",
    "Image(url='http://cumatrixfile.cupoy.com/000001754A4550E30000002C6375706F795F72656C656173654349/marathon/1602735561204')"
   ]
  },
  {
   "cell_type": "code",
   "execution_count": 6,
   "metadata": {},
   "outputs": [
    {
     "name": "stdout",
     "output_type": "stream",
     "text": [
      "39\n",
      "男孩身高變異數= 84.89210526315789\n",
      "男孩身高變異數= 84.89210526315789\n",
      "男孩身高標準差= 9.213691185575838\n",
      "statistics_mean_boy= 9.213691185575838\n",
      "90百分位數= 176.1\n",
      "50百分位數= 165.0\n",
      "20百分位數= 159.8\n",
      "20百分位數= 159.8\n"
     ]
    }
   ],
   "source": [
    "# range\n",
    "def rangeV(x): \n",
    "  return(max(x)-min(x))\n",
    "    \n",
    "print(rangeV(boys))\n",
    "\n",
    "# Variance\n",
    "print(\"男孩身高變異數=\",statistics.variance(boys))\n",
    "print(\"男孩身高變異數=\",np.var(boys,ddof=1))\n",
    "\n",
    "# 標準差\n",
    "#ddof=1, 回傳 sample standard deviation 樣本標準差，分母(n-1)，無偏估計\n",
    "std_boy=np.std(boys,ddof=1)\n",
    "print(\"男孩身高標準差=\",std_boy)\n",
    "\n",
    "statistics_stdev_boy=statistics.stdev(boys)\n",
    "print(\"statistics_mean_boy=\",statistics_stdev_boy)\n",
    "\n",
    "#percentile\n",
    "print(\"90百分位數=\",np.percentile(boys, 90))\n",
    "print(\"50百分位數=\",np.percentile(boys, 50))\n",
    "print(\"20百分位數=\",np.percentile(boys, 20))\n",
    "#stat\n",
    "print(\"20百分位數=\",stats.scoreatpercentile(boys, 20))"
   ]
  },
  {
   "cell_type": "code",
   "execution_count": 7,
   "metadata": {},
   "outputs": [
    {
     "data": {
      "text/html": [
       "<img src=\"http://cumatrixfile.cupoy.com/000001754A4550E30000002C6375706F795F72656C656173654349/marathon/1602735561212\"/>"
      ],
      "text/plain": [
       "<IPython.core.display.Image object>"
      ]
     },
     "execution_count": 7,
     "metadata": {},
     "output_type": "execute_result"
    }
   ],
   "source": [
    "#分布型態\n",
    "#偏度 (Skewness): 左偏<0 右偏>0\n",
    "#峰度: 峰度反映了峰部的尖度 >0 高峻峰 =0 常態峰 <0 低闊峰\n",
    "Image(url='http://cumatrixfile.cupoy.com/000001754A4550E30000002C6375706F795F72656C656173654349/marathon/1602735561212')"
   ]
  },
  {
   "cell_type": "code",
   "execution_count": 8,
   "metadata": {},
   "outputs": [
    {
     "name": "stdout",
     "output_type": "stream",
     "text": [
      "-0.47132127317376954\n",
      "0.19395882957876331\n"
     ]
    }
   ],
   "source": [
    "#計算峰度和偏度\n",
    "print(stats.skew(boys))  \n",
    "print(stats.kurtosis(boys))"
   ]
  },
  {
   "cell_type": "markdown",
   "metadata": {},
   "source": [
    "# HW"
   ]
  },
  {
   "cell_type": "code",
   "execution_count": 9,
   "metadata": {},
   "outputs": [
    {
     "data": {
      "image/png": "[encoded data removed]",
      "text/plain": [
       "<Figure size 360x360 with 1 Axes>"
      ]
     },
     "metadata": {
      "needs_background": "light"
     },
     "output_type": "display_data"
    },
    {
     "name": "stdout",
     "output_type": "stream",
     "text": [
      "boys mean: 165.95\n",
      "boys median: 165.0\n",
      "boys mode: ModeResult(mode=array([165]), count=array([3]))\n",
      "boys range: 39\n",
      "boys variance: 80.6475\n",
      "boys std: 9.213691185575838\n",
      "boys skew: -0.47132127317376954\n",
      "boys kurtosis: 0.19395882957876331\n",
      "========================\n"
     ]
    },
    {
     "data": {
      "image/png": "[encoded data removed]",
      "text/plain": [
       "<Figure size 360x360 with 1 Axes>"
      ]
     },
     "metadata": {
      "needs_background": "light"
     },
     "output_type": "display_data"
    },
    {
     "name": "stdout",
     "output_type": "stream",
     "text": [
      "girls mean: 168.3\n",
      "girls median: 169.0\n",
      "girls mode: ModeResult(mode=array([170]), count=array([3]))\n",
      "girls range: 34\n",
      "girls variance: 90.60999999999999\n",
      "girls std: 9.766214587465353\n",
      "girls skew: 0.059853211293650746\n",
      "girls kurtosis: -0.8203607083948947\n",
      "========================\n"
     ]
    }
   ],
   "source": [
    "#Q1：試著用今天所教的內容，如何描述這兩組資料的樣態？\n",
    "for data,sex in zip([boys,girls],['boys','girls']):\n",
    "    sns.displot(data)\n",
    "    plt.title(f'{sex}')\n",
    "    plt.show()\n",
    "    print(f'{sex} mean: {np.mean(data)}')\n",
    "    print(f'{sex} median: {np.median(data)}')\n",
    "    print(f'{sex} mode: {stats.mode(data)}')\n",
    "    print(f'{sex} range: {max(data)-min(data)}')\n",
    "    print(f'{sex} variance: {np.var(data)}')\n",
    "    print(f'{sex} std: {np.std(data,ddof = 1)}')\n",
    "    print(f'{sex} skew: {stats.skew(data)}')\n",
    "    print(f'{sex} kurtosis: {stats.kurtosis(data)}')\n",
    "    print('==='*8)\n",
    "   "
   ]
  },
  {
   "cell_type": "code",
   "execution_count": 10,
   "metadata": {},
   "outputs": [],
   "source": [
    "#Q2：請問男生和女生在平均身高上誰比較高？\n",
    "#女生"
   ]
  },
  {
   "cell_type": "code",
   "execution_count": 11,
   "metadata": {},
   "outputs": [],
   "source": [
    "#Q3：請問第二題的答案和日常生活中觀察的一致嗎？如果不一致，你覺得原因可能為何？\n",
    "#不一致 , 抽樣誤差"
   ]
  },
  {
   "cell_type": "code",
   "execution_count": 12,
   "metadata": {},
   "outputs": [
    {
     "data": {
      "image/png": "[encoded data removed]",
      "text/plain": [
       "<Figure size 432x288 with 1 Axes>"
      ]
     },
     "metadata": {
      "needs_background": "light"
     },
     "output_type": "display_data"
    }
   ],
   "source": [
    "plt.hist(boys,alpha=.4)\n",
    "plt.hist(girls,color=sns.desaturate(\"indianred\", .8),alpha=.4)\n",
    "plt.title(\"all samples\")\n",
    "plt.axvline(x=np.mean(girls),color=sns.desaturate(\"indianred\", .8))\n",
    "plt.axvline(x=np.mean(boys))\n",
    "plt.show()\n"
   ]
  },
  {
   "cell_type": "code",
   "execution_count": null,
   "metadata": {},
   "outputs": [],
   "source": []
  }
 ],
 "metadata": {
  "kernelspec": {
   "display_name": "regularenv",
   "language": "python",
   "name": "regularenv"
  },
  "language_info": {
   "codemirror_mode": {
    "name": "ipython",
    "version": 3
   },
   "file_extension": ".py",
   "mimetype": "text/x-python",
   "name": "python",
   "nbconvert_exporter": "python",
   "pygments_lexer": "ipython3",
   "version": "3.6.12"
  }
 },
 "nbformat": 4,
 "nbformat_minor": 4
}
