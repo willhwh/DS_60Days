{
 "cells": [
  {
   "cell_type": "code",
   "execution_count": 1,
   "id": "shared-realtor",
   "metadata": {},
   "outputs": [],
   "source": [
    "from IPython.display import Image\n",
    "import matplotlib.pyplot as plt\n",
    "import numpy as np\n",
    "import pandas as pd\n",
    "from scipy import stats\n",
    "import math\n",
    "import statistics"
   ]
  },
  {
   "cell_type": "code",
   "execution_count": 2,
   "id": "polished-efficiency",
   "metadata": {},
   "outputs": [],
   "source": [
    "#介紹離散型分配的其他分配，包含：\n",
    "\n",
    "#負二項分配(Negative Binomial Distribution)\n",
    "#超幾何分配(Hypergeometric Distribution)"
   ]
  },
  {
   "cell_type": "code",
   "execution_count": 3,
   "id": "transsexual-machine",
   "metadata": {},
   "outputs": [
    {
     "data": {
      "text/html": [
       "<img src=\"http://cumatrixfile.cupoy.com/000001754AD16F93000000016375706F795F72656C656173654349/marathon/1602735561279\"/>"
      ],
      "text/plain": [
       "<IPython.core.display.Image object>"
      ]
     },
     "execution_count": 3,
     "metadata": {},
     "output_type": "execute_result"
    }
   ],
   "source": [
    "#負二項分配\n",
    "#負二項分佈是統計學上一種描述在一系列獨立同分佈的伯努利試驗中，\n",
    "#X為成功次數到達指定次數 (記為k) 時，需要試驗的機率分布，表示為X~NB(k,p)\n",
    "\n",
    "#我們以投擲銅板為例\n",
    "#>>>二項分佈就是投擲的次數固定，看其中出現幾次正面\n",
    "#>>>負二項分佈則是要求出現的正面數固定，看需要投擲幾次。\n",
    "Image(url='http://cumatrixfile.cupoy.com/000001754AD16F93000000016375706F795F72656C656173654349/marathon/1602735561279')"
   ]
  },
  {
   "cell_type": "code",
   "execution_count": 4,
   "id": "dental-architecture",
   "metadata": {},
   "outputs": [
    {
     "name": "stdout",
     "output_type": "stream",
     "text": [
      "[ 0.  1.  2.  3.  4.  5.  6.  7.  8.  9. 10. 11. 12. 13. 14.]\n",
      "[0.064      0.1152     0.13824    0.13824    0.124416   0.10450944\n",
      " 0.08360755 0.06449725 0.04837294 0.03547349 0.02554091 0.01811083\n",
      " 0.01267758 0.00877679 0.00601837]\n",
      "<class 'numpy.ndarray'>\n"
     ]
    },
    {
     "data": {
      "image/png": "[encoded data removed]",
      "text/plain": [
       "<Figure size 432x288 with 1 Axes>"
      ]
     },
     "metadata": {
      "needs_background": "light"
     },
     "output_type": "display_data"
    }
   ],
   "source": [
    "#p: 成功的機率\n",
    "#k: 累積到 k 次成功後才停整\n",
    "#r: 產生出 樣本點空間\n",
    "\n",
    "# 1.定義負二項分配的基本資訊\n",
    "p = 0.4 #成功的機率\n",
    "k = 3   #指定次數\n",
    "\n",
    "#產生一個同樣間隔的序列\n",
    "#print(stats.nbinom.ppf(0.01, k, p)) \n",
    "#print(stats.nbinom.ppf(0.99, k, p)) #15\n",
    "\n",
    "r = np.arange(stats.nbinom.ppf(0.01, k,p), # ppf: percent point function (percentiles)\n",
    "              stats.nbinom.ppf(0.99, k,p))\n",
    "print(r)\n",
    "\n",
    "# 2.計算機率質量函數 (probability mass function)\n",
    "# P(X=x) --> 是機率\n",
    "probs = stats.nbinom.pmf(r,k,p)\n",
    "print(probs)\n",
    "print(type(probs))\n",
    "\n",
    "plt.bar(r, probs)\n",
    "plt.ylabel('P(X=x)')\n",
    "plt.xlabel('x')\n",
    "plt.title('NB(k=3,p=0.4)')\n",
    "plt.show()\n"
   ]
  },
  {
   "cell_type": "code",
   "execution_count": 5,
   "id": "isolated-ebony",
   "metadata": {},
   "outputs": [
    {
     "data": {
      "image/png": "[encoded data removed]",
      "text/plain": [
       "<Figure size 432x288 with 1 Axes>"
      ]
     },
     "metadata": {
      "needs_background": "light"
     },
     "output_type": "display_data"
    }
   ],
   "source": [
    "# 3.計算負二項分佈的累積機率 (cumulative density function)，pmf 的累加\n",
    "# P(X=x) --> 是機率\n",
    "cumsum_probs = stats.nbinom.cdf(r, k, p)\n",
    "#array([ 0.07776, 0.2592 , 0.3456 , 0.2304 , 0.0768 , 0.01024])\n",
    "plt.show()\n",
    "plt.ylabel('P(X<=x)')\n",
    "plt.xlabel('x')\n",
    "plt.title('binomial(n=5,p=0.4)')\n",
    "plt.plot(r, cumsum_probs)\n",
    "plt.show()"
   ]
  },
  {
   "cell_type": "code",
   "execution_count": 6,
   "id": "mineral-horizon",
   "metadata": {},
   "outputs": [
    {
     "name": "stdout",
     "output_type": "stream",
     "text": [
      "[ 0.  1.  2.  3.  4.  5.  6.  7.  8.  9. 10. 11. 12. 13. 14.]\n"
     ]
    }
   ],
   "source": [
    "# 4.透過 cdf ，給定一個 機率值，反推出對應到的 x\n",
    "p_loc= stats.nbinom.ppf(cumsum_probs, k, p)\n",
    "print(p_loc)\n",
    "#看上圖看結果\n"
   ]
  },
  {
   "cell_type": "code",
   "execution_count": 7,
   "id": "great-commercial",
   "metadata": {},
   "outputs": [
    {
     "name": "stdout",
     "output_type": "stream",
     "text": [
      "[5 2 6 5 5 4 5 5 8 1 1 4 5 0 4 3 7 8 6 3]\n"
     ]
    },
    {
     "data": {
      "image/png": "[encoded data removed]",
      "text/plain": [
       "<Figure size 432x288 with 1 Axes>"
      ]
     },
     "metadata": {
      "needs_background": "light"
     },
     "output_type": "display_data"
    }
   ],
   "source": [
    "# 5.產生符合負二項分佈的隨機樣本點 (random sample)\n",
    "X = stats.nbinom.rvs(k,p,size=20)\n",
    "print(X)\n",
    "plt.hist(X,bins=8)\n",
    "plt.xticks(np.arange(0, 14,1))\n",
    "plt.show()\n",
    "#試試看，，每一次的結果一樣嗎?"
   ]
  },
  {
   "cell_type": "code",
   "execution_count": 8,
   "id": "abstract-antibody",
   "metadata": {},
   "outputs": [
    {
     "name": "stdout",
     "output_type": "stream",
     "text": [
      "(array(4.5), array(11.25), array(1.19256959), array(2.08888889))\n",
      "<class 'tuple'>\n",
      "negative binomial mean= 4.5\n",
      "negative binomial variance= 11.25\n",
      "negative binomial kurtosis= 1.1925695879998879\n",
      "negative binomial skew= 2.088888888888889\n"
     ]
    }
   ],
   "source": [
    "#6.計算固定參數下，隨機變數的平均數、變異數、偏度和峰度。\n",
    "stat_nbin=stats.nbinom.stats(k,p,moments='mvks')\n",
    "print(stat_nbin)\n",
    "print(type(stat_nbin))\n",
    "#E(X)\n",
    "print(\"negative binomial mean=\",float(stat_nbin[0]))\n",
    "print(\"negative binomial variance=\",float(stat_nbin[1]))\n",
    "print(\"negative binomial kurtosis=\",float(stat_nbin[2]))\n",
    "print(\"negative binomial skew=\",float(stat_nbin[3]))"
   ]
  },
  {
   "cell_type": "code",
   "execution_count": null,
   "id": "organic-canyon",
   "metadata": {},
   "outputs": [],
   "source": []
  },
  {
   "cell_type": "code",
   "execution_count": 9,
   "id": "offshore-guatemala",
   "metadata": {
    "scrolled": true
   },
   "outputs": [
    {
     "data": {
      "text/html": [
       "<img src=\"http://cumatrixfile.cupoy.com/000001754AD16F93000000016375706F795F72656C656173654349/marathon/1602735561290\"/>"
      ],
      "text/plain": [
       "<IPython.core.display.Image object>"
      ]
     },
     "execution_count": 9,
     "metadata": {},
     "output_type": "execute_result"
    }
   ],
   "source": [
    "#超幾何分配\n",
    "#描述了由有限個物件中抽出n個物件，成功抽出指定種類的物件的個數 (取後不放回)\n",
    "Image(url='http://cumatrixfile.cupoy.com/000001754AD16F93000000016375706F795F72656C656173654349/marathon/1602735561290')"
   ]
  },
  {
   "cell_type": "code",
   "execution_count": 10,
   "id": "solved-library",
   "metadata": {},
   "outputs": [
    {
     "name": "stdout",
     "output_type": "stream",
     "text": [
      "[ 0  1  2  3  4  5  6  7  8  9 10]\n",
      "[1.79858837e-05 4.90524100e-04 5.33444958e-03 3.06388899e-02\n",
      " 1.03406253e-01 2.15085007e-01 2.80058603e-01 2.25929629e-01\n",
      " 1.08257947e-01 2.78558461e-02 2.92486384e-03]\n",
      "<class 'numpy.ndarray'>\n"
     ]
    },
    {
     "data": {
      "image/png": "[encoded data removed]",
      "text/plain": [
       "<Figure size 432x288 with 1 Axes>"
      ]
     },
     "metadata": {
      "needs_background": "light"
     },
     "output_type": "display_data"
    }
   ],
   "source": [
    "# 𝑁 : 共有幾個物件, 𝑁 =0,1,…\n",
    "# 𝐾 : 𝑁 個物件中，有 𝐾 個是你關心的物件類型個數, 𝐾 =0,1,2,…, 𝑁\n",
    "# 𝑛 : K個物件，要抽出 𝑛 個物件, 𝑛 =0,1,…, 𝑁\n",
    "#現在有兩堆骰子，30個為紅色數字，20個為黑色數字，取出10個，X=有幾個是紅色的。\n",
    "\n",
    "# 1.定義超幾何分配的基本資訊\n",
    "N=50\n",
    "K=30\n",
    "n=10\n",
    "\n",
    "#產生一個同樣間隔的序列\n",
    "r = np.arange(0, min(n+1,K+1)) #產出 x 對應點\n",
    "print(r)\n",
    "\n",
    "# 2.計算機率質量函數 (probability mass function)\n",
    "# P(X=x) --> 是機率\n",
    "probs = stats.hypergeom.pmf(r, N,K,n)\n",
    "print(probs)\n",
    "print(type(probs))\n",
    "\n",
    "plt.bar(r, probs)\n",
    "plt.ylabel('P(X=x)')\n",
    "plt.xlabel('x')\n",
    "plt.title('pmf of Hypergeometric(N=50,K=30,n=10)')\n",
    "plt.show()"
   ]
  },
  {
   "cell_type": "code",
   "execution_count": 11,
   "id": "annoying-chapel",
   "metadata": {},
   "outputs": [
    {
     "data": {
      "image/png": "[encoded data removed]",
      "text/plain": [
       "<Figure size 432x288 with 1 Axes>"
      ]
     },
     "metadata": {
      "needs_background": "light"
     },
     "output_type": "display_data"
    }
   ],
   "source": [
    "# 3.計算超幾何分配的累積機率 (cumulative density function)，pmf 的累加\n",
    "# P(X=x) --> 是機率\n",
    "cumsum_probs = stats.hypergeom.cdf(r, N,K,n)\n",
    "plt.show()\n",
    "plt.ylabel('P(X<=x)')\n",
    "plt.xlabel('x')\n",
    "plt.title('cdf of Hypergeometric(N=50,K=30,n=10)')\n",
    "plt.plot(r, cumsum_probs)\n",
    "plt.show()"
   ]
  },
  {
   "cell_type": "code",
   "execution_count": 12,
   "id": "experienced-requirement",
   "metadata": {},
   "outputs": [
    {
     "name": "stdout",
     "output_type": "stream",
     "text": [
      "[ 0.  1.  2.  3.  4.  5.  6.  7.  8.  9. 10.]\n"
     ]
    }
   ],
   "source": [
    "# 4.透過 cdf ，給定一個 機率值，反推出對應到的 x\n",
    "p_loc= stats.hypergeom.ppf(cumsum_probs, N,K,n)\n",
    "print(p_loc)\n",
    "#看上圖看結果"
   ]
  },
  {
   "cell_type": "code",
   "execution_count": 13,
   "id": "medical-karaoke",
   "metadata": {},
   "outputs": [
    {
     "name": "stdout",
     "output_type": "stream",
     "text": [
      "[5 6 7 6 6 7 7 6 5 6 8 6 6 6 3 6 7 7 6 7]\n"
     ]
    },
    {
     "data": {
      "image/png": "[encoded data removed]",
      "text/plain": [
       "<Figure size 432x288 with 1 Axes>"
      ]
     },
     "metadata": {
      "needs_background": "light"
     },
     "output_type": "display_data"
    }
   ],
   "source": [
    "# 5.產生符合超幾何分配的隨機樣本點 (random sample)\n",
    "X = stats.hypergeom.rvs(N,K,n,size=20)\n",
    "print(X)\n",
    "plt.hist(X,bins=25)\n",
    "plt.show()\n",
    "#試試看，，每一次的結果一樣嗎?"
   ]
  },
  {
   "cell_type": "code",
   "execution_count": 14,
   "id": "comprehensive-sudan",
   "metadata": {},
   "outputs": [
    {
     "name": "stdout",
     "output_type": "stream",
     "text": [
      "(array(6.), array(1.95918367), array(-0.08930431), array(-0.13162123))\n",
      "<class 'tuple'>\n",
      "negative hypergeom mean= 6.0\n",
      "negative hypergeom variance= 1.9591836734693877\n",
      "negative hypergeom kurtosis= -0.08930431353897003\n",
      "negative hypergeom skew= -0.13162123226950354\n"
     ]
    }
   ],
   "source": [
    "#6.計算固定參數下，隨機變數的平均數、變異數、偏度和峰度。\n",
    "\n",
    "stat_hyperg=stats.hypergeom.stats(N,K,n,moments='mvks')\n",
    "print(stat_hyperg)\n",
    "print(type(stat_hyperg))\n",
    "#E(X)\n",
    "print(\"negative hypergeom mean=\",float(stat_hyperg[0]))\n",
    "print(\"negative hypergeom variance=\",float(stat_hyperg[1]))\n",
    "print(\"negative hypergeom kurtosis=\",float(stat_hyperg[2]))\n",
    "print(\"negative hypergeom skew=\",float(stat_hyperg[3]))"
   ]
  },
  {
   "cell_type": "markdown",
   "id": "steady-width",
   "metadata": {},
   "source": [
    "# HW"
   ]
  },
  {
   "cell_type": "code",
   "execution_count": 15,
   "id": "decimal-director",
   "metadata": {},
   "outputs": [],
   "source": [
    "#Q1：大樂透的頭獎，你必須從49個挑選出 6 個號碼，且這六個號碼與頭獎的六個號碼一致，頭獎的機率是屬於哪一種分配？\n",
    "#超幾何分配\n"
   ]
  },
  {
   "cell_type": "code",
   "execution_count": 16,
   "id": "liquid-adelaide",
   "metadata": {},
   "outputs": [
    {
     "name": "stdout",
     "output_type": "stream",
     "text": [
      "[0 1 2 3 4 5 6]\n",
      "[4.35964976e-01 4.13019450e-01 1.32378029e-01 1.76504039e-02\n",
      " 9.68619724e-04 1.84498995e-05 7.15112384e-08]\n",
      "<class 'numpy.ndarray'>\n"
     ]
    },
    {
     "data": {
      "image/png": "[encoded data removed]",
      "text/plain": [
       "<Figure size 432x288 with 1 Axes>"
      ]
     },
     "metadata": {
      "needs_background": "light"
     },
     "output_type": "display_data"
    },
    {
     "name": "stdout",
     "output_type": "stream",
     "text": [
      "頭獎機率為：7.151123842018523e-08\n"
     ]
    }
   ],
   "source": [
    "#Q2：運用範例的 python 程式碼，計算大樂透的中頭獎機率？\n",
    "# 1.定義超幾何分配的基本資訊\n",
    "N=49\n",
    "K=6\n",
    "n=6\n",
    "\n",
    "#產生一個同樣間隔的序列\n",
    "r = np.arange(0, min(n+1,K+1)) #產出 x 對應點\n",
    "print(r)\n",
    "\n",
    "# 2.計算機率質量函數 (probability mass function)\n",
    "# P(X=x) --> 是機率\n",
    "probs = stats.hypergeom.pmf(r, N,K,n)\n",
    "print(probs)\n",
    "print(type(probs))\n",
    "\n",
    "plt.bar(r, probs)\n",
    "plt.ylabel('P(X=x)')\n",
    "plt.xlabel('x')\n",
    "plt.title('pmf of Hypergeometric(N=49,K=6,n=6)')\n",
    "plt.show()\n",
    "\n",
    "\n",
    "print(f\"頭獎機率為：{probs[-1]}\")"
   ]
  },
  {
   "cell_type": "code",
   "execution_count": 17,
   "id": "electric-gambling",
   "metadata": {},
   "outputs": [],
   "source": [
    "#Q3：你覺得電腦簽注的中獎機率，和人腦簽注相比，哪一個機率高？\n",
    "#一樣高"
   ]
  }
 ],
 "metadata": {
  "kernelspec": {
   "display_name": "regularenv",
   "language": "python",
   "name": "regularenv"
  },
  "language_info": {
   "codemirror_mode": {
    "name": "ipython",
    "version": 3
   },
   "file_extension": ".py",
   "mimetype": "text/x-python",
   "name": "python",
   "nbconvert_exporter": "python",
   "pygments_lexer": "ipython3",
   "version": "3.6.12"
  }
 },
 "nbformat": 4,
 "nbformat_minor": 5
}
