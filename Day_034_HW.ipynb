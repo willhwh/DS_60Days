{
 "cells": [
  {
   "cell_type": "code",
   "execution_count": 1,
   "id": "bridal-student",
   "metadata": {},
   "outputs": [],
   "source": [
    "from IPython.display import Image"
   ]
  },
  {
   "cell_type": "code",
   "execution_count": 2,
   "id": "chemical-discussion",
   "metadata": {},
   "outputs": [],
   "source": [
    "#什麼是資料科學？: 轉譯出數據資料上背後的商業價值>>>拆解問題 → 組織問題 → 解決問題\n",
    "#資料科學所產生出的產品，包含描述型，診斷型、預測型與建議型>>>>降低決策的風險與提高收益\n",
    "    #1. what is happening? 描述\n",
    "    #2. why is it happening? 診斷\n",
    "    #3. what is likely to happen? 預測\n",
    "    #4. what do i need to do? 建議"
   ]
  },
  {
   "cell_type": "code",
   "execution_count": 3,
   "id": "academic-disabled",
   "metadata": {},
   "outputs": [
    {
     "data": {
      "text/html": [
       "<img src=\"http://cumatrixfile.cupoy.com/0000017563DA1A0F0000000D6375706F795F72656C656173654349/marathon/1603345870540\"/>"
      ],
      "text/plain": [
       "<IPython.core.display.Image object>"
      ]
     },
     "execution_count": 3,
     "metadata": {},
     "output_type": "execute_result"
    }
   ],
   "source": [
    "Image(url='http://cumatrixfile.cupoy.com/0000017563DA1A0F0000000D6375706F795F72656C656173654349/marathon/1603345870540')"
   ]
  },
  {
   "cell_type": "markdown",
   "id": "coordinate-guatemala",
   "metadata": {},
   "source": [
    "- 探索性分析的步驟\n",
    "- 確認資料型態 (object、int、float)\n",
    "- 每一個欄位的意義，分布\n",
    "- 檢測 異常值 和 缺失值\n",
    "- 發掘 特徵變數之間的關係\n",
    "               #  特徵變數與目標變數之間的關係 [ 假設 ]\n",
    "\n",
    "               #  除目標變數外，特徵變數彼此之間的關係\n",
    "\n",
    "- 測試基本的假設\n",
    "- 提取或找出 重要的特徵變數 [ 特徵工程 ]\n",
    "- 初步選擇合適的模型"
   ]
  },
  {
   "cell_type": "markdown",
   "id": "cheap-signal",
   "metadata": {},
   "source": [
    "# HW"
   ]
  },
  {
   "cell_type": "code",
   "execution_count": 4,
   "id": "hundred-flavor",
   "metadata": {},
   "outputs": [],
   "source": [
    "#挑選 Mr./Ms. Right\n",
    "#顧客下次會買哪些東西？\n",
    "#半導體的良率預測？"
   ]
  },
  {
   "cell_type": "code",
   "execution_count": 5,
   "id": "lightweight-selection",
   "metadata": {},
   "outputs": [],
   "source": [
    "#Q1：哪一個問題不適合用資料科學解決？\n",
    "# 第一項相對不適用"
   ]
  },
  {
   "cell_type": "code",
   "execution_count": 6,
   "id": "expressed-transfer",
   "metadata": {},
   "outputs": [],
   "source": [
    "#Q2：以你的角度來分析，為什麼這樣的問題，較不適合用資料來解決？\n",
    "# 因為較難定義 何謂Right"
   ]
  },
  {
   "cell_type": "code",
   "execution_count": null,
   "id": "specialized-intensity",
   "metadata": {},
   "outputs": [],
   "source": []
  }
 ],
 "metadata": {
  "kernelspec": {
   "display_name": "regularenv",
   "language": "python",
   "name": "regularenv"
  },
  "language_info": {
   "codemirror_mode": {
    "name": "ipython",
    "version": 3
   },
   "file_extension": ".py",
   "mimetype": "text/x-python",
   "name": "python",
   "nbconvert_exporter": "python",
   "pygments_lexer": "ipython3",
   "version": "3.6.12"
  }
 },
 "nbformat": 4,
 "nbformat_minor": 5
}
