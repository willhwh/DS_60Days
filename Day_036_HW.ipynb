{
 "cells": [
  {
   "cell_type": "code",
   "execution_count": 1,
   "id": "sonic-seller",
   "metadata": {},
   "outputs": [],
   "source": [
    "import matplotlib.pyplot as plt\n",
    "import numpy as np\n",
    "import pandas as pd\n",
    "import seaborn  as sns\n",
    "from scipy import stats\n",
    "import math\n",
    "import statistics\n",
    "#讓圖可以在 jupyter notebook顯示\n",
    "%matplotlib inline"
   ]
  },
  {
   "cell_type": "code",
   "execution_count": 2,
   "id": "eight-reaction",
   "metadata": {},
   "outputs": [],
   "source": [
    "#####!!!!!!!!需判斷異常值背後的可能原因\n",
    "\n",
    "\n",
    "#異常值: 偏離樣本整體數據的值,也被稱為離群值、新奇、噪聲、偏差和例外。\n",
    "    #偽異常:由於業務特定運營動作產生的，其實是正常反映業務狀態，而不是資料本身的異常規律。\n",
    "    #真異常:不是由於特定的業務動作引起的，而是客觀地反映了資料本身分佈異常的分佈個案。\n",
    "#異常值通常在預處理過程中被認為是噪音而剔除,以避免其對總體資料評估和分析挖掘的影響"
   ]
  },
  {
   "cell_type": "code",
   "execution_count": 3,
   "id": "interior-receipt",
   "metadata": {},
   "outputs": [],
   "source": [
    "#為什麼會出現異常值？\n",
    "    #數據輸入錯誤\n",
    "    #測量誤差\n",
    "    #故意離群:問題設計不合理或過於敏感出現的,例如在調查用戶年收入時，可能會有很多用戶故意報低或報高。\n",
    "    #抽樣錯誤\n",
    "    #自然異常值:例如在做用戶價值分析時，通常會發現前10%的用戶消費金額遠遠高於其他用戶"
   ]
  },
  {
   "cell_type": "code",
   "execution_count": 4,
   "id": "described-example",
   "metadata": {},
   "outputs": [],
   "source": [
    "#何時不做拋棄處理：\n",
    "    #異常值正常反映了真實的結果\n",
    "    \n",
    "    #異常檢測模型:異常檢測模型是針對整體樣本中的異常資料進行分析和挖掘\n",
    "        #有三大類異常檢測方法。在假設資料集中大多數實例都是正常的前提下:\n",
    "            #1.無監督異常檢測方法能通過尋找與其他資料最不匹配的實例來檢測出未標記測試資料的異常。\n",
    "            #2.監督式異常檢測方法需要一個已經被標記「正常」與「異常」的資料集，並涉及到訓練分類器\n",
    "                #(與許多其他的統計分類問題的關鍵區別是異常檢測的內在不均衡性）。\n",
    "            #3.半監督式異常檢測方法根據一個給定的正常訓練資料集建立一個表示正常行為的模型，然後檢測由學習模型生成的測試實例的可能性。\n",
    "            \n",
    "    #包容異常值的資料建模:如果資料演算法和模型對異常值不敏感，那麼即使不處理異常值也不會對模型本身造成負面影響，ex：決策樹。"
   ]
  },
  {
   "cell_type": "code",
   "execution_count": 5,
   "id": "billion-cooler",
   "metadata": {},
   "outputs": [],
   "source": [
    "#異常值的判別方法\n",
    "    #簡單統計分析: 觀察min,max, e.g.儀器量測出來的數值，超過儀器的規格。\n",
    "    #3σ 原則:若資料服從正態分佈,距離超過平均值 3σ 的樣本屬於極小概率事件,基本不存在\n",
    "    #盒鬚圖判別法:1.5*IQR之外的。 IQR = Q3-Q1\n",
    "        "
   ]
  },
  {
   "cell_type": "code",
   "execution_count": 6,
   "id": "differential-cedar",
   "metadata": {},
   "outputs": [],
   "source": [
    "#異常值的處理方法\n",
    "    #刪除異常值：若數量少直接刪除。\n",
    "    #數據轉換：縮放特徵，以減少極端值。\n",
    "    #聚類：以決策數處理。\n",
    "    #替換：若為真異常，可以替換異常值。使用均值、中位數、眾數替換方法。\n",
    "    #分離對待：如果異常值的數目比較多，分別處理與建模，最後對結果進行合併。"
   ]
  },
  {
   "cell_type": "code",
   "execution_count": 7,
   "id": "everyday-microwave",
   "metadata": {},
   "outputs": [],
   "source": [
    "train = pd.read_csv(\"Titanic_train.csv\")"
   ]
  },
  {
   "cell_type": "code",
   "execution_count": 8,
   "id": "angry-little",
   "metadata": {},
   "outputs": [
    {
     "name": "stdout",
     "output_type": "stream",
     "text": [
      "mean: 29.69911764705882\n",
      "std: 14.526497332334042\n"
     ]
    },
    {
     "name": "stderr",
     "output_type": "stream",
     "text": [
      "/Users/mac/opt/anaconda3/envs/regularenv/lib/python3.6/site-packages/seaborn/distributions.py:2557: FutureWarning: `distplot` is a deprecated function and will be removed in a future version. Please adapt your code to use either `displot` (a figure-level function with similar flexibility) or `histplot` (an axes-level function for histograms).\n",
      "  warnings.warn(msg, FutureWarning)\n"
     ]
    },
    {
     "data": {
      "text/plain": [
       "<seaborn.axisgrid.FacetGrid at 0x7fec811c3278>"
      ]
     },
     "execution_count": 8,
     "metadata": {},
     "output_type": "execute_result"
    },
    {
     "data": {
      "image/png": "[encoded data removed]",
      "text/plain": [
       "<Figure size 432x216 with 2 Axes>"
      ]
     },
     "metadata": {
      "needs_background": "light"
     },
     "output_type": "display_data"
    }
   ],
   "source": [
    "#簡單統計分析:\n",
    "\n",
    "print(f'mean: {train[\"Age\"].mean()}') #age平均\n",
    "print(f'std: {train[\"Age\"].std()}') #age標準差\n",
    "# 連續型用分布圖行來看\n",
    "g = sns.FacetGrid(train, col='Survived')#圖表基底,以survived為區隔\n",
    "g.map(sns.distplot, 'Age', kde=False)#圖表資料"
   ]
  },
  {
   "cell_type": "code",
   "execution_count": 9,
   "id": "enormous-means",
   "metadata": {
    "scrolled": true
   },
   "outputs": [
    {
     "name": "stdout",
     "output_type": "stream",
     "text": [
      "count    714.000000\n",
      "mean      29.699118\n",
      "std       14.526497\n",
      "min        0.420000\n",
      "25%       20.125000\n",
      "50%       28.000000\n",
      "75%       38.000000\n",
      "max       80.000000\n",
      "Name: Age, dtype: float64\n"
     ]
    }
   ],
   "source": [
    "print(train['Age'].describe()) #age平均"
   ]
  },
  {
   "cell_type": "code",
   "execution_count": 10,
   "id": "demonstrated-interval",
   "metadata": {
    "scrolled": true
   },
   "outputs": [
    {
     "name": "stdout",
     "output_type": "stream",
     "text": [
      "[630 851]\n",
      "用第二種方法的找出的 outlier 有哪些?\n",
      "630    80.0\n",
      "851    74.0\n",
      "Name: Age, dtype: float64\n"
     ]
    }
   ],
   "source": [
    "#3σ 原則:\n",
    "\n",
    "import numpy as np\n",
    "\n",
    "# 創建一個函數，計算在這個資料中， ys:資料，times : 幾倍標準差，找出在這樣條件下的異常值。\n",
    "def outliers_z_score(ys,times):\n",
    "    mean_y = np.mean(ys)\n",
    "    stdev_y = np.std(ys)\n",
    "    z_scores = [(y - mean_y) / stdev_y for y in ys]\n",
    "    return np.where(np.abs(z_scores) > times)#return index\n",
    "\n",
    "out_index=outliers_z_score(train['Age'],3)\n",
    "print(out_index[0])\n",
    "print(\"用第二種方法的找出的 outlier 有哪些?\")\n",
    "print(train.loc[out_index[0],'Age'])"
   ]
  },
  {
   "cell_type": "code",
   "execution_count": 11,
   "id": "becoming-advancement",
   "metadata": {},
   "outputs": [
    {
     "name": "stdout",
     "output_type": "stream",
     "text": [
      "(array([ 33,  54,  96, 116, 280, 456, 493, 630, 672, 745, 851]),)\n",
      "用第三種方法的找出的 outlier 有哪些?(1.5 倍IQR)\n",
      "33     66.0\n",
      "54     65.0\n",
      "96     71.0\n",
      "116    70.5\n",
      "280    65.0\n",
      "456    65.0\n",
      "493    71.0\n",
      "630    80.0\n",
      "672    70.0\n",
      "745    70.0\n",
      "851    74.0\n",
      "Name: Age, dtype: float64\n"
     ]
    }
   ],
   "source": [
    "#盒鬚圖判別法\n",
    "def outliers_iqr(ys,times):\n",
    "    #注意 使用 np.percentile 要去除 nan 要不然計算出來會錯誤，所以我們採用下者的程式 np.nanpercentile\n",
    "    #quartile_1, quartile_3 = np.percentile(ys, [25, 75])\n",
    "    quartile_1, quartile_3 = np.nanpercentile(ys, [25, 75])\n",
    "    iqr = quartile_3 - quartile_1\n",
    "    lower_bound = quartile_1 - (iqr * times)\n",
    "    upper_bound = quartile_3 + (iqr * times)\n",
    "    return np.where((ys > upper_bound) | (ys < lower_bound))\n",
    "\n",
    "out_index2=outliers_iqr(train['Age'],1.5)\n",
    "print(out_index2)\n",
    "print(\"用第三種方法的找出的 outlier 有哪些?(1.5 倍IQR)\")\n",
    "print(train.loc[out_index2[0],'Age'])\n",
    "\n"
   ]
  },
  {
   "cell_type": "code",
   "execution_count": 12,
   "id": "automated-hundred",
   "metadata": {},
   "outputs": [
    {
     "data": {
      "image/png": "[encoded data removed]",
      "text/plain": [
       "<Figure size 432x288 with 1 Axes>"
      ]
     },
     "metadata": {
      "needs_background": "light"
     },
     "output_type": "display_data"
    }
   ],
   "source": [
    "# 使用np.isnana(data)，找出在 age中的遺失值，然後逐位反轉，讓遺失值為 0,則可以透過索引的方式，濾掉遺失值。\n",
    "plt.boxplot(train['Age'][~np.isnan(train['Age'])],whis=2)    #作圖\n",
    "        # \"~\"轉為相反 類似 \"!\"                      #whis決定IQR的倍數 default 1.5\n",
    "plt.title('Box Plot')\n",
    "plt.show()"
   ]
  },
  {
   "cell_type": "markdown",
   "id": "handled-mobile",
   "metadata": {},
   "source": [
    "# HW"
   ]
  },
  {
   "cell_type": "code",
   "execution_count": 13,
   "id": "about-basics",
   "metadata": {},
   "outputs": [
    {
     "name": "stdout",
     "output_type": "stream",
     "text": [
      "count    891.000000\n",
      "mean      32.204208\n",
      "std       49.693429\n",
      "min        0.000000\n",
      "25%        7.910400\n",
      "50%       14.454200\n",
      "75%       31.000000\n",
      "max      512.329200\n",
      "Name: Fare, dtype: float64\n"
     ]
    },
    {
     "data": {
      "image/png": "[encoded data removed]",
      "text/plain": [
       "<Figure size 432x288 with 1 Axes>"
      ]
     },
     "metadata": {
      "needs_background": "light"
     },
     "output_type": "display_data"
    },
    {
     "data": {
      "image/png": "[encoded data removed]",
      "text/plain": [
       "<Figure size 432x288 with 1 Axes>"
      ]
     },
     "metadata": {
      "needs_background": "light"
     },
     "output_type": "display_data"
    },
    {
     "data": {
      "image/png": "[encoded data removed]",
      "text/plain": [
       "<Figure size 432x288 with 1 Axes>"
      ]
     },
     "metadata": {
      "needs_background": "light"
     },
     "output_type": "display_data"
    }
   ],
   "source": [
    "#Q1：觀察票價是否有異常值的現象？\n",
    "print(train['Fare'].describe())\n",
    "# 連續型用分布圖行來看\n",
    "for i in train['Pclass'].unique():\n",
    "    train[train['Pclass']==i]['Fare'].hist()\n",
    "    plt.title(i)\n",
    "    plt.show()"
   ]
  },
  {
   "cell_type": "code",
   "execution_count": 14,
   "id": "incident-explosion",
   "metadata": {},
   "outputs": [
    {
     "name": "stdout",
     "output_type": "stream",
     "text": [
      "[ 49 163 179]\n",
      "512.3292    3\n",
      "Name: Fare, dtype: int64\n",
      "[ 13  19  77 127 134 136 159]\n",
      "73.5    5\n",
      "65.0    2\n",
      "Name: Fare, dtype: int64\n",
      "[ 44  99 106 113 124 184 284 354 381 434 454 462 467 476]\n",
      "69.5500    7\n",
      "56.4958    7\n",
      "Name: Fare, dtype: int64\n"
     ]
    }
   ],
   "source": [
    "# 3σ\n",
    "pc1 = train[train['Pclass']==1]['Fare'].reset_index(drop=True)\n",
    "pc2 = train[train['Pclass']==2]['Fare'].reset_index(drop=True)\n",
    "pc3 = train[train['Pclass']==3]['Fare'].reset_index(drop=True)\n",
    "for i in [pc1,pc2,pc3]:\n",
    "    out_index = outliers_z_score(i,3)\n",
    "    print(out_index[0])\n",
    "    print(i[list(out_index[0])].value_counts())"
   ]
  },
  {
   "cell_type": "code",
   "execution_count": 15,
   "id": "about-bandwidth",
   "metadata": {},
   "outputs": [
    {
     "name": "stdout",
     "output_type": "stream",
     "text": [
      "[  5  17  23  49  63  69  80  88  89  97 124 134 163 165 169 176 178 179\n",
      " 182 189]\n",
      "227.5250    4\n",
      "263.0000    4\n",
      "211.3375    3\n",
      "512.3292    3\n",
      "247.5208    2\n",
      "262.3750    2\n",
      "221.7792    1\n",
      "211.5000    1\n",
      "Name: Fare, dtype: int64\n",
      "[ 13  19  77 127 134 136 159]\n",
      "73.5    5\n",
      "65.0    2\n",
      "Name: Fare, dtype: int64\n",
      "[  8  10  15  32  35  37  42  44  53  76  92  99 103 105 106 107 113 114\n",
      " 124 143 156 158 163 184 201 217 247 267 284 300 301 334 348 350 353 354\n",
      " 373 376 377 381 400 431 434 445 449 452 454 462 467 469 476 488]\n",
      "69.5500    7\n",
      "56.4958    7\n",
      "31.2750    7\n",
      "46.9000    6\n",
      "27.9000    6\n",
      "39.6875    6\n",
      "29.1250    5\n",
      "31.3875    4\n",
      "34.3750    4\n",
      "Name: Fare, dtype: int64\n"
     ]
    }
   ],
   "source": [
    "# boxplot\n",
    "for i in [pc1,pc2,pc3]:\n",
    "    out_index = outliers_iqr(i,1.5)\n",
    "    print(out_index[0])\n",
    "    print(i[list(out_index[0])].value_counts())\n"
   ]
  },
  {
   "cell_type": "code",
   "execution_count": 16,
   "id": "spoken-fleet",
   "metadata": {},
   "outputs": [],
   "source": [
    "#Q2：你覺得找出的異常需要做處理嗎？ (可以試著講出自己的想法)\n",
    "#有重複的數值出現，可能是偽異常"
   ]
  }
 ],
 "metadata": {
  "kernelspec": {
   "display_name": "regularenv",
   "language": "python",
   "name": "regularenv"
  },
  "language_info": {
   "codemirror_mode": {
    "name": "ipython",
    "version": 3
   },
   "file_extension": ".py",
   "mimetype": "text/x-python",
   "name": "python",
   "nbconvert_exporter": "python",
   "pygments_lexer": "ipython3",
   "version": "3.6.12"
  }
 },
 "nbformat": 4,
 "nbformat_minor": 5
}
