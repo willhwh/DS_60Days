{
 "cells": [
  {
   "cell_type": "code",
   "execution_count": 1,
   "id": "raised-welding",
   "metadata": {},
   "outputs": [],
   "source": [
    "#A/B test 的 5 步驟\n",
    "# 1. 確認目的\n",
    "# 2. 建立實驗（測試項目）\n",
    "# 3. 建立假設\n",
    "# 4. 隨機分配方法和時間規劃\n",
    "# 5. 實驗結果分析\n"
   ]
  },
  {
   "cell_type": "code",
   "execution_count": 2,
   "id": "opened-armor",
   "metadata": {},
   "outputs": [],
   "source": [
    "from IPython.display import Image"
   ]
  },
  {
   "cell_type": "code",
   "execution_count": 3,
   "id": "alien-evolution",
   "metadata": {},
   "outputs": [
    {
     "data": {
      "text/html": [
       "<img src=\"http://cumatrixfile.cupoy.com/00000175640A4B610000000E6375706F795F72656C656173654349/marathon/1603345870498\"/>"
      ],
      "text/plain": [
       "<IPython.core.display.Image object>"
      ]
     },
     "execution_count": 3,
     "metadata": {},
     "output_type": "execute_result"
    }
   ],
   "source": [
    "Image(url='http://cumatrixfile.cupoy.com/00000175640A4B610000000E6375706F795F72656C656173654349/marathon/1603345870498')"
   ]
  },
  {
   "cell_type": "code",
   "execution_count": 4,
   "id": "robust-catholic",
   "metadata": {},
   "outputs": [
    {
     "data": {
      "text/plain": [
       "\"\\n語法 for 雙樣本比例檢定\\n\\nstatsmodels.stats.proportion.proportions_ztest(A, B, alternative='smaller')\\n\\n\\n參數說明：\\n\\nA：兩組開信的人數\\nB：兩組的總人數\\nalternative： ‘two-sided’, ‘smaller’, ‘larger’ 分別代表雙尾檢定，左尾檢定與右尾檢定\\n\\n\\n輸出\\n\\nZ-test：檢定量\\nP-value：這樣檢定量下的 p-value 值\\n\""
      ]
     },
     "execution_count": 4,
     "metadata": {},
     "output_type": "execute_result"
    }
   ],
   "source": [
    "'''\n",
    "語法 for 雙樣本比例檢定\n",
    "\n",
    "statsmodels.stats.proportion.proportions_ztest(A, B, alternative='smaller')\n",
    "\n",
    "\n",
    "參數說明：\n",
    "\n",
    "A：兩組開信的人數\n",
    "B：兩組的總人數\n",
    "alternative： ‘two-sided’, ‘smaller’, ‘larger’ 分別代表雙尾檢定，左尾檢定與右尾檢定\n",
    "\n",
    "\n",
    "輸出\n",
    "\n",
    "Z-test：檢定量\n",
    "P-value：這樣檢定量下的 p-value 值\n",
    "'''"
   ]
  },
  {
   "cell_type": "code",
   "execution_count": 5,
   "id": "unsigned-cannon",
   "metadata": {},
   "outputs": [
    {
     "data": {
      "text/html": [
       "<img src=\"http://cumatrixfile.cupoy.com/00000175640A4B610000000E6375706F795F72656C656173654349/marathon/1603345870527\"/>"
      ],
      "text/plain": [
       "<IPython.core.display.Image object>"
      ]
     },
     "execution_count": 5,
     "metadata": {},
     "output_type": "execute_result"
    }
   ],
   "source": [
    "Image(url='http://cumatrixfile.cupoy.com/00000175640A4B610000000E6375706F795F72656C656173654349/marathon/1603345870527')"
   ]
  },
  {
   "cell_type": "code",
   "execution_count": 6,
   "id": "severe-vault",
   "metadata": {},
   "outputs": [
    {
     "data": {
      "text/plain": [
       "(-2.4999999999999996, 0.006209665325776138)"
      ]
     },
     "execution_count": 6,
     "metadata": {},
     "output_type": "execute_result"
    }
   ],
   "source": [
    "#比例檢定單樣本\n",
    "import statsmodels.stats.proportion\n",
    "A = [5,15] # 有開信的個數\n",
    "B = [50,50] #各組實驗總個數\n",
    "statsmodels.stats.proportion.proportions_ztest(A, B, alternative='smaller')"
   ]
  },
  {
   "cell_type": "code",
   "execution_count": 7,
   "id": "arranged-wesley",
   "metadata": {},
   "outputs": [],
   "source": [
    "#scipy.stats.ttest_ind 獨立雙樣本\n",
    "#scipy.stats.ttest_rel 相依雙樣本"
   ]
  },
  {
   "cell_type": "markdown",
   "id": "complicated-weapon",
   "metadata": {},
   "source": [
    "# HW"
   ]
  },
  {
   "cell_type": "code",
   "execution_count": 8,
   "id": "hollow-aurora",
   "metadata": {},
   "outputs": [
    {
     "name": "stdout",
     "output_type": "stream",
     "text": [
      "z_test_score = 4.834937784152282\n",
      "p_value = 0.9999993340635781\n"
     ]
    }
   ],
   "source": [
    "#作業 1：用 A/B test 幫工廠做決定吧\n",
    "\n",
    "\n",
    "\n",
    "#某工廠想知道兩條不同的生產線的產品不良率是否有所不同，由兩條生產線中各抽取 300 個樣本，第一組有 75 個不良品，\n",
    "# 第二組有 30 個不良品，我們可以宣稱生產線所生產出的產品不良率不相同？(以0.05 為顯著水準)？\n",
    "\n",
    "#H0: 一號生產線不良率!＝二號生產線不良率\n",
    "#H1: 一號生產線不良率＝二號生產線不良率\n",
    "\n",
    "\n",
    "\n",
    "A = [75,30] # 有開信的個數\n",
    "B = [300,300] #各組實驗總個數\n",
    "z_test_score, p_value = statsmodels.stats.proportion.proportions_ztest(A, B, alternative='smaller')\n",
    "\n",
    "\n",
    "#(提示：透過課程投影片的步驟，需思考 H0、H1 的寫法範例不同唷。)\n",
    "\n",
    "print(f'z_test_score = {z_test_score}')\n",
    "print(f'p_value = {p_value}')"
   ]
  },
  {
   "cell_type": "code",
   "execution_count": 9,
   "id": "infectious-provincial",
   "metadata": {},
   "outputs": [],
   "source": [
    "#因P_value >0.05 , 所以無證據顯示兩者不良率相同。"
   ]
  },
  {
   "cell_type": "code",
   "execution_count": 10,
   "id": "artificial-firewall",
   "metadata": {},
   "outputs": [],
   "source": [
    "#作業 2：你的工作，有需要 A/B test 幫你做決定？\n",
    "\n",
    "# 1. 確認目的\n",
    "# 確保網頁設計往觀眾喜歡的方向改進\n",
    "# 2. 建立實驗（測試項目）\n",
    "# 準備兩種網頁設計格式，分別於每天同一時段，投放給一群相同的人，從停留時間判斷，哪個方案更受歡迎\n",
    "# 3. 建立假設\n",
    "# H0: A網站閱讀時間 != B網站閱讀時間\n",
    "# H1: A網站閱讀時間 = B網站閱讀時間\n",
    "# 4. 隨機分配方法和時間規劃\n",
    "# 於每天晚上七點，將ＡＢ設計，分兩天投放給同一群人觀看，比較哪個格式更受歡迎\n",
    "# 5. 實驗結果分析\n",
    "# 若ＡＢ使觀眾停留的時間不同，則可推定，必有一個較好的設計"
   ]
  }
 ],
 "metadata": {
  "kernelspec": {
   "display_name": "regularenv",
   "language": "python",
   "name": "regularenv"
  },
  "language_info": {
   "codemirror_mode": {
    "name": "ipython",
    "version": 3
   },
   "file_extension": ".py",
   "mimetype": "text/x-python",
   "name": "python",
   "nbconvert_exporter": "python",
   "pygments_lexer": "ipython3",
   "version": "3.6.12"
  }
 },
 "nbformat": 4,
 "nbformat_minor": 5
}
