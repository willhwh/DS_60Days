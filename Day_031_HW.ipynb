{
 "cells": [
  {
   "cell_type": "code",
   "execution_count": 1,
   "id": "sound-perry",
   "metadata": {},
   "outputs": [],
   "source": [
    "from IPython.display import Image"
   ]
  },
  {
   "cell_type": "code",
   "execution_count": 2,
   "id": "efficient-russell",
   "metadata": {},
   "outputs": [],
   "source": [
    "# A/B Test\n",
    "# 主要包含三個核心概念：「隨機化的實驗」、「一個變因，兩種選擇」、「兩種樣本的假設檢定」"
   ]
  },
  {
   "cell_type": "code",
   "execution_count": 3,
   "id": "approximate-bulletin",
   "metadata": {},
   "outputs": [
    {
     "data": {
      "text/html": [
       "<img src=\"http://cumatrixfile.cupoy.com/000001755460C9F5000000076375706F795F72656C656173654349/marathon/1603345870335\"/>"
      ],
      "text/plain": [
       "<IPython.core.display.Image object>"
      ]
     },
     "execution_count": 3,
     "metadata": {},
     "output_type": "execute_result"
    }
   ],
   "source": [
    "# 假設檢定 \n",
    "Image(url='http://cumatrixfile.cupoy.com/000001755460C9F5000000076375706F795F72656C656173654349/marathon/1603345870335')"
   ]
  },
  {
   "cell_type": "markdown",
   "id": "elder-mouse",
   "metadata": {},
   "source": [
    "- 假設檢定的六個步驟：\n",
    "\n",
    "- Step1：將抽象情况數值化\n",
    "- Step2：計算 H0 為真實，我們看到實驗狀況的可能性\n",
    "- Step3：確認實驗的狀況是否罕見 \n",
    "- Step4：運用反證法，進行推論\n",
    "- Step5：計算 p 值\n",
    "- Step6：p 值和顯著水準比較，決定接受或拒絕 H0\n"
   ]
  },
  {
   "cell_type": "code",
   "execution_count": 4,
   "id": "related-zealand",
   "metadata": {},
   "outputs": [],
   "source": [
    "# 第一步！將抽象情況數值化/把抽象化的現象數量化\n",
    " \n",
    "#以 p 表示女士每杯說對的機率，X 表示 8 杯說對的杯數，則 X 從 B(8,p) 分布，透過經驗判斷，p 值要大於 0.7 才算女士真的有辨識能力，所以當 \n",
    "\n",
    "#p < 0.7 就代表兩種沖泡方式所泡出的奶茶口味截然不同；\n",
    "\n",
    "#p > 0.7 就代表兩種沖泡方式所泡出的奶茶口味相同；\n",
    "\n",
    "#透過隨機變數，把抽象化的現象數量化，從 A/B 情境轉成 H0 / H1。"
   ]
  },
  {
   "cell_type": "code",
   "execution_count": 5,
   "id": "computational-position",
   "metadata": {},
   "outputs": [],
   "source": [
    "# 第二步! 假設 p=0.7 值下，我們看到實驗狀況的可能性？\n",
    "\n",
    "#p = 0.7 為你設定的臨界值\n",
    "\n",
    "#P(X = 8) = 0.7^8 = 0.082\n",
    "\n",
    "#這時你會說，有 8% 的機率那女士會剛剛好猜中，你怎麼能篤定？\n"
   ]
  },
  {
   "cell_type": "code",
   "execution_count": 6,
   "id": "average-communist",
   "metadata": {},
   "outputs": [],
   "source": [
    "# 第三步！增加實驗數量，泡了 20 杯，女士也全都猜對\n",
    "\n",
    "# p = 0.7 為你設定的臨界值\n",
    "\n",
    "# P(X = 20) = 0.7^20 = 0.0008\n",
    "\n",
    "# 這時機率夠小了嗎？\n",
    "\n",
    "# 當機率夠小了，則就能推論這兩種沖泡方式所泡出的奶茶口味截然不同。\n"
   ]
  },
  {
   "cell_type": "code",
   "execution_count": 7,
   "id": "continuous-vector",
   "metadata": {},
   "outputs": [],
   "source": [
    "# 第四步！推論結果的理論基礎-反證法\n",
    "\n",
    "# 回想檢定 Step 2，假設 p = 0.7 值下 (當 H0 為真)，代表女士不能判斷出兩者的差異的假設前提下，20 杯都會猜中的機率很小 (不可能發生)。\n",
    "\n",
    "# P 為女士不能判斷出兩者的差異，所以Q為不可能全部猜中。\n",
    "\n",
    "# 但實驗的結果為全部猜中，- Q，所以 -P。\n",
    "\n",
    "# 得到的結論為：p > 0.7 就代表女士能判斷出兩種差異。\n",
    "\n",
    "# 由於 P → Q，只能推論到 -Q 則 -P，代表你想證明的事情，需要放置在 H1，而非 H0。\n",
    "\n",
    "# 因為我們透過邏輯判斷，推論出有足夠的證據證明 H0 不是真的，來呈現 H1「非常可能」對b"
   ]
  },
  {
   "cell_type": "code",
   "execution_count": 8,
   "id": "coated-visiting",
   "metadata": {},
   "outputs": [],
   "source": [
    "# 第五步！計算 p 值，是否有足夠的證據證明H0不是真的\n",
    "\n",
    "# 那要多小的機率，我們才判斷成不可能發生，在統計上，我們用 p 值來描述『 實際上沒有差異，卻因誤差或偶發而產生資料差距的機率 』。\n",
    "\n",
    "# p值 (p-value) 在 H0 為真下，比我們收集到的比我們資料還更極端的機率。\n",
    "\n",
    "# 通常 p 值計算出來會跟顯著水準相比，顯著水準的選擇通常為 0.1、0.05、0.005 都可，就看領域上的大家的嚴謹度來選擇，p 值越小代表越嚴謹。\n"
   ]
  },
  {
   "cell_type": "code",
   "execution_count": 9,
   "id": "formed-theory",
   "metadata": {},
   "outputs": [],
   "source": [
    "# 第六步！p 值和顯著水準比較，決定接受或拒絕 H0\n",
    "\n",
    "#以仕女喝茶為例，假設顯著水準設為 0.05，只做了 8 杯的實驗，\n",
    "    # p - value = P(X ≧ 8) = P(X = 8) = 0.7^8 = 0.082，0.082 > 0.05，\n",
    "    # 因此沒有足夠的證據，說明兩種沖泡方式所泡出的奶茶口味截然不同。\n",
    "    \n",
    "#以仕女喝茶為例，假設顯著水準設為 0.05，只做了 20 杯的實驗，\n",
    "    # p - value = P(X ≧ 20) = P(X = 20) = 0.7^20 = 0.0008，0.0008 > 0.05，\n",
    "    # 因此有足夠的證據，說明兩種沖泡方式所泡出的奶茶口味截然不同。"
   ]
  },
  {
   "cell_type": "markdown",
   "id": "gothic-alexandria",
   "metadata": {},
   "source": [
    "# HW"
   ]
  },
  {
   "cell_type": "code",
   "execution_count": 10,
   "id": "spanish-marks",
   "metadata": {},
   "outputs": [],
   "source": [
    "#定義出適當的 H0 與 H1\n",
    "\n",
    "#Q1：吃減肥藥能在一個月內瘦超過十公斤，研究人員想推翻第四台廣告業者的說法，請試著寫出 H0 與 H1。\n",
    "\n",
    "#H0: 吃減肥藥能在一個月內瘦超過十公斤\n",
    "#H1: 吃減肥藥不能在一個月內瘦超過十公斤"
   ]
  },
  {
   "cell_type": "code",
   "execution_count": 11,
   "id": "furnished-iceland",
   "metadata": {},
   "outputs": [],
   "source": [
    "#Q2：一位速食店店長認為其品牌在市場之佔有率至多為 12%，\n",
    "#於是該店長進行一個市場調查，一共訪問了 3000 位消費者，其中有311位表示喜歡該品牌，請試著寫出 H0 與 H1。\n",
    "\n",
    "#H0: 品牌在市場之佔有率> 12%\n",
    "#H1: 品牌在市場之佔有率<= 12%"
   ]
  },
  {
   "cell_type": "code",
   "execution_count": null,
   "id": "measured-booking",
   "metadata": {},
   "outputs": [],
   "source": []
  }
 ],
 "metadata": {
  "kernelspec": {
   "display_name": "regularenv",
   "language": "python",
   "name": "regularenv"
  },
  "language_info": {
   "codemirror_mode": {
    "name": "ipython",
    "version": 3
   },
   "file_extension": ".py",
   "mimetype": "text/x-python",
   "name": "python",
   "nbconvert_exporter": "python",
   "pygments_lexer": "ipython3",
   "version": "3.6.12"
  }
 },
 "nbformat": 4,
 "nbformat_minor": 5
}
