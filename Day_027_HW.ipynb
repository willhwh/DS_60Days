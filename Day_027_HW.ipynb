{
 "cells": [
  {
   "cell_type": "code",
   "execution_count": 1,
   "metadata": {},
   "outputs": [],
   "source": [
    "from IPython.display import Image\n",
    "import matplotlib.pyplot as plt\n",
    "import numpy as np\n",
    "import pandas as pd\n",
    "from scipy import stats\n",
    "import math\n",
    "import statistics"
   ]
  },
  {
   "cell_type": "code",
   "execution_count": 2,
   "metadata": {},
   "outputs": [],
   "source": [
    "# 機率分佈\n",
    "# 離散型 （可數）\n",
    "# 連續型 （不可數）"
   ]
  },
  {
   "cell_type": "code",
   "execution_count": 3,
   "metadata": {},
   "outputs": [],
   "source": [
    "# 離散型\n",
    "# 離散均勻分配( Discrete Uniform Distribution )\n",
    "            #e.g. 公正硬幣 公正骰子 當嘗試次數足夠多，出現次數會非常接近\n",
    "            \n",
    "# 伯努利分配( Bernoulli Distribution )\n",
    "            #只有兩種可能結果（成功與失敗）的單次隨機試驗\n",
    "            #P(x=1) = p , P(x=0) = 1-p\n",
    "        \n",
    "# 二項分配(Binomial Distribution)\n",
    "            #是由重複出現獨立但是相同分布的伯努利試驗組成，其 n 次結果總和，稱為二項分配。"
   ]
  },
  {
   "cell_type": "code",
   "execution_count": 4,
   "metadata": {},
   "outputs": [],
   "source": [
    "#pmf 離散隨機變數在各特定取值上的機率。\n",
    "#cdf 能完整描述一個實隨機變數X的機率分布。\n",
    "#rvs 產生符合隨機樣本點 (random sample)"
   ]
  },
  {
   "cell_type": "code",
   "execution_count": 5,
   "metadata": {},
   "outputs": [
    {
     "data": {
      "text/html": [
       "<img src=\"http://cumatrixfile.cupoy.com/000001754A8936E30000002D6375706F795F72656C656173654349/marathon/1602735561237\"/>"
      ],
      "text/plain": [
       "<IPython.core.display.Image object>"
      ]
     },
     "execution_count": 5,
     "metadata": {},
     "output_type": "execute_result"
    }
   ],
   "source": [
    "# 離散均勻分配( Discrete Uniform Distribution )\n",
    "Image(url='http://cumatrixfile.cupoy.com/000001754A8936E30000002D6375706F795F72656C656173654349/marathon/1602735561237')"
   ]
  },
  {
   "cell_type": "code",
   "execution_count": 6,
   "metadata": {},
   "outputs": [
    {
     "data": {
      "text/html": [
       "<img src=\"http://cumatrixfile.cupoy.com/000001754A8936E30000002D6375706F795F72656C656173654349/marathon/1611820869751\"/>"
      ],
      "text/plain": [
       "<IPython.core.display.Image object>"
      ]
     },
     "execution_count": 6,
     "metadata": {},
     "output_type": "execute_result"
    }
   ],
   "source": [
    "Image(url='http://cumatrixfile.cupoy.com/000001754A8936E30000002D6375706F795F72656C656173654349/marathon/1611820869751')"
   ]
  },
  {
   "cell_type": "code",
   "execution_count": 7,
   "metadata": {},
   "outputs": [
    {
     "name": "stdout",
     "output_type": "stream",
     "text": [
      "[1 2 3 4 5 6]\n",
      "[0.16666667 0.16666667 0.16666667 0.16666667 0.16666667 0.16666667]\n"
     ]
    },
    {
     "data": {
      "image/png": "[encoded data removed]",
      "text/plain": [
       "<Figure size 432x288 with 1 Axes>"
      ]
     },
     "metadata": {
      "needs_background": "light"
     },
     "output_type": "display_data"
    }
   ],
   "source": [
    "# 1.定義離散均勻分配的基本資訊\n",
    "low=1 \n",
    "high=7\n",
    "r = np.arange(low,high)\n",
    "\n",
    "\n",
    "# 2.計算離散均勻分配的概率質量分佈 (probability mass function)\n",
    "# 之所以稱為質量，是因為離散的點\n",
    "# 產生 x 軸的點\n",
    "#r = np.arange(stats.randint.ppf(0.01, low, high),\n",
    "#              stats.randint.ppf(0.99, low, high),1)\n",
    "print(r)\n",
    "# P(X=x) --> 是機率\n",
    "probs = stats.randint.pmf(r,low,high)\n",
    "print(probs)\n",
    "plt.bar(r, probs)\n",
    "plt.ylabel('P(X=x)')\n",
    "plt.xlabel('x')\n",
    "plt.title('pmf of DU(1,6)')\n",
    "plt.show()"
   ]
  },
  {
   "cell_type": "code",
   "execution_count": 8,
   "metadata": {},
   "outputs": [
    {
     "data": {
      "image/png": "[encoded data removed]",
      "text/plain": [
       "<Figure size 432x288 with 1 Axes>"
      ]
     },
     "metadata": {
      "needs_background": "light"
     },
     "output_type": "display_data"
    }
   ],
   "source": [
    "# 3.計算離散均勻分配的累積機率 (cumulative density function)，pmf 的累加\n",
    "# P(X=x) --> 是機率\n",
    "cumsum_probs = stats.randint.cdf(r, low,high)\n",
    "plt.ylabel('P(X<=x)')\n",
    "plt.xlabel('x')\n",
    "plt.title(' cdf of DU(1,6)')\n",
    "plt.plot(r, cumsum_probs)\n",
    "plt.show()"
   ]
  },
  {
   "cell_type": "code",
   "execution_count": 9,
   "metadata": {},
   "outputs": [
    {
     "name": "stdout",
     "output_type": "stream",
     "text": [
      "[1. 2. 3. 4. 5. 6.]\n"
     ]
    }
   ],
   "source": [
    "# 4.透過 cdf ，給定一個 機率值，反推出對應到的 x\n",
    "k = stats.randint.ppf(cumsum_probs , low, high)\n",
    "print(k)\n",
    "#看上圖看結果"
   ]
  },
  {
   "cell_type": "code",
   "execution_count": 10,
   "metadata": {},
   "outputs": [
    {
     "name": "stdout",
     "output_type": "stream",
     "text": [
      "[1 2 1 5 4 5 4 1 5 2 5 1 2 4 3 3 6 2 2 2]\n"
     ]
    },
    {
     "data": {
      "image/png": "[encoded data removed]",
      "text/plain": [
       "<Figure size 432x288 with 1 Axes>"
      ]
     },
     "metadata": {
      "needs_background": "light"
     },
     "output_type": "display_data"
    }
   ],
   "source": [
    "# 5.產生符合隨機樣本點 (random sample)\n",
    "X = stats.randint.rvs(low,high,size=20)\n",
    "print(X)\n",
    "plt.hist(X,bins=20)#bin  *int defines the number of equal-width binsin the range.\n",
    "plt.show()\n",
    "#試試看，，每一次的結果一樣嗎?"
   ]
  },
  {
   "cell_type": "code",
   "execution_count": 11,
   "metadata": {},
   "outputs": [
    {
     "name": "stdout",
     "output_type": "stream",
     "text": [
      "(array(3.5), array(2.91666667), array(0.), array(-1.26857143))\n",
      "<class 'tuple'>\n",
      "randint mean= 3.5\n",
      "randint variance= 2.9166666666666665\n",
      "randint kurtosis= 0.0\n",
      "randint skew= -1.2685714285714285\n"
     ]
    }
   ],
   "source": [
    "#6.計算固定參數下，隨機變數的平均數、變異數、偏度和峰度。\n",
    "stat_randint=stats.randint.stats(low,high,moments='mvks')#產生>>平均數、變異數、偏度和峰度\n",
    "print(stat_randint)\n",
    "print(type(stat_randint))\n",
    "print(\"randint mean=\",float(stat_randint[0]))\n",
    "print(\"randint variance=\",float(stat_randint[1]))\n",
    "print(\"randint kurtosis=\",float(stat_randint[2]))\n",
    "print(\"randint skew=\",float(stat_randint[3]))"
   ]
  },
  {
   "cell_type": "code",
   "execution_count": 12,
   "metadata": {
    "scrolled": true
   },
   "outputs": [
    {
     "data": {
      "text/html": [
       "<img src=\"http://cumatrixfile.cupoy.com/000001754A8936E30000002D6375706F795F72656C656173654349/marathon/1602735561253\"/>"
      ],
      "text/plain": [
       "<IPython.core.display.Image object>"
      ]
     },
     "execution_count": 12,
     "metadata": {},
     "output_type": "execute_result"
    }
   ],
   "source": [
    "# 伯努利分配( Bernoulli Distribution )\n",
    "Image(url='http://cumatrixfile.cupoy.com/000001754A8936E30000002D6375706F795F72656C656173654349/marathon/1602735561253')"
   ]
  },
  {
   "cell_type": "code",
   "execution_count": 13,
   "metadata": {},
   "outputs": [
    {
     "name": "stdout",
     "output_type": "stream",
     "text": [
      "[0.6 0.4]\n"
     ]
    },
    {
     "data": {
      "image/png": "[encoded data removed]",
      "text/plain": [
       "<Figure size 432x288 with 1 Axes>"
      ]
     },
     "metadata": {
      "needs_background": "light"
     },
     "output_type": "display_data"
    }
   ],
   "source": [
    "# ①定義伯努利分配基本資訊\n",
    "p = 0.4 # 事件A 機率 0.4\n",
    "r = np.arange(0,2) # 可以出現的範圍為 0、1,2種可能出現的結果\n",
    "\n",
    "# ②計算二項分佈的概率質量分佈 (probability mass function)\n",
    "# 之所以稱為質量，是因為離散的點\n",
    "# P(X=x) --> 是機率\n",
    "probs = stats.bernoulli.pmf(r,p)\n",
    "print(probs)\n",
    "\n",
    "plt.bar(r, probs)\n",
    "plt.ylabel('P(X=x)')\n",
    "plt.xlabel('x')\n",
    "plt.title('Bernoulli(p=0.4)')\n",
    "plt.show()"
   ]
  },
  {
   "cell_type": "code",
   "execution_count": 14,
   "metadata": {},
   "outputs": [
    {
     "data": {
      "image/png": "[encoded data removed]",
      "text/plain": [
       "<Figure size 432x288 with 1 Axes>"
      ]
     },
     "metadata": {
      "needs_background": "light"
     },
     "output_type": "display_data"
    }
   ],
   "source": [
    "# ③計算伯努利分配的累積機率 (cumulative density function)，pmf 的累加\n",
    "# P(X=x) --> 是機率\n",
    "cumsum_probs = stats.bernoulli.cdf(r,p)\n",
    "plt.ylabel('P(X<=x)')\n",
    "plt.xlabel('x')\n",
    "plt.title('bernoulli(p=0.4)')\n",
    "plt.plot(r, cumsum_probs)\n",
    "plt.show()"
   ]
  },
  {
   "cell_type": "code",
   "execution_count": 15,
   "metadata": {},
   "outputs": [
    {
     "name": "stdout",
     "output_type": "stream",
     "text": [
      "[0. 1.]\n"
     ]
    }
   ],
   "source": [
    "# ④ 透過 cdf ，給定一個 機率值，反推出對應到的 x\n",
    "p_loc = stats.bernoulli.ppf(cumsum_probs, p)\n",
    "print(p_loc)\n",
    "#看上圖看結果"
   ]
  },
  {
   "cell_type": "code",
   "execution_count": 16,
   "metadata": {},
   "outputs": [
    {
     "name": "stdout",
     "output_type": "stream",
     "text": [
      "[0 1 1 1 0 0 1 1 0 0 0 0 1 0 0 1 0 0 0 0]\n"
     ]
    },
    {
     "data": {
      "image/png": "[encoded data removed]",
      "text/plain": [
       "<Figure size 432x288 with 1 Axes>"
      ]
     },
     "metadata": {
      "needs_background": "light"
     },
     "output_type": "display_data"
    }
   ],
   "source": [
    "# ⑤產生符合伯努利分配的隨機樣本點 (random sample)\n",
    "X = stats.bernoulli.rvs(p,size=20)\n",
    "print(X)\n",
    "plt.hist(X)\n",
    "plt.show()\n",
    "#試試看，每一次的結果一樣嗎?"
   ]
  },
  {
   "cell_type": "code",
   "execution_count": 17,
   "metadata": {},
   "outputs": [
    {
     "name": "stdout",
     "output_type": "stream",
     "text": [
      "(array(0.4), array(0.24), array(0.40824829), array(-1.83333333))\n",
      "<class 'tuple'>\n",
      "bernoulli mean= 0.4\n",
      "bernoulli variance= 0.24\n",
      "bernoulli kurtosis= 0.40824829046386296\n",
      "bernoulli skew= -1.8333333333333337\n"
     ]
    }
   ],
   "source": [
    "#6.計算固定參數下，隨機變數的平均數、變異數、偏度和峰度。\n",
    "stat_ber=stats.bernoulli.stats(p,moments='mvks')# moments ='mvks' >>> 產生 Mean, Variance, Kurtosis, Skew\n",
    "print(stat_ber)\n",
    "print(type(stat_ber))\n",
    "\n",
    "print(\"bernoulli mean=\",float(stat_ber[0]))\n",
    "print(\"bernoulli variance=\",float(stat_ber[1]))\n",
    "print(\"bernoulli kurtosis=\",float(stat_ber[2]))\n",
    "print(\"bernoulli skew=\",float(stat_ber[3]))"
   ]
  },
  {
   "cell_type": "code",
   "execution_count": 18,
   "metadata": {},
   "outputs": [
    {
     "data": {
      "text/html": [
       "<img src=\"http://cumatrixfile.cupoy.com/000001754A8936E30000002D6375706F795F72656C656173654349/marathon/1602735561261\"/>"
      ],
      "text/plain": [
       "<IPython.core.display.Image object>"
      ]
     },
     "execution_count": 18,
     "metadata": {},
     "output_type": "execute_result"
    }
   ],
   "source": [
    "# 二項分配(Binomial Distribution)\n",
    "Image(url='http://cumatrixfile.cupoy.com/000001754A8936E30000002D6375706F795F72656C656173654349/marathon/1602735561261')"
   ]
  },
  {
   "cell_type": "code",
   "execution_count": 19,
   "metadata": {},
   "outputs": [
    {
     "name": "stdout",
     "output_type": "stream",
     "text": [
      "[0 1 2 3 4]\n",
      "[0.03125 0.15625 0.3125  0.3125  0.15625]\n"
     ]
    },
    {
     "data": {
      "image/png": "[encoded data removed]",
      "text/plain": [
       "<Figure size 432x288 with 1 Axes>"
      ]
     },
     "metadata": {
      "needs_background": "light"
     },
     "output_type": "display_data"
    }
   ],
   "source": [
    "'''\n",
    "# 二項分佈 (binomial distribution)\n",
    "# 前提：獨立重複試驗、有放回、只有兩個結果\n",
    "# 二項分佈指出，隨機一次試驗出現事件A的機率如果為p，那麼在重複 n 次試驗中出現 x 次事件A的機率為：\n",
    "# f(n,x,p) = choose(n, x) * p**x * (1-p)**(n-x)\n",
    "'''\n",
    "\n",
    "# 1.定義二項分佈的基本資訊\n",
    "p = 0.5 # 事件A 機率 0.5\n",
    "n = 5  # 重複實驗5次,\n",
    "r = np.arange(n) #計算出現次數\n",
    "print(r)\n",
    "\n",
    "# 2.計算二項分佈的概率質量分佈 (probability mass function)\n",
    "# 之所以稱為質量，是因為離散的點\n",
    "# P(X=x) --> 是機率\n",
    "probs = stats.binom.pmf(r, n, p)\n",
    "print(probs)\n",
    "\n",
    "plt.bar(r, probs)\n",
    "plt.ylabel('P(X=x)')\n",
    "plt.xlabel('x')\n",
    "plt.title('binomial(n=5,p=0.5)')\n",
    "plt.show()\n",
    "\n",
    "#學生額外小練習: 可以調整 p 的不同值，p接近於1 時，p=0.5, p 接近於 0時，看 pmf 的變化。"
   ]
  },
  {
   "cell_type": "code",
   "execution_count": 20,
   "metadata": {},
   "outputs": [
    {
     "name": "stdout",
     "output_type": "stream",
     "text": [
      "[0.03125 0.1875  0.5     0.8125  0.96875]\n"
     ]
    },
    {
     "data": {
      "image/png": "[encoded data removed]",
      "text/plain": [
       "<Figure size 432x288 with 1 Axes>"
      ]
     },
     "metadata": {
      "needs_background": "light"
     },
     "output_type": "display_data"
    }
   ],
   "source": [
    "# 3.計算二項分佈的累積機率 (cumulative density function)，pmf 的累加\n",
    "# 之所以稱為質量，是因為離散的點，預設體積（即寬度）為1\n",
    "# P(X=x) --> 是機率\n",
    "cumsum_probs = stats.binom.cdf(r, n, p)\n",
    "print(cumsum_probs)\n",
    "\n",
    "plt.show()\n",
    "plt.ylabel('P(X<=x)')\n",
    "plt.xlabel('x')\n",
    "plt.title('binomial(n=5,p=0.4)')\n",
    "plt.plot(r, cumsum_probs)\n",
    "plt.show()"
   ]
  },
  {
   "cell_type": "code",
   "execution_count": 21,
   "metadata": {},
   "outputs": [
    {
     "name": "stdout",
     "output_type": "stream",
     "text": [
      "[0. 1. 2. 3. 4.]\n"
     ]
    }
   ],
   "source": [
    "# 4.透過 cdf ，給定一個 機率值，反推出對應到的 x\n",
    "p_loc= stats.binom.ppf(cumsum_probs, n, p)\n",
    "print(p_loc)\n",
    "#看上圖看結果"
   ]
  },
  {
   "cell_type": "code",
   "execution_count": 22,
   "metadata": {},
   "outputs": [
    {
     "name": "stdout",
     "output_type": "stream",
     "text": [
      "[3 0 2 3 2 1 2 3 3 4 4 2 2 4 2 2 2 2 2 3]\n"
     ]
    },
    {
     "data": {
      "image/png": "[encoded data removed]",
      "text/plain": [
       "<Figure size 432x288 with 1 Axes>"
      ]
     },
     "metadata": {
      "needs_background": "light"
     },
     "output_type": "display_data"
    }
   ],
   "source": [
    "# 5.產生符合二項分佈的隨機樣本點 (random sample)\n",
    "X = stats.binom.rvs(n,p,size=20)\n",
    "print(X)\n",
    "\n",
    "plt.hist(X,bins=20)\n",
    "plt.show()\n",
    "#試試看，每一次的結果一樣嗎?"
   ]
  },
  {
   "cell_type": "code",
   "execution_count": 23,
   "metadata": {},
   "outputs": [
    {
     "name": "stdout",
     "output_type": "stream",
     "text": [
      "(array(2.5), array(1.25), array(0.), array(-0.4))\n",
      "<class 'tuple'>\n",
      "binomial mean= 2.5\n",
      "binomial variance= 1.25\n",
      "binomial kurtosis= 0.0\n",
      "binomial skew= -0.4\n"
     ]
    }
   ],
   "source": [
    "#6.計算固定參數下，隨機變數的平均數、變異數、偏度和峰度。\n",
    "stat_bin=stats.binom.stats(n,p,moments='mvks')\n",
    "print(stat_bin)\n",
    "print(type(stat_bin))\n",
    "#E(X)\n",
    "print(\"binomial mean=\",float(stat_bin[0]))\n",
    "print(\"binomial variance=\",float(stat_bin[1]))\n",
    "print(\"binomial kurtosis=\",float(stat_bin[2]))\n",
    "print(\"binomial skew=\",float(stat_bin[3]))"
   ]
  },
  {
   "cell_type": "markdown",
   "metadata": {},
   "source": [
    "# HW"
   ]
  },
  {
   "cell_type": "code",
   "execution_count": 24,
   "metadata": {},
   "outputs": [],
   "source": [
    "#丟一個銅板，丟了100次，出現正面 50 次的機率有多大。"
   ]
  },
  {
   "cell_type": "code",
   "execution_count": 25,
   "metadata": {},
   "outputs": [],
   "source": [
    "# 定義二項分佈的基本資訊\n",
    "p = 0.5 # 事件A 機率 0.5\n",
    "n = 100  # 重複實驗100次,\n",
    "r = np.arange(0,2) "
   ]
  },
  {
   "cell_type": "code",
   "execution_count": 26,
   "metadata": {},
   "outputs": [
    {
     "name": "stdout",
     "output_type": "stream",
     "text": [
      "[45 42 45 ... 46 47 51]\n"
     ]
    },
    {
     "data": {
      "image/png": "[encoded data removed]",
      "text/plain": [
       "<Figure size 432x288 with 1 Axes>"
      ]
     },
     "metadata": {
      "needs_background": "light"
     },
     "output_type": "display_data"
    }
   ],
   "source": [
    "# 產生符合二項分佈的隨機樣本點 (random sample)\n",
    "X = stats.binom.rvs(n,p,size=1000000)\n",
    "print(X)\n",
    "\n",
    "plt.hist(X,bins=20)\n",
    "plt.show()"
   ]
  },
  {
   "cell_type": "code",
   "execution_count": 27,
   "metadata": {},
   "outputs": [
    {
     "data": {
      "text/plain": [
       "0.079969"
      ]
     },
     "execution_count": 27,
     "metadata": {},
     "output_type": "execute_result"
    }
   ],
   "source": [
    "count=0\n",
    "for i in X:\n",
    "    if i==50:\n",
    "        count+=1\n",
    "count/1000000"
   ]
  },
  {
   "cell_type": "code",
   "execution_count": 28,
   "metadata": {},
   "outputs": [
    {
     "data": {
      "text/plain": [
       "7.888609052210118e-31"
      ]
     },
     "execution_count": 28,
     "metadata": {},
     "output_type": "execute_result"
    }
   ],
   "source": [
    "((1/2)**50)*((1/2)**50)"
   ]
  },
  {
   "cell_type": "markdown",
   "metadata": {},
   "source": [
    "# ANS"
   ]
  },
  {
   "cell_type": "code",
   "execution_count": 29,
   "metadata": {},
   "outputs": [
    {
     "name": "stdout",
     "output_type": "stream",
     "text": [
      "0.07958923738717888\n"
     ]
    }
   ],
   "source": [
    "# 這是 bermoulli分配\n",
    "p = 0.5 # 假設是公平硬幣\n",
    "n = 100  # 重複實驗 100次,\n",
    "r = 50 # 計算出現50次正面\n",
    "\n",
    "\n",
    "# 2.計算二項分佈的概率質量分佈 (probability mass function)\n",
    "# 之所以稱為質量，是因為離散的點\n",
    "# P(X=x) --> 是機率\n",
    "probs = stats.binom.pmf(r, n, p)\n",
    "print(probs)"
   ]
  },
  {
   "cell_type": "code",
   "execution_count": null,
   "metadata": {},
   "outputs": [],
   "source": []
  }
 ],
 "metadata": {
  "kernelspec": {
   "display_name": "regularenv",
   "language": "python",
   "name": "regularenv"
  },
  "language_info": {
   "codemirror_mode": {
    "name": "ipython",
    "version": 3
   },
   "file_extension": ".py",
   "mimetype": "text/x-python",
   "name": "python",
   "nbconvert_exporter": "python",
   "pygments_lexer": "ipython3",
   "version": "3.6.12"
  }
 },
 "nbformat": 4,
 "nbformat_minor": 4
}
