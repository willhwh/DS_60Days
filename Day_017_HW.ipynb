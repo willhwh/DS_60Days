{
 "cells": [
  {
   "cell_type": "code",
   "execution_count": 1,
   "metadata": {},
   "outputs": [],
   "source": [
    "import pandas as pd\n",
    "from IPython.display import Image"
   ]
  },
  {
   "cell_type": "code",
   "execution_count": 2,
   "metadata": {},
   "outputs": [
    {
     "data": {
      "text/html": [
       "<img src=\"http://cumatrixfile.cupoy.com/00000176E0F9E0F50000001A6375706F795F72656C656173654349/marathon/1610076223267\"/>"
      ],
      "text/plain": [
       "<IPython.core.display.Image object>"
      ]
     },
     "execution_count": 2,
     "metadata": {},
     "output_type": "execute_result"
    }
   ],
   "source": [
    "# 採用 pkl 格式較快\n",
    "Image(url='http://cumatrixfile.cupoy.com/00000176E0F9E0F50000001A6375706F795F72656C656173654349/marathon/1610076223267')\n"
   ]
  },
  {
   "cell_type": "code",
   "execution_count": 3,
   "metadata": {},
   "outputs": [
    {
     "data": {
      "text/html": [
       "<img src=\"http://cumatrixfile.cupoy.com/00000176E0F9E0F50000001A6375706F795F72656C656173654349/marathon/1610076223262\"/>"
      ],
      "text/plain": [
       "<IPython.core.display.Image object>"
      ]
     },
     "execution_count": 3,
     "metadata": {},
     "output_type": "execute_result"
    }
   ],
   "source": [
    "# 勁量使用 .agg 進行運算\n",
    "# 如果非得需要用到自己的函式，那盡量使用 agg 會比 transform 來的快速\n",
    "Image(url='http://cumatrixfile.cupoy.com/00000176E0F9E0F50000001A6375706F795F72656C656173654349/marathon/1610076223262')"
   ]
  },
  {
   "cell_type": "code",
   "execution_count": 4,
   "metadata": {},
   "outputs": [
    {
     "data": {
      "text/html": [
       "<img src=\"http://cumatrixfile.cupoy.com/00000176E0F9E0F50000001A6375706F795F72656C656173654349/marathon/1610076223263\"/>"
      ],
      "text/plain": [
       "<IPython.core.display.Image object>"
      ]
     },
     "execution_count": 4,
     "metadata": {},
     "output_type": "execute_result"
    }
   ],
   "source": [
    "# 比較運算\n",
    "# 使用.apply()或使用 .isin()較快\n",
    "Image(url='http://cumatrixfile.cupoy.com/00000176E0F9E0F50000001A6375706F795F72656C656173654349/marathon/1610076223263')"
   ]
  },
  {
   "cell_type": "code",
   "execution_count": 5,
   "metadata": {},
   "outputs": [
    {
     "data": {
      "text/html": [
       "<img src=\"http://cumatrixfile.cupoy.com/00000176E0F9E0F50000001A6375706F795F72656C656173654349/marathon/1610076223265\"/>"
      ],
      "text/plain": [
       "<IPython.core.display.Image object>"
      ]
     },
     "execution_count": 5,
     "metadata": {},
     "output_type": "execute_result"
    }
   ],
   "source": [
    "#downcast\n",
    "\n",
    "\n",
    "#將整數型態 int 改成 uint 減少記憶體正用空間\n",
    "Image(url='http://cumatrixfile.cupoy.com/00000176E0F9E0F50000001A6375706F795F72656C656173654349/marathon/1610076223265')"
   ]
  },
  {
   "cell_type": "code",
   "execution_count": 6,
   "metadata": {},
   "outputs": [
    {
     "data": {
      "text/html": [
       "<img src=\"http://cumatrixfile.cupoy.com/00000176E0F9E0F50000001A6375706F795F72656C656173654349/marathon/1610076223266\"/>"
      ],
      "text/plain": [
       "<IPython.core.display.Image object>"
      ]
     },
     "execution_count": 6,
     "metadata": {},
     "output_type": "execute_result"
    }
   ],
   "source": [
    "#將浮點數型態 float64 改成 float32 減少記憶體正用空間\n",
    "Image(url='http://cumatrixfile.cupoy.com/00000176E0F9E0F50000001A6375706F795F72656C656173654349/marathon/1610076223266')"
   ]
  },
  {
   "cell_type": "markdown",
   "metadata": {},
   "source": [
    "# HW"
   ]
  },
  {
   "cell_type": "code",
   "execution_count": 7,
   "metadata": {},
   "outputs": [],
   "source": [
    "#題目 : \n",
    "\n",
    "#在速度較慢的時候，可以先從哪邊開始檢查？\n",
    "\n",
    "#從檔案格式"
   ]
  },
  {
   "cell_type": "code",
   "execution_count": 8,
   "metadata": {},
   "outputs": [],
   "source": [
    "#資料過大時應採取什麼方式讓記憶體占用量下降？\n",
    "\n",
    "#使用downcast 降低記憶體佔用量\n",
    "#int downcast='unsigned'\n",
    "#float downcast ='float'"
   ]
  },
  {
   "cell_type": "code",
   "execution_count": null,
   "metadata": {},
   "outputs": [],
   "source": []
  }
 ],
 "metadata": {
  "kernelspec": {
   "display_name": "Python 3",
   "language": "python",
   "name": "python3"
  },
  "language_info": {
   "codemirror_mode": {
    "name": "ipython",
    "version": 3
   },
   "file_extension": ".py",
   "mimetype": "text/x-python",
   "name": "python",
   "nbconvert_exporter": "python",
   "pygments_lexer": "ipython3",
   "version": "3.7.1"
  }
 },
 "nbformat": 4,
 "nbformat_minor": 2
}
