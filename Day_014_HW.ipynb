{
 "cells": [
  {
   "cell_type": "code",
   "execution_count": 1,
   "metadata": {},
   "outputs": [],
   "source": [
    "import pandas as pd\n",
    "from IPython.display import Image"
   ]
  },
  {
   "cell_type": "code",
   "execution_count": 2,
   "metadata": {},
   "outputs": [
    {
     "data": {
      "text/html": [
       "<img src=\"http://cumatrixfile.cupoy.com/00000176E0D6D95C000000176375706F795F72656C656173654349/marathon/1610076223216\"/>"
      ],
      "text/plain": [
       "<IPython.core.display.Image object>"
      ]
     },
     "execution_count": 2,
     "metadata": {},
     "output_type": "execute_result"
    }
   ],
   "source": [
    "#欄位轉索引\n",
    "# .stack() 會由最內層的欄位開始轉換\n",
    "#此處為 type > subject\n",
    "Image(url='http://cumatrixfile.cupoy.com/00000176E0D6D95C000000176375706F795F72656C656173654349/marathon/1610076223216')"
   ]
  },
  {
   "cell_type": "code",
   "execution_count": 3,
   "metadata": {},
   "outputs": [
    {
     "data": {
      "text/html": [
       "<img src=\"https://lh5.googleusercontent.com/cCvUin5eLdLVnVlZvUBsTmo9Ks8u-23ESbJ8RKc7QxlxR_3rGHsQu8A0VWgb4-XRv43ZR_jKuR2PLTMlCVhsvHqn2H_ZpiazfTsdhizq09YmiSGeVXr0L5rgJ2Bk6gqel4t9LTlFg7E?t=1612235801543\"/>"
      ],
      "text/plain": [
       "<IPython.core.display.Image object>"
      ]
     },
     "execution_count": 3,
     "metadata": {},
     "output_type": "execute_result"
    }
   ],
   "source": [
    "Image(url='https://lh5.googleusercontent.com/cCvUin5eLdLVnVlZvUBsTmo9Ks8u-23ESbJ8RKc7QxlxR_3rGHsQu8A0VWgb4-XRv43ZR_jKuR2PLTMlCVhsvHqn2H_ZpiazfTsdhizq09YmiSGeVXr0L5rgJ2Bk6gqel4t9LTlFg7E?t=1612235801543')"
   ]
  },
  {
   "cell_type": "code",
   "execution_count": 4,
   "metadata": {},
   "outputs": [
    {
     "data": {
      "text/html": [
       "<img src=\"http://cumatrixfile.cupoy.com/00000176E0D6D95C000000176375706F795F72656C656173654349/marathon/1610076223217\"/>"
      ],
      "text/plain": [
       "<IPython.core.display.Image object>"
      ]
     },
     "execution_count": 4,
     "metadata": {},
     "output_type": "execute_result"
    }
   ],
   "source": [
    "#索引轉欄位\n",
    "#.unstack()\n",
    "#會由最內層開始轉換\n",
    "Image(url='http://cumatrixfile.cupoy.com/00000176E0D6D95C000000176375706F795F72656C656173654349/marathon/1610076223217')"
   ]
  },
  {
   "cell_type": "code",
   "execution_count": 5,
   "metadata": {},
   "outputs": [
    {
     "data": {
      "text/html": [
       "<img src=\"http://cumatrixfile.cupoy.com/00000176E0D6D95C000000176375706F795F72656C656173654349/marathon/1610076223218\"/>"
      ],
      "text/plain": [
       "<IPython.core.display.Image object>"
      ]
     },
     "execution_count": 5,
     "metadata": {},
     "output_type": "execute_result"
    }
   ],
   "source": [
    "#原索引為 year、visit，會先由 visit 轉換過去欄位\n",
    "Image(url='http://cumatrixfile.cupoy.com/00000176E0D6D95C000000176375706F795F72656C656173654349/marathon/1610076223218')"
   ]
  },
  {
   "cell_type": "code",
   "execution_count": 6,
   "metadata": {},
   "outputs": [
    {
     "data": {
      "text/html": [
       "<img src=\"http://cumatrixfile.cupoy.com/00000176E0D6D95C000000176375706F795F72656C656173654349/marathon/1610076223220\"/>"
      ],
      "text/plain": [
       "<IPython.core.display.Image object>"
      ]
     },
     "execution_count": 6,
     "metadata": {},
     "output_type": "execute_result"
    }
   ],
   "source": [
    "#欄位名稱轉為欄位值\n",
    "#.melt(id_vars=None,value_vars=None)\n",
    "#id_vars：不需要被轉換的列名 (保留的欄位)\n",
    "#value_vars：需要轉換的列名，如果剩下的列全部都要轉換，就不用寫了。\n",
    "Image(url='http://cumatrixfile.cupoy.com/00000176E0D6D95C000000176375706F795F72656C656173654349/marathon/1610076223220')"
   ]
  },
  {
   "cell_type": "code",
   "execution_count": 7,
   "metadata": {},
   "outputs": [
    {
     "data": {
      "text/html": [
       "<img src=\"http://cumatrixfile.cupoy.com/00000176E0D6D95C000000176375706F795F72656C656173654349/marathon/1610076223221\"/>"
      ],
      "text/plain": [
       "<IPython.core.display.Image object>"
      ]
     },
     "execution_count": 7,
     "metadata": {},
     "output_type": "execute_result"
    }
   ],
   "source": [
    "#保留的欄位不轉換\n",
    "Image(url='http://cumatrixfile.cupoy.com/00000176E0D6D95C000000176375706F795F72656C656173654349/marathon/1610076223221')"
   ]
  },
  {
   "cell_type": "code",
   "execution_count": 8,
   "metadata": {},
   "outputs": [
    {
     "data": {
      "text/html": [
       "<img src=\"http://cumatrixfile.cupoy.com/00000176E0D6D95C000000176375706F795F72656C656173654349/marathon/1610076223222\"/>"
      ],
      "text/plain": [
       "<IPython.core.display.Image object>"
      ]
     },
     "execution_count": 8,
     "metadata": {},
     "output_type": "execute_result"
    }
   ],
   "source": [
    "#選取轉換欄位\n",
    "Image(url='http://cumatrixfile.cupoy.com/00000176E0D6D95C000000176375706F795F72656C656173654349/marathon/1610076223222')"
   ]
  },
  {
   "cell_type": "code",
   "execution_count": 9,
   "metadata": {},
   "outputs": [],
   "source": [
    "#重新組織資料\n",
    "#.pivot(index=None,columns=None,values=None)\n",
    "#index：新資料的索引名稱\n",
    "#columns：新資料的欄位名稱\n",
    "#values：新資料的值名稱\n",
    "\n",
    "\n",
    "#!!!!!! use .pviot_table instead"
   ]
  },
  {
   "cell_type": "code",
   "execution_count": 10,
   "metadata": {},
   "outputs": [
    {
     "data": {
      "text/html": [
       "<img src=\"http://cumatrixfile.cupoy.com/00000176E0D6D95C000000176375706F795F72656C656173654349/marathon/1610076223223\"/>"
      ],
      "text/plain": [
       "<IPython.core.display.Image object>"
      ]
     },
     "execution_count": 10,
     "metadata": {},
     "output_type": "execute_result"
    }
   ],
   "source": [
    "Image(url='http://cumatrixfile.cupoy.com/00000176E0D6D95C000000176375706F795F72656C656173654349/marathon/1610076223223')"
   ]
  },
  {
   "cell_type": "code",
   "execution_count": 11,
   "metadata": {},
   "outputs": [
    {
     "data": {
      "text/html": [
       "<img src=\"http://cumatrixfile.cupoy.com/00000176E0D6D95C000000176375706F795F72656C656173654349/marathon/1610076223224\"/>"
      ],
      "text/plain": [
       "<IPython.core.display.Image object>"
      ]
     },
     "execution_count": 11,
     "metadata": {},
     "output_type": "execute_result"
    }
   ],
   "source": [
    "Image(url='http://cumatrixfile.cupoy.com/00000176E0D6D95C000000176375706F795F72656C656173654349/marathon/1610076223224')"
   ]
  },
  {
   "cell_type": "code",
   "execution_count": 12,
   "metadata": {},
   "outputs": [
    {
     "data": {
      "text/html": [
       "<img src=\"http://cumatrixfile.cupoy.com/00000176E0D6D95C000000176375706F795F72656C656173654349/marathon/1610076223225\"/>"
      ],
      "text/plain": [
       "<IPython.core.display.Image object>"
      ]
     },
     "execution_count": 12,
     "metadata": {},
     "output_type": "execute_result"
    }
   ],
   "source": [
    "Image(url='http://cumatrixfile.cupoy.com/00000176E0D6D95C000000176375706F795F72656C656173654349/marathon/1610076223225')"
   ]
  },
  {
   "cell_type": "markdown",
   "metadata": {},
   "source": [
    "# HW"
   ]
  },
  {
   "cell_type": "code",
   "execution_count": 13,
   "metadata": {},
   "outputs": [],
   "source": [
    "#題目 : 運用下列分數資料重新建構資料，將索引(index)依序改為sex、class、student_id，\n",
    "#欄位依序改成chinese_score、english_score、math_score\n",
    "\n",
    "score_df = pd.DataFrame([[1,50,80,70,'boy',1],[2,60,45,50,'boy',2],\n",
    "                         [3,98,43,55,'boy',1],[4,70,69,89,'boy',2],\n",
    "                         [5,56,79,60,'girl',1],[6,60,68,55,'girl',2],\n",
    "                         [7,45,70,77,'girl',1],[8,55,77,76,'girl',2],\n",
    "                         [9,25,57,60,'girl',1],[10,88,40,43,'girl',3],\n",
    "                         [11,25,60,45,'boy',3],[12,80,60,23,'boy',3],\n",
    "                         [13,20,90,66,'girl',3],[14,50,50,50,'girl',3],\n",
    "                         [15,89,67,77,'girl',3]],\n",
    "                        columns=['student_id','math_score','english_score','chinese_score','sex','class'])"
   ]
  },
  {
   "cell_type": "code",
   "execution_count": 14,
   "metadata": {},
   "outputs": [
    {
     "data": {
      "text/html": [
       "<div>\n",
       "<style scoped>\n",
       "    .dataframe tbody tr th:only-of-type {\n",
       "        vertical-align: middle;\n",
       "    }\n",
       "\n",
       "    .dataframe tbody tr th {\n",
       "        vertical-align: top;\n",
       "    }\n",
       "\n",
       "    .dataframe thead th {\n",
       "        text-align: right;\n",
       "    }\n",
       "</style>\n",
       "<table border=\"1\" class=\"dataframe\">\n",
       "  <thead>\n",
       "    <tr style=\"text-align: right;\">\n",
       "      <th></th>\n",
       "      <th>student_id</th>\n",
       "      <th>math_score</th>\n",
       "      <th>english_score</th>\n",
       "      <th>chinese_score</th>\n",
       "      <th>sex</th>\n",
       "      <th>class</th>\n",
       "    </tr>\n",
       "  </thead>\n",
       "  <tbody>\n",
       "    <tr>\n",
       "      <th>0</th>\n",
       "      <td>1</td>\n",
       "      <td>50</td>\n",
       "      <td>80</td>\n",
       "      <td>70</td>\n",
       "      <td>boy</td>\n",
       "      <td>1</td>\n",
       "    </tr>\n",
       "    <tr>\n",
       "      <th>1</th>\n",
       "      <td>2</td>\n",
       "      <td>60</td>\n",
       "      <td>45</td>\n",
       "      <td>50</td>\n",
       "      <td>boy</td>\n",
       "      <td>2</td>\n",
       "    </tr>\n",
       "    <tr>\n",
       "      <th>2</th>\n",
       "      <td>3</td>\n",
       "      <td>98</td>\n",
       "      <td>43</td>\n",
       "      <td>55</td>\n",
       "      <td>boy</td>\n",
       "      <td>1</td>\n",
       "    </tr>\n",
       "    <tr>\n",
       "      <th>3</th>\n",
       "      <td>4</td>\n",
       "      <td>70</td>\n",
       "      <td>69</td>\n",
       "      <td>89</td>\n",
       "      <td>boy</td>\n",
       "      <td>2</td>\n",
       "    </tr>\n",
       "    <tr>\n",
       "      <th>4</th>\n",
       "      <td>5</td>\n",
       "      <td>56</td>\n",
       "      <td>79</td>\n",
       "      <td>60</td>\n",
       "      <td>girl</td>\n",
       "      <td>1</td>\n",
       "    </tr>\n",
       "  </tbody>\n",
       "</table>\n",
       "</div>"
      ],
      "text/plain": [
       "   student_id  math_score  english_score  chinese_score   sex  class\n",
       "0           1          50             80             70   boy      1\n",
       "1           2          60             45             50   boy      2\n",
       "2           3          98             43             55   boy      1\n",
       "3           4          70             69             89   boy      2\n",
       "4           5          56             79             60  girl      1"
      ]
     },
     "execution_count": 14,
     "metadata": {},
     "output_type": "execute_result"
    }
   ],
   "source": [
    "score_df.head()"
   ]
  },
  {
   "cell_type": "code",
   "execution_count": 15,
   "metadata": {},
   "outputs": [
    {
     "data": {
      "text/html": [
       "<div>\n",
       "<style scoped>\n",
       "    .dataframe tbody tr th:only-of-type {\n",
       "        vertical-align: middle;\n",
       "    }\n",
       "\n",
       "    .dataframe tbody tr th {\n",
       "        vertical-align: top;\n",
       "    }\n",
       "\n",
       "    .dataframe thead th {\n",
       "        text-align: right;\n",
       "    }\n",
       "</style>\n",
       "<table border=\"1\" class=\"dataframe\">\n",
       "  <thead>\n",
       "    <tr style=\"text-align: right;\">\n",
       "      <th></th>\n",
       "      <th>sex</th>\n",
       "      <th>class</th>\n",
       "      <th>student_id</th>\n",
       "      <th>variable</th>\n",
       "      <th>value</th>\n",
       "    </tr>\n",
       "  </thead>\n",
       "  <tbody>\n",
       "    <tr>\n",
       "      <th>0</th>\n",
       "      <td>boy</td>\n",
       "      <td>1</td>\n",
       "      <td>1</td>\n",
       "      <td>chinese_score</td>\n",
       "      <td>70</td>\n",
       "    </tr>\n",
       "    <tr>\n",
       "      <th>1</th>\n",
       "      <td>boy</td>\n",
       "      <td>2</td>\n",
       "      <td>2</td>\n",
       "      <td>chinese_score</td>\n",
       "      <td>50</td>\n",
       "    </tr>\n",
       "    <tr>\n",
       "      <th>2</th>\n",
       "      <td>boy</td>\n",
       "      <td>1</td>\n",
       "      <td>3</td>\n",
       "      <td>chinese_score</td>\n",
       "      <td>55</td>\n",
       "    </tr>\n",
       "    <tr>\n",
       "      <th>3</th>\n",
       "      <td>boy</td>\n",
       "      <td>2</td>\n",
       "      <td>4</td>\n",
       "      <td>chinese_score</td>\n",
       "      <td>89</td>\n",
       "    </tr>\n",
       "    <tr>\n",
       "      <th>4</th>\n",
       "      <td>girl</td>\n",
       "      <td>1</td>\n",
       "      <td>5</td>\n",
       "      <td>chinese_score</td>\n",
       "      <td>60</td>\n",
       "    </tr>\n",
       "    <tr>\n",
       "      <th>5</th>\n",
       "      <td>girl</td>\n",
       "      <td>2</td>\n",
       "      <td>6</td>\n",
       "      <td>chinese_score</td>\n",
       "      <td>55</td>\n",
       "    </tr>\n",
       "    <tr>\n",
       "      <th>6</th>\n",
       "      <td>girl</td>\n",
       "      <td>1</td>\n",
       "      <td>7</td>\n",
       "      <td>chinese_score</td>\n",
       "      <td>77</td>\n",
       "    </tr>\n",
       "    <tr>\n",
       "      <th>7</th>\n",
       "      <td>girl</td>\n",
       "      <td>2</td>\n",
       "      <td>8</td>\n",
       "      <td>chinese_score</td>\n",
       "      <td>76</td>\n",
       "    </tr>\n",
       "    <tr>\n",
       "      <th>8</th>\n",
       "      <td>girl</td>\n",
       "      <td>1</td>\n",
       "      <td>9</td>\n",
       "      <td>chinese_score</td>\n",
       "      <td>60</td>\n",
       "    </tr>\n",
       "    <tr>\n",
       "      <th>9</th>\n",
       "      <td>girl</td>\n",
       "      <td>3</td>\n",
       "      <td>10</td>\n",
       "      <td>chinese_score</td>\n",
       "      <td>43</td>\n",
       "    </tr>\n",
       "    <tr>\n",
       "      <th>10</th>\n",
       "      <td>boy</td>\n",
       "      <td>3</td>\n",
       "      <td>11</td>\n",
       "      <td>chinese_score</td>\n",
       "      <td>45</td>\n",
       "    </tr>\n",
       "    <tr>\n",
       "      <th>11</th>\n",
       "      <td>boy</td>\n",
       "      <td>3</td>\n",
       "      <td>12</td>\n",
       "      <td>chinese_score</td>\n",
       "      <td>23</td>\n",
       "    </tr>\n",
       "    <tr>\n",
       "      <th>12</th>\n",
       "      <td>girl</td>\n",
       "      <td>3</td>\n",
       "      <td>13</td>\n",
       "      <td>chinese_score</td>\n",
       "      <td>66</td>\n",
       "    </tr>\n",
       "    <tr>\n",
       "      <th>13</th>\n",
       "      <td>girl</td>\n",
       "      <td>3</td>\n",
       "      <td>14</td>\n",
       "      <td>chinese_score</td>\n",
       "      <td>50</td>\n",
       "    </tr>\n",
       "    <tr>\n",
       "      <th>14</th>\n",
       "      <td>girl</td>\n",
       "      <td>3</td>\n",
       "      <td>15</td>\n",
       "      <td>chinese_score</td>\n",
       "      <td>77</td>\n",
       "    </tr>\n",
       "    <tr>\n",
       "      <th>15</th>\n",
       "      <td>boy</td>\n",
       "      <td>1</td>\n",
       "      <td>1</td>\n",
       "      <td>english_score</td>\n",
       "      <td>80</td>\n",
       "    </tr>\n",
       "    <tr>\n",
       "      <th>16</th>\n",
       "      <td>boy</td>\n",
       "      <td>2</td>\n",
       "      <td>2</td>\n",
       "      <td>english_score</td>\n",
       "      <td>45</td>\n",
       "    </tr>\n",
       "    <tr>\n",
       "      <th>17</th>\n",
       "      <td>boy</td>\n",
       "      <td>1</td>\n",
       "      <td>3</td>\n",
       "      <td>english_score</td>\n",
       "      <td>43</td>\n",
       "    </tr>\n",
       "    <tr>\n",
       "      <th>18</th>\n",
       "      <td>boy</td>\n",
       "      <td>2</td>\n",
       "      <td>4</td>\n",
       "      <td>english_score</td>\n",
       "      <td>69</td>\n",
       "    </tr>\n",
       "    <tr>\n",
       "      <th>19</th>\n",
       "      <td>girl</td>\n",
       "      <td>1</td>\n",
       "      <td>5</td>\n",
       "      <td>english_score</td>\n",
       "      <td>79</td>\n",
       "    </tr>\n",
       "    <tr>\n",
       "      <th>20</th>\n",
       "      <td>girl</td>\n",
       "      <td>2</td>\n",
       "      <td>6</td>\n",
       "      <td>english_score</td>\n",
       "      <td>68</td>\n",
       "    </tr>\n",
       "    <tr>\n",
       "      <th>21</th>\n",
       "      <td>girl</td>\n",
       "      <td>1</td>\n",
       "      <td>7</td>\n",
       "      <td>english_score</td>\n",
       "      <td>70</td>\n",
       "    </tr>\n",
       "    <tr>\n",
       "      <th>22</th>\n",
       "      <td>girl</td>\n",
       "      <td>2</td>\n",
       "      <td>8</td>\n",
       "      <td>english_score</td>\n",
       "      <td>77</td>\n",
       "    </tr>\n",
       "    <tr>\n",
       "      <th>23</th>\n",
       "      <td>girl</td>\n",
       "      <td>1</td>\n",
       "      <td>9</td>\n",
       "      <td>english_score</td>\n",
       "      <td>57</td>\n",
       "    </tr>\n",
       "    <tr>\n",
       "      <th>24</th>\n",
       "      <td>girl</td>\n",
       "      <td>3</td>\n",
       "      <td>10</td>\n",
       "      <td>english_score</td>\n",
       "      <td>40</td>\n",
       "    </tr>\n",
       "    <tr>\n",
       "      <th>25</th>\n",
       "      <td>boy</td>\n",
       "      <td>3</td>\n",
       "      <td>11</td>\n",
       "      <td>english_score</td>\n",
       "      <td>60</td>\n",
       "    </tr>\n",
       "    <tr>\n",
       "      <th>26</th>\n",
       "      <td>boy</td>\n",
       "      <td>3</td>\n",
       "      <td>12</td>\n",
       "      <td>english_score</td>\n",
       "      <td>60</td>\n",
       "    </tr>\n",
       "    <tr>\n",
       "      <th>27</th>\n",
       "      <td>girl</td>\n",
       "      <td>3</td>\n",
       "      <td>13</td>\n",
       "      <td>english_score</td>\n",
       "      <td>90</td>\n",
       "    </tr>\n",
       "    <tr>\n",
       "      <th>28</th>\n",
       "      <td>girl</td>\n",
       "      <td>3</td>\n",
       "      <td>14</td>\n",
       "      <td>english_score</td>\n",
       "      <td>50</td>\n",
       "    </tr>\n",
       "    <tr>\n",
       "      <th>29</th>\n",
       "      <td>girl</td>\n",
       "      <td>3</td>\n",
       "      <td>15</td>\n",
       "      <td>english_score</td>\n",
       "      <td>67</td>\n",
       "    </tr>\n",
       "    <tr>\n",
       "      <th>30</th>\n",
       "      <td>boy</td>\n",
       "      <td>1</td>\n",
       "      <td>1</td>\n",
       "      <td>math_score</td>\n",
       "      <td>50</td>\n",
       "    </tr>\n",
       "    <tr>\n",
       "      <th>31</th>\n",
       "      <td>boy</td>\n",
       "      <td>2</td>\n",
       "      <td>2</td>\n",
       "      <td>math_score</td>\n",
       "      <td>60</td>\n",
       "    </tr>\n",
       "    <tr>\n",
       "      <th>32</th>\n",
       "      <td>boy</td>\n",
       "      <td>1</td>\n",
       "      <td>3</td>\n",
       "      <td>math_score</td>\n",
       "      <td>98</td>\n",
       "    </tr>\n",
       "    <tr>\n",
       "      <th>33</th>\n",
       "      <td>boy</td>\n",
       "      <td>2</td>\n",
       "      <td>4</td>\n",
       "      <td>math_score</td>\n",
       "      <td>70</td>\n",
       "    </tr>\n",
       "    <tr>\n",
       "      <th>34</th>\n",
       "      <td>girl</td>\n",
       "      <td>1</td>\n",
       "      <td>5</td>\n",
       "      <td>math_score</td>\n",
       "      <td>56</td>\n",
       "    </tr>\n",
       "    <tr>\n",
       "      <th>35</th>\n",
       "      <td>girl</td>\n",
       "      <td>2</td>\n",
       "      <td>6</td>\n",
       "      <td>math_score</td>\n",
       "      <td>60</td>\n",
       "    </tr>\n",
       "    <tr>\n",
       "      <th>36</th>\n",
       "      <td>girl</td>\n",
       "      <td>1</td>\n",
       "      <td>7</td>\n",
       "      <td>math_score</td>\n",
       "      <td>45</td>\n",
       "    </tr>\n",
       "    <tr>\n",
       "      <th>37</th>\n",
       "      <td>girl</td>\n",
       "      <td>2</td>\n",
       "      <td>8</td>\n",
       "      <td>math_score</td>\n",
       "      <td>55</td>\n",
       "    </tr>\n",
       "    <tr>\n",
       "      <th>38</th>\n",
       "      <td>girl</td>\n",
       "      <td>1</td>\n",
       "      <td>9</td>\n",
       "      <td>math_score</td>\n",
       "      <td>25</td>\n",
       "    </tr>\n",
       "    <tr>\n",
       "      <th>39</th>\n",
       "      <td>girl</td>\n",
       "      <td>3</td>\n",
       "      <td>10</td>\n",
       "      <td>math_score</td>\n",
       "      <td>88</td>\n",
       "    </tr>\n",
       "    <tr>\n",
       "      <th>40</th>\n",
       "      <td>boy</td>\n",
       "      <td>3</td>\n",
       "      <td>11</td>\n",
       "      <td>math_score</td>\n",
       "      <td>25</td>\n",
       "    </tr>\n",
       "    <tr>\n",
       "      <th>41</th>\n",
       "      <td>boy</td>\n",
       "      <td>3</td>\n",
       "      <td>12</td>\n",
       "      <td>math_score</td>\n",
       "      <td>80</td>\n",
       "    </tr>\n",
       "    <tr>\n",
       "      <th>42</th>\n",
       "      <td>girl</td>\n",
       "      <td>3</td>\n",
       "      <td>13</td>\n",
       "      <td>math_score</td>\n",
       "      <td>20</td>\n",
       "    </tr>\n",
       "    <tr>\n",
       "      <th>43</th>\n",
       "      <td>girl</td>\n",
       "      <td>3</td>\n",
       "      <td>14</td>\n",
       "      <td>math_score</td>\n",
       "      <td>50</td>\n",
       "    </tr>\n",
       "    <tr>\n",
       "      <th>44</th>\n",
       "      <td>girl</td>\n",
       "      <td>3</td>\n",
       "      <td>15</td>\n",
       "      <td>math_score</td>\n",
       "      <td>89</td>\n",
       "    </tr>\n",
       "  </tbody>\n",
       "</table>\n",
       "</div>"
      ],
      "text/plain": [
       "     sex  class  student_id       variable  value\n",
       "0    boy      1           1  chinese_score     70\n",
       "1    boy      2           2  chinese_score     50\n",
       "2    boy      1           3  chinese_score     55\n",
       "3    boy      2           4  chinese_score     89\n",
       "4   girl      1           5  chinese_score     60\n",
       "5   girl      2           6  chinese_score     55\n",
       "6   girl      1           7  chinese_score     77\n",
       "7   girl      2           8  chinese_score     76\n",
       "8   girl      1           9  chinese_score     60\n",
       "9   girl      3          10  chinese_score     43\n",
       "10   boy      3          11  chinese_score     45\n",
       "11   boy      3          12  chinese_score     23\n",
       "12  girl      3          13  chinese_score     66\n",
       "13  girl      3          14  chinese_score     50\n",
       "14  girl      3          15  chinese_score     77\n",
       "15   boy      1           1  english_score     80\n",
       "16   boy      2           2  english_score     45\n",
       "17   boy      1           3  english_score     43\n",
       "18   boy      2           4  english_score     69\n",
       "19  girl      1           5  english_score     79\n",
       "20  girl      2           6  english_score     68\n",
       "21  girl      1           7  english_score     70\n",
       "22  girl      2           8  english_score     77\n",
       "23  girl      1           9  english_score     57\n",
       "24  girl      3          10  english_score     40\n",
       "25   boy      3          11  english_score     60\n",
       "26   boy      3          12  english_score     60\n",
       "27  girl      3          13  english_score     90\n",
       "28  girl      3          14  english_score     50\n",
       "29  girl      3          15  english_score     67\n",
       "30   boy      1           1     math_score     50\n",
       "31   boy      2           2     math_score     60\n",
       "32   boy      1           3     math_score     98\n",
       "33   boy      2           4     math_score     70\n",
       "34  girl      1           5     math_score     56\n",
       "35  girl      2           6     math_score     60\n",
       "36  girl      1           7     math_score     45\n",
       "37  girl      2           8     math_score     55\n",
       "38  girl      1           9     math_score     25\n",
       "39  girl      3          10     math_score     88\n",
       "40   boy      3          11     math_score     25\n",
       "41   boy      3          12     math_score     80\n",
       "42  girl      3          13     math_score     20\n",
       "43  girl      3          14     math_score     50\n",
       "44  girl      3          15     math_score     89"
      ]
     },
     "execution_count": 15,
     "metadata": {},
     "output_type": "execute_result"
    }
   ],
   "source": [
    "df = score_df.melt(id_vars=['sex','class','student_id'],value_vars=['chinese_score','english_score','math_score'])\n",
    "df"
   ]
  },
  {
   "cell_type": "code",
   "execution_count": 16,
   "metadata": {
    "scrolled": false
   },
   "outputs": [
    {
     "data": {
      "text/html": [
       "<div>\n",
       "<style scoped>\n",
       "    .dataframe tbody tr th:only-of-type {\n",
       "        vertical-align: middle;\n",
       "    }\n",
       "\n",
       "    .dataframe tbody tr th {\n",
       "        vertical-align: top;\n",
       "    }\n",
       "\n",
       "    .dataframe thead th {\n",
       "        text-align: right;\n",
       "    }\n",
       "</style>\n",
       "<table border=\"1\" class=\"dataframe\">\n",
       "  <thead>\n",
       "    <tr style=\"text-align: right;\">\n",
       "      <th></th>\n",
       "      <th></th>\n",
       "      <th>variable</th>\n",
       "      <th>chinese_score</th>\n",
       "      <th>english_score</th>\n",
       "      <th>math_score</th>\n",
       "    </tr>\n",
       "    <tr>\n",
       "      <th>sex</th>\n",
       "      <th>class</th>\n",
       "      <th>student_id</th>\n",
       "      <th></th>\n",
       "      <th></th>\n",
       "      <th></th>\n",
       "    </tr>\n",
       "  </thead>\n",
       "  <tbody>\n",
       "    <tr>\n",
       "      <th rowspan=\"6\" valign=\"top\">boy</th>\n",
       "      <th rowspan=\"2\" valign=\"top\">1</th>\n",
       "      <th>1</th>\n",
       "      <td>70</td>\n",
       "      <td>80</td>\n",
       "      <td>50</td>\n",
       "    </tr>\n",
       "    <tr>\n",
       "      <th>3</th>\n",
       "      <td>55</td>\n",
       "      <td>43</td>\n",
       "      <td>98</td>\n",
       "    </tr>\n",
       "    <tr>\n",
       "      <th rowspan=\"2\" valign=\"top\">2</th>\n",
       "      <th>2</th>\n",
       "      <td>50</td>\n",
       "      <td>45</td>\n",
       "      <td>60</td>\n",
       "    </tr>\n",
       "    <tr>\n",
       "      <th>4</th>\n",
       "      <td>89</td>\n",
       "      <td>69</td>\n",
       "      <td>70</td>\n",
       "    </tr>\n",
       "    <tr>\n",
       "      <th rowspan=\"2\" valign=\"top\">3</th>\n",
       "      <th>11</th>\n",
       "      <td>45</td>\n",
       "      <td>60</td>\n",
       "      <td>25</td>\n",
       "    </tr>\n",
       "    <tr>\n",
       "      <th>12</th>\n",
       "      <td>23</td>\n",
       "      <td>60</td>\n",
       "      <td>80</td>\n",
       "    </tr>\n",
       "    <tr>\n",
       "      <th rowspan=\"9\" valign=\"top\">girl</th>\n",
       "      <th rowspan=\"3\" valign=\"top\">1</th>\n",
       "      <th>5</th>\n",
       "      <td>60</td>\n",
       "      <td>79</td>\n",
       "      <td>56</td>\n",
       "    </tr>\n",
       "    <tr>\n",
       "      <th>7</th>\n",
       "      <td>77</td>\n",
       "      <td>70</td>\n",
       "      <td>45</td>\n",
       "    </tr>\n",
       "    <tr>\n",
       "      <th>9</th>\n",
       "      <td>60</td>\n",
       "      <td>57</td>\n",
       "      <td>25</td>\n",
       "    </tr>\n",
       "    <tr>\n",
       "      <th rowspan=\"2\" valign=\"top\">2</th>\n",
       "      <th>6</th>\n",
       "      <td>55</td>\n",
       "      <td>68</td>\n",
       "      <td>60</td>\n",
       "    </tr>\n",
       "    <tr>\n",
       "      <th>8</th>\n",
       "      <td>76</td>\n",
       "      <td>77</td>\n",
       "      <td>55</td>\n",
       "    </tr>\n",
       "    <tr>\n",
       "      <th rowspan=\"4\" valign=\"top\">3</th>\n",
       "      <th>10</th>\n",
       "      <td>43</td>\n",
       "      <td>40</td>\n",
       "      <td>88</td>\n",
       "    </tr>\n",
       "    <tr>\n",
       "      <th>13</th>\n",
       "      <td>66</td>\n",
       "      <td>90</td>\n",
       "      <td>20</td>\n",
       "    </tr>\n",
       "    <tr>\n",
       "      <th>14</th>\n",
       "      <td>50</td>\n",
       "      <td>50</td>\n",
       "      <td>50</td>\n",
       "    </tr>\n",
       "    <tr>\n",
       "      <th>15</th>\n",
       "      <td>77</td>\n",
       "      <td>67</td>\n",
       "      <td>89</td>\n",
       "    </tr>\n",
       "  </tbody>\n",
       "</table>\n",
       "</div>"
      ],
      "text/plain": [
       "variable               chinese_score  english_score  math_score\n",
       "sex  class student_id                                          \n",
       "boy  1     1                      70             80          50\n",
       "           3                      55             43          98\n",
       "     2     2                      50             45          60\n",
       "           4                      89             69          70\n",
       "     3     11                     45             60          25\n",
       "           12                     23             60          80\n",
       "girl 1     5                      60             79          56\n",
       "           7                      77             70          45\n",
       "           9                      60             57          25\n",
       "     2     6                      55             68          60\n",
       "           8                      76             77          55\n",
       "     3     10                     43             40          88\n",
       "           13                     66             90          20\n",
       "           14                     50             50          50\n",
       "           15                     77             67          89"
      ]
     },
     "execution_count": 16,
     "metadata": {},
     "output_type": "execute_result"
    }
   ],
   "source": [
    "df.pivot_table(index=['sex','class','student_id'],columns='variable',values='value')"
   ]
  },
  {
   "cell_type": "code",
   "execution_count": null,
   "metadata": {},
   "outputs": [],
   "source": []
  }
 ],
 "metadata": {
  "kernelspec": {
   "display_name": "Python 3",
   "language": "python",
   "name": "python3"
  },
  "language_info": {
   "codemirror_mode": {
    "name": "ipython",
    "version": 3
   },
   "file_extension": ".py",
   "mimetype": "text/x-python",
   "name": "python",
   "nbconvert_exporter": "python",
   "pygments_lexer": "ipython3",
   "version": "3.7.1"
  }
 },
 "nbformat": 4,
 "nbformat_minor": 2
}
