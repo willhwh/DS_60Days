{
 "cells": [
  {
   "cell_type": "code",
   "execution_count": 1,
   "metadata": {},
   "outputs": [],
   "source": [
    "# import library\n",
    "import pandas as pd\n",
    "import numpy as np\n",
    "import matplotlib.pyplot as plt\n",
    "import datetime\n",
    "import seaborn as sns"
   ]
  },
  {
   "cell_type": "code",
   "execution_count": 2,
   "metadata": {},
   "outputs": [],
   "source": [
    "# import file\n",
    "nf = pd.read_csv('project1/netflix_titles.csv')"
   ]
  },
  {
   "cell_type": "code",
   "execution_count": 3,
   "metadata": {},
   "outputs": [
    {
     "name": "stdout",
     "output_type": "stream",
     "text": [
      "<class 'pandas.core.frame.DataFrame'>\n",
      "RangeIndex: 6234 entries, 0 to 6233\n",
      "Data columns (total 12 columns):\n",
      " #   Column        Non-Null Count  Dtype \n",
      "---  ------        --------------  ----- \n",
      " 0   show_id       6234 non-null   int64 \n",
      " 1   type          6234 non-null   object\n",
      " 2   title         6234 non-null   object\n",
      " 3   director      4265 non-null   object\n",
      " 4   cast          5664 non-null   object\n",
      " 5   country       5758 non-null   object\n",
      " 6   date_added    6223 non-null   object\n",
      " 7   release_year  6234 non-null   int64 \n",
      " 8   rating        6224 non-null   object\n",
      " 9   duration      6234 non-null   object\n",
      " 10  listed_in     6234 non-null   object\n",
      " 11  description   6234 non-null   object\n",
      "dtypes: int64(2), object(10)\n",
      "memory usage: 584.6+ KB\n"
     ]
    }
   ],
   "source": [
    "# file info\n",
    "nf.info()"
   ]
  },
  {
   "cell_type": "code",
   "execution_count": 4,
   "metadata": {},
   "outputs": [
    {
     "data": {
      "text/html": [
       "<div>\n",
       "<style scoped>\n",
       "    .dataframe tbody tr th:only-of-type {\n",
       "        vertical-align: middle;\n",
       "    }\n",
       "\n",
       "    .dataframe tbody tr th {\n",
       "        vertical-align: top;\n",
       "    }\n",
       "\n",
       "    .dataframe thead th {\n",
       "        text-align: right;\n",
       "    }\n",
       "</style>\n",
       "<table border=\"1\" class=\"dataframe\">\n",
       "  <thead>\n",
       "    <tr style=\"text-align: right;\">\n",
       "      <th></th>\n",
       "      <th>show_id</th>\n",
       "      <th>release_year</th>\n",
       "    </tr>\n",
       "  </thead>\n",
       "  <tbody>\n",
       "    <tr>\n",
       "      <th>count</th>\n",
       "      <td>6.234000e+03</td>\n",
       "      <td>6234.00000</td>\n",
       "    </tr>\n",
       "    <tr>\n",
       "      <th>mean</th>\n",
       "      <td>7.670368e+07</td>\n",
       "      <td>2013.35932</td>\n",
       "    </tr>\n",
       "    <tr>\n",
       "      <th>std</th>\n",
       "      <td>1.094296e+07</td>\n",
       "      <td>8.81162</td>\n",
       "    </tr>\n",
       "    <tr>\n",
       "      <th>min</th>\n",
       "      <td>2.477470e+05</td>\n",
       "      <td>1925.00000</td>\n",
       "    </tr>\n",
       "    <tr>\n",
       "      <th>25%</th>\n",
       "      <td>8.003580e+07</td>\n",
       "      <td>2013.00000</td>\n",
       "    </tr>\n",
       "    <tr>\n",
       "      <th>50%</th>\n",
       "      <td>8.016337e+07</td>\n",
       "      <td>2016.00000</td>\n",
       "    </tr>\n",
       "    <tr>\n",
       "      <th>75%</th>\n",
       "      <td>8.024489e+07</td>\n",
       "      <td>2018.00000</td>\n",
       "    </tr>\n",
       "    <tr>\n",
       "      <th>max</th>\n",
       "      <td>8.123573e+07</td>\n",
       "      <td>2020.00000</td>\n",
       "    </tr>\n",
       "  </tbody>\n",
       "</table>\n",
       "</div>"
      ],
      "text/plain": [
       "            show_id  release_year\n",
       "count  6.234000e+03    6234.00000\n",
       "mean   7.670368e+07    2013.35932\n",
       "std    1.094296e+07       8.81162\n",
       "min    2.477470e+05    1925.00000\n",
       "25%    8.003580e+07    2013.00000\n",
       "50%    8.016337e+07    2016.00000\n",
       "75%    8.024489e+07    2018.00000\n",
       "max    8.123573e+07    2020.00000"
      ]
     },
     "execution_count": 4,
     "metadata": {},
     "output_type": "execute_result"
    }
   ],
   "source": [
    "# file statistic info\n",
    "nf.describe()"
   ]
  },
  {
   "cell_type": "code",
   "execution_count": 5,
   "metadata": {
    "scrolled": true
   },
   "outputs": [
    {
     "data": {
      "text/plain": [
       "show_id         0.000000\n",
       "type            0.000000\n",
       "title           0.000000\n",
       "director        0.315849\n",
       "cast            0.091434\n",
       "country         0.076355\n",
       "date_added      0.001765\n",
       "release_year    0.000000\n",
       "rating          0.001604\n",
       "duration        0.000000\n",
       "listed_in       0.000000\n",
       "description     0.000000\n",
       "dtype: float64"
      ]
     },
     "execution_count": 5,
     "metadata": {},
     "output_type": "execute_result"
    }
   ],
   "source": [
    "# file null info\n",
    "nf.isnull().sum()/len(nf)"
   ]
  },
  {
   "cell_type": "code",
   "execution_count": 6,
   "metadata": {},
   "outputs": [
    {
     "data": {
      "text/html": [
       "<div>\n",
       "<style scoped>\n",
       "    .dataframe tbody tr th:only-of-type {\n",
       "        vertical-align: middle;\n",
       "    }\n",
       "\n",
       "    .dataframe tbody tr th {\n",
       "        vertical-align: top;\n",
       "    }\n",
       "\n",
       "    .dataframe thead th {\n",
       "        text-align: right;\n",
       "    }\n",
       "</style>\n",
       "<table border=\"1\" class=\"dataframe\">\n",
       "  <thead>\n",
       "    <tr style=\"text-align: right;\">\n",
       "      <th></th>\n",
       "      <th>show_id</th>\n",
       "      <th>type</th>\n",
       "      <th>title</th>\n",
       "      <th>director</th>\n",
       "      <th>cast</th>\n",
       "      <th>country</th>\n",
       "      <th>date_added</th>\n",
       "      <th>release_year</th>\n",
       "      <th>rating</th>\n",
       "      <th>duration</th>\n",
       "      <th>listed_in</th>\n",
       "      <th>description</th>\n",
       "    </tr>\n",
       "  </thead>\n",
       "  <tbody>\n",
       "    <tr>\n",
       "      <th>0</th>\n",
       "      <td>81145628</td>\n",
       "      <td>Movie</td>\n",
       "      <td>Norm of the North: King Sized Adventure</td>\n",
       "      <td>Richard Finn, Tim Maltby</td>\n",
       "      <td>Alan Marriott, Andrew Toth, Brian Dobson, Cole...</td>\n",
       "      <td>United States, India, South Korea, China</td>\n",
       "      <td>September 9, 2019</td>\n",
       "      <td>2019</td>\n",
       "      <td>TV-PG</td>\n",
       "      <td>90 min</td>\n",
       "      <td>Children &amp; Family Movies, Comedies</td>\n",
       "      <td>Before planning an awesome wedding for his gra...</td>\n",
       "    </tr>\n",
       "    <tr>\n",
       "      <th>1</th>\n",
       "      <td>80117401</td>\n",
       "      <td>Movie</td>\n",
       "      <td>Jandino: Whatever it Takes</td>\n",
       "      <td>NaN</td>\n",
       "      <td>Jandino Asporaat</td>\n",
       "      <td>United Kingdom</td>\n",
       "      <td>September 9, 2016</td>\n",
       "      <td>2016</td>\n",
       "      <td>TV-MA</td>\n",
       "      <td>94 min</td>\n",
       "      <td>Stand-Up Comedy</td>\n",
       "      <td>Jandino Asporaat riffs on the challenges of ra...</td>\n",
       "    </tr>\n",
       "    <tr>\n",
       "      <th>2</th>\n",
       "      <td>70234439</td>\n",
       "      <td>TV Show</td>\n",
       "      <td>Transformers Prime</td>\n",
       "      <td>NaN</td>\n",
       "      <td>Peter Cullen, Sumalee Montano, Frank Welker, J...</td>\n",
       "      <td>United States</td>\n",
       "      <td>September 8, 2018</td>\n",
       "      <td>2013</td>\n",
       "      <td>TV-Y7-FV</td>\n",
       "      <td>1 Season</td>\n",
       "      <td>Kids' TV</td>\n",
       "      <td>With the help of three human allies, the Autob...</td>\n",
       "    </tr>\n",
       "    <tr>\n",
       "      <th>3</th>\n",
       "      <td>80058654</td>\n",
       "      <td>TV Show</td>\n",
       "      <td>Transformers: Robots in Disguise</td>\n",
       "      <td>NaN</td>\n",
       "      <td>Will Friedle, Darren Criss, Constance Zimmer, ...</td>\n",
       "      <td>United States</td>\n",
       "      <td>September 8, 2018</td>\n",
       "      <td>2016</td>\n",
       "      <td>TV-Y7</td>\n",
       "      <td>1 Season</td>\n",
       "      <td>Kids' TV</td>\n",
       "      <td>When a prison ship crash unleashes hundreds of...</td>\n",
       "    </tr>\n",
       "    <tr>\n",
       "      <th>4</th>\n",
       "      <td>80125979</td>\n",
       "      <td>Movie</td>\n",
       "      <td>#realityhigh</td>\n",
       "      <td>Fernando Lebrija</td>\n",
       "      <td>Nesta Cooper, Kate Walsh, John Michael Higgins...</td>\n",
       "      <td>United States</td>\n",
       "      <td>September 8, 2017</td>\n",
       "      <td>2017</td>\n",
       "      <td>TV-14</td>\n",
       "      <td>99 min</td>\n",
       "      <td>Comedies</td>\n",
       "      <td>When nerdy high schooler Dani finally attracts...</td>\n",
       "    </tr>\n",
       "  </tbody>\n",
       "</table>\n",
       "</div>"
      ],
      "text/plain": [
       "    show_id     type                                    title  \\\n",
       "0  81145628    Movie  Norm of the North: King Sized Adventure   \n",
       "1  80117401    Movie               Jandino: Whatever it Takes   \n",
       "2  70234439  TV Show                       Transformers Prime   \n",
       "3  80058654  TV Show         Transformers: Robots in Disguise   \n",
       "4  80125979    Movie                             #realityhigh   \n",
       "\n",
       "                   director  \\\n",
       "0  Richard Finn, Tim Maltby   \n",
       "1                       NaN   \n",
       "2                       NaN   \n",
       "3                       NaN   \n",
       "4          Fernando Lebrija   \n",
       "\n",
       "                                                cast  \\\n",
       "0  Alan Marriott, Andrew Toth, Brian Dobson, Cole...   \n",
       "1                                   Jandino Asporaat   \n",
       "2  Peter Cullen, Sumalee Montano, Frank Welker, J...   \n",
       "3  Will Friedle, Darren Criss, Constance Zimmer, ...   \n",
       "4  Nesta Cooper, Kate Walsh, John Michael Higgins...   \n",
       "\n",
       "                                    country         date_added  release_year  \\\n",
       "0  United States, India, South Korea, China  September 9, 2019          2019   \n",
       "1                            United Kingdom  September 9, 2016          2016   \n",
       "2                             United States  September 8, 2018          2013   \n",
       "3                             United States  September 8, 2018          2016   \n",
       "4                             United States  September 8, 2017          2017   \n",
       "\n",
       "     rating  duration                           listed_in  \\\n",
       "0     TV-PG    90 min  Children & Family Movies, Comedies   \n",
       "1     TV-MA    94 min                     Stand-Up Comedy   \n",
       "2  TV-Y7-FV  1 Season                            Kids' TV   \n",
       "3     TV-Y7  1 Season                            Kids' TV   \n",
       "4     TV-14    99 min                            Comedies   \n",
       "\n",
       "                                         description  \n",
       "0  Before planning an awesome wedding for his gra...  \n",
       "1  Jandino Asporaat riffs on the challenges of ra...  \n",
       "2  With the help of three human allies, the Autob...  \n",
       "3  When a prison ship crash unleashes hundreds of...  \n",
       "4  When nerdy high schooler Dani finally attracts...  "
      ]
     },
     "execution_count": 6,
     "metadata": {},
     "output_type": "execute_result"
    }
   ],
   "source": [
    "nf.head()"
   ]
  },
  {
   "cell_type": "code",
   "execution_count": 7,
   "metadata": {},
   "outputs": [],
   "source": [
    "# drop the non-targeted columns\n",
    "nf.drop('description',axis=1,inplace=True)"
   ]
  },
  {
   "cell_type": "markdown",
   "metadata": {},
   "source": [
    "# deal with type"
   ]
  },
  {
   "cell_type": "code",
   "execution_count": 8,
   "metadata": {},
   "outputs": [
    {
     "data": {
      "text/plain": [
       "Movie      4265\n",
       "TV Show    1969\n",
       "Name: type, dtype: int64"
      ]
     },
     "execution_count": 8,
     "metadata": {},
     "output_type": "execute_result"
    }
   ],
   "source": [
    "nf['type'].value_counts()"
   ]
  },
  {
   "cell_type": "markdown",
   "metadata": {},
   "source": [
    "# deal with title"
   ]
  },
  {
   "cell_type": "code",
   "execution_count": 9,
   "metadata": {},
   "outputs": [
    {
     "data": {
      "text/plain": [
       "Tunnel                         3\n",
       "The Silence                    3\n",
       "Love                           3\n",
       "Limitless                      3\n",
       "Oh My Ghost                    3\n",
       "                              ..\n",
       "Much Loved                     1\n",
       "Catching Feelings              1\n",
       "Twisted Trunk, Big Fat Body    1\n",
       "Elaan                          1\n",
       "Meditation Park                1\n",
       "Name: title, Length: 6172, dtype: int64"
      ]
     },
     "execution_count": 9,
     "metadata": {},
     "output_type": "execute_result"
    }
   ],
   "source": [
    "nf['title'].value_counts()"
   ]
  },
  {
   "cell_type": "code",
   "execution_count": 10,
   "metadata": {},
   "outputs": [
    {
     "data": {
      "text/plain": [
       "<matplotlib.axes._subplots.AxesSubplot at 0x7fc4cd2b5e10>"
      ]
     },
     "execution_count": 10,
     "metadata": {},
     "output_type": "execute_result"
    },
    {
     "data": {
      "image/png": "[encoded data removed]",
      "text/plain": [
       "<Figure size 432x288 with 1 Axes>"
      ]
     },
     "metadata": {
      "needs_background": "light"
     },
     "output_type": "display_data"
    }
   ],
   "source": [
    "nf['title'].value_counts().plot()"
   ]
  },
  {
   "cell_type": "code",
   "execution_count": 11,
   "metadata": {},
   "outputs": [
    {
     "data": {
      "text/plain": [
       "Tunnel         3\n",
       "The Silence    3\n",
       "Love           3\n",
       "Limitless      3\n",
       "Oh My Ghost    3\n",
       "Name: title, dtype: int64"
      ]
     },
     "execution_count": 11,
     "metadata": {},
     "output_type": "execute_result"
    }
   ],
   "source": [
    "# 有重名的現象\n",
    "nf['title'].value_counts()[nf['title'].value_counts()==3]"
   ]
  },
  {
   "cell_type": "code",
   "execution_count": 12,
   "metadata": {},
   "outputs": [
    {
     "data": {
      "text/plain": [
       "The In-Laws                               2\n",
       "Retribution                               2\n",
       "Skins                                     2\n",
       "She's Gotta Have It                       2\n",
       "Solo                                      2\n",
       "The Oath                                  2\n",
       "Carrie                                    2\n",
       "The Code                                  2\n",
       "Lovesick                                  2\n",
       "Drive                                     2\n",
       "Wet Hot American Summer                   2\n",
       "The Outsider                              2\n",
       "The Innocents                             2\n",
       "One Day                                   2\n",
       "Blood Money                               2\n",
       "The Birth Reborn                          2\n",
       "The Saint                                 2\n",
       "Don                                       2\n",
       "Bleach                                    2\n",
       "The Iron Lady                             2\n",
       "Godzilla                                  2\n",
       "Prince                                    2\n",
       "The Secret                                2\n",
       "Us and Them                               2\n",
       "The Gift                                  2\n",
       "Kakegurui                                 2\n",
       "Benji                                     2\n",
       "Locked Up                                 2\n",
       "Zoom                                      2\n",
       "Top Boy                                   2\n",
       "Lavender                                  2\n",
       "We Are Family                             2\n",
       "Charmed                                   2\n",
       "Shadow                                    2\n",
       "The Lovers                                2\n",
       "Rosario Tijeras                           2\n",
       "Zoo                                       2\n",
       "Sarkar                                    2\n",
       "Frank and Cindy                           2\n",
       "Aquarius                                  2\n",
       "Tiger                                     2\n",
       "Troy                                      2\n",
       "Love O2O                                  2\n",
       "Life                                      2\n",
       "Deep                                      2\n",
       "Maniac                                    2\n",
       "Hostages                                  2\n",
       "Supergirl                                 2\n",
       "People You May Know                       2\n",
       "Persona                                   2\n",
       "Little Baby Bum: Nursery Rhyme Friends    2\n",
       "Manhunt                                   2\n",
       "Name: title, dtype: int64"
      ]
     },
     "execution_count": 12,
     "metadata": {},
     "output_type": "execute_result"
    }
   ],
   "source": [
    "nf['title'].value_counts()[nf['title'].value_counts()==2]"
   ]
  },
  {
   "cell_type": "code",
   "execution_count": 13,
   "metadata": {},
   "outputs": [
    {
     "data": {
      "text/html": [
       "<div>\n",
       "<style scoped>\n",
       "    .dataframe tbody tr th:only-of-type {\n",
       "        vertical-align: middle;\n",
       "    }\n",
       "\n",
       "    .dataframe tbody tr th {\n",
       "        vertical-align: top;\n",
       "    }\n",
       "\n",
       "    .dataframe thead th {\n",
       "        text-align: right;\n",
       "    }\n",
       "</style>\n",
       "<table border=\"1\" class=\"dataframe\">\n",
       "  <thead>\n",
       "    <tr style=\"text-align: right;\">\n",
       "      <th></th>\n",
       "      <th>show_id</th>\n",
       "      <th>type</th>\n",
       "      <th>title</th>\n",
       "      <th>director</th>\n",
       "      <th>cast</th>\n",
       "      <th>country</th>\n",
       "      <th>date_added</th>\n",
       "      <th>release_year</th>\n",
       "      <th>rating</th>\n",
       "      <th>duration</th>\n",
       "      <th>listed_in</th>\n",
       "    </tr>\n",
       "  </thead>\n",
       "  <tbody>\n",
       "    <tr>\n",
       "      <th>1155</th>\n",
       "      <td>80993625</td>\n",
       "      <td>TV Show</td>\n",
       "      <td>Oh My Ghost</td>\n",
       "      <td>NaN</td>\n",
       "      <td>Nuengthida Sophon, Keerati Mahaprukpong, Arak ...</td>\n",
       "      <td>Thailand</td>\n",
       "      <td>November 21, 2018</td>\n",
       "      <td>2018</td>\n",
       "      <td>TV-MA</td>\n",
       "      <td>1 Season</td>\n",
       "      <td>International TV Shows, Romantic TV Shows, TV ...</td>\n",
       "    </tr>\n",
       "    <tr>\n",
       "      <th>2865</th>\n",
       "      <td>81000015</td>\n",
       "      <td>Movie</td>\n",
       "      <td>Oh My Ghost</td>\n",
       "      <td>Poj Arnon</td>\n",
       "      <td>Kohtee Aramboy, Sudarat Butrprom, Yingsak Chon...</td>\n",
       "      <td>Thailand</td>\n",
       "      <td>July 25, 2018</td>\n",
       "      <td>2009</td>\n",
       "      <td>TV-14</td>\n",
       "      <td>94 min</td>\n",
       "      <td>Comedies, Horror Movies, International Movies</td>\n",
       "    </tr>\n",
       "    <tr>\n",
       "      <th>4740</th>\n",
       "      <td>80178404</td>\n",
       "      <td>TV Show</td>\n",
       "      <td>Oh My Ghost</td>\n",
       "      <td>NaN</td>\n",
       "      <td>Park Bo-young, Cho Jung-seok, Lim Ju-hwan, Kim...</td>\n",
       "      <td>South Korea</td>\n",
       "      <td>August 8, 2019</td>\n",
       "      <td>2015</td>\n",
       "      <td>TV-14</td>\n",
       "      <td>1 Season</td>\n",
       "      <td>International TV Shows, Korean TV Shows, Roman...</td>\n",
       "    </tr>\n",
       "  </tbody>\n",
       "</table>\n",
       "</div>"
      ],
      "text/plain": [
       "       show_id     type        title   director  \\\n",
       "1155  80993625  TV Show  Oh My Ghost        NaN   \n",
       "2865  81000015    Movie  Oh My Ghost  Poj Arnon   \n",
       "4740  80178404  TV Show  Oh My Ghost        NaN   \n",
       "\n",
       "                                                   cast      country  \\\n",
       "1155  Nuengthida Sophon, Keerati Mahaprukpong, Arak ...     Thailand   \n",
       "2865  Kohtee Aramboy, Sudarat Butrprom, Yingsak Chon...     Thailand   \n",
       "4740  Park Bo-young, Cho Jung-seok, Lim Ju-hwan, Kim...  South Korea   \n",
       "\n",
       "             date_added  release_year rating  duration  \\\n",
       "1155  November 21, 2018          2018  TV-MA  1 Season   \n",
       "2865      July 25, 2018          2009  TV-14    94 min   \n",
       "4740     August 8, 2019          2015  TV-14  1 Season   \n",
       "\n",
       "                                              listed_in  \n",
       "1155  International TV Shows, Romantic TV Shows, TV ...  \n",
       "2865      Comedies, Horror Movies, International Movies  \n",
       "4740  International TV Shows, Korean TV Shows, Roman...  "
      ]
     },
     "execution_count": 13,
     "metadata": {},
     "output_type": "execute_result"
    }
   ],
   "source": [
    "nf[nf['title']== 'Oh My Ghost']"
   ]
  },
  {
   "cell_type": "markdown",
   "metadata": {},
   "source": [
    "# deal with director"
   ]
  },
  {
   "cell_type": "code",
   "execution_count": 14,
   "metadata": {},
   "outputs": [
    {
     "data": {
      "text/plain": [
       "Raúl Campos, Jan Suter    18\n",
       "Marcus Raboy              14\n",
       "Jay Karas                 13\n",
       "Jay Chapman               12\n",
       "Steven Spielberg           9\n",
       "                          ..\n",
       "Alexandra Dean             1\n",
       "Akin Omotoso               1\n",
       "Deniz Gamze Ergüven        1\n",
       "Julie Dash                 1\n",
       "Asim Raza                  1\n",
       "Name: director, Length: 3301, dtype: int64"
      ]
     },
     "execution_count": 14,
     "metadata": {},
     "output_type": "execute_result"
    }
   ],
   "source": [
    "# 同個組合出現數次\n",
    "nf['director'].value_counts()"
   ]
  },
  {
   "cell_type": "code",
   "execution_count": 15,
   "metadata": {},
   "outputs": [],
   "source": [
    "# add director amount\n",
    "count = 0\n",
    "director_amount_list = []\n",
    "for i in nf['director']:\n",
    "    comma_amount = len(str(i).split(','))\n",
    "    if comma_amount > count:\n",
    "        count = comma_amount\n",
    "    director_amount_list.append(comma_amount)\n",
    "nf['director_count'] = director_amount_list\n",
    "# nf.head()"
   ]
  },
  {
   "cell_type": "code",
   "execution_count": 16,
   "metadata": {},
   "outputs": [],
   "source": [
    "# a director could be involved in mutiple shows\n",
    "d_count = 0\n",
    "for i in nf['director']:\n",
    "    if 'Raúl Campos' in str(i):\n",
    "        d_count = d_count+1\n",
    "# print(d_count)"
   ]
  },
  {
   "cell_type": "code",
   "execution_count": 17,
   "metadata": {},
   "outputs": [],
   "source": [
    "# split director column into mutiple columns \n",
    "for i in range(count):\n",
    "    nf[f'director{i+1}']= ''\n",
    "    \n",
    "    \n",
    "for i,d_index in zip(nf['director'],range(len(nf))):\n",
    "    directors = str(i).split(',')\n",
    "    for t in range(len(directors)):\n",
    "        nf.iloc[d_index,12+t] = directors[t].strip()\n",
    "        \n",
    "# nf.head()"
   ]
  },
  {
   "cell_type": "markdown",
   "metadata": {},
   "source": [
    "# deal with cast"
   ]
  },
  {
   "cell_type": "code",
   "execution_count": 18,
   "metadata": {},
   "outputs": [
    {
     "data": {
      "text/plain": [
       "David Attenborough                                                                                                                            18\n",
       "Samuel West                                                                                                                                   10\n",
       "Jeff Dunham                                                                                                                                    7\n",
       "Craig Sechler                                                                                                                                  6\n",
       "Jim Gaffigan                                                                                                                                   5\n",
       "                                                                                                                                              ..\n",
       "Chandan Roy Sanyal, Elena Kazan, Kumar Mayank, Sonia Bindra, Arfi Lamba                                                                        1\n",
       "Taecyeon, Seo Ye-ji, Cho Seong-ha, Woo Do‑hwan, Son Byung-ho, Kim Kwang-gyoo, Yun Yoo-sun, Park Ji-young, Jeong Hae-gyoon, Jang Hyeok-jin      1\n",
       "Jim Howick, Samuel Anderson, Jonny Sweet, Nick Helm, Mary McCormack, Aimee-Ffion Edwards, Lolly Adefope                                        1\n",
       "Nichole Bloom, Fabianne Therese, Michelle Borth, Pat Healy, AJ Bowen, Joshua Leonard                                                           1\n",
       "Sean Jindachot, Nutt Devahastin Na Ayudhya, Patharamanop Isariy, Manatsanun Phanlerdwongsakul, Anchasa Mongkhonsama, Keerati Mahapreukpong     1\n",
       "Name: cast, Length: 5469, dtype: int64"
      ]
     },
     "execution_count": 18,
     "metadata": {},
     "output_type": "execute_result"
    }
   ],
   "source": [
    "# same group of casts could show multiple times\n",
    "nf['cast'].value_counts()\n"
   ]
  },
  {
   "cell_type": "code",
   "execution_count": 19,
   "metadata": {},
   "outputs": [
    {
     "name": "stdout",
     "output_type": "stream",
     "text": [
      "50\n"
     ]
    }
   ],
   "source": [
    "count = 0\n",
    "cast_amount_list = []\n",
    "for i in nf['cast']:\n",
    "    comma_amount = len(str(i).split(','))\n",
    "    if comma_amount > count:\n",
    "        count = comma_amount\n",
    "    cast_amount_list.append(comma_amount)\n",
    "print(count)\n",
    "nf['cast_count'] = cast_amount_list\n",
    "#nf.head()"
   ]
  },
  {
   "cell_type": "code",
   "execution_count": 20,
   "metadata": {},
   "outputs": [],
   "source": [
    "# split cast column into mutiple columns\n",
    "for i in range(count):\n",
    "    nf[f'cast{i+1}']= ''\n",
    "    \n",
    "    \n",
    "for i,d_index in zip(nf['cast'],range(len(nf))):\n",
    "    casts = str(i).split(',')\n",
    "    for t in range(len(casts)):\n",
    "        nf.iloc[d_index,26+t] = casts[t].strip()\n",
    "        \n",
    "        \n",
    "#nf.head()"
   ]
  },
  {
   "cell_type": "markdown",
   "metadata": {},
   "source": [
    "# deal with country"
   ]
  },
  {
   "cell_type": "code",
   "execution_count": 21,
   "metadata": {},
   "outputs": [
    {
     "data": {
      "text/plain": [
       "United States                                             2032\n",
       "India                                                      777\n",
       "United Kingdom                                             348\n",
       "Japan                                                      176\n",
       "Canada                                                     141\n",
       "                                                          ... \n",
       "Chile, Argentina, France, Spain, United States               1\n",
       "Argentina, France, Germany                                   1\n",
       "Germany, France, United States, Canada, United Kingdom       1\n",
       "United Kingdom, United States, Greece, Italy, Germany        1\n",
       "France, Luxembourg, Canada                                   1\n",
       "Name: country, Length: 554, dtype: int64"
      ]
     },
     "execution_count": 21,
     "metadata": {},
     "output_type": "execute_result"
    }
   ],
   "source": [
    "nf['country'].value_counts()"
   ]
  },
  {
   "cell_type": "code",
   "execution_count": 22,
   "metadata": {},
   "outputs": [],
   "source": [
    "count = 0\n",
    "country_amount_list = []\n",
    "for i in nf['country']:\n",
    "    comma_amount = len(str(i).split(','))\n",
    "    if comma_amount > count:\n",
    "        count = comma_amount\n",
    "    country_amount_list.append(comma_amount)\n",
    "    \n",
    "nf['country_count'] = country_amount_list\n",
    "# nf.head()"
   ]
  },
  {
   "cell_type": "code",
   "execution_count": 23,
   "metadata": {},
   "outputs": [],
   "source": [
    "# split country column into multiple columns\n",
    "for i in range(count):\n",
    "    nf[f'country{i+1}']= ''\n",
    "    \n",
    "    \n",
    "for i,d_index in zip(nf['country'],range(len(nf))):\n",
    "    countries = str(i).split(',')\n",
    "    for t in range(len(countries)):\n",
    "        nf.iloc[d_index,-12+t] = countries[t].strip()\n",
    "        \n",
    "        \n",
    "# nf.head()"
   ]
  },
  {
   "cell_type": "markdown",
   "metadata": {},
   "source": [
    "# deal with dateadded"
   ]
  },
  {
   "cell_type": "code",
   "execution_count": 24,
   "metadata": {},
   "outputs": [
    {
     "data": {
      "text/html": [
       "<div>\n",
       "<style scoped>\n",
       "    .dataframe tbody tr th:only-of-type {\n",
       "        vertical-align: middle;\n",
       "    }\n",
       "\n",
       "    .dataframe tbody tr th {\n",
       "        vertical-align: top;\n",
       "    }\n",
       "\n",
       "    .dataframe thead th {\n",
       "        text-align: right;\n",
       "    }\n",
       "</style>\n",
       "<table border=\"1\" class=\"dataframe\">\n",
       "  <thead>\n",
       "    <tr style=\"text-align: right;\">\n",
       "      <th></th>\n",
       "      <th>date_added</th>\n",
       "    </tr>\n",
       "  </thead>\n",
       "  <tbody>\n",
       "    <tr>\n",
       "      <th>0</th>\n",
       "      <td>September 9, 2019</td>\n",
       "    </tr>\n",
       "    <tr>\n",
       "      <th>1</th>\n",
       "      <td>September 9, 2016</td>\n",
       "    </tr>\n",
       "    <tr>\n",
       "      <th>2</th>\n",
       "      <td>September 8, 2018</td>\n",
       "    </tr>\n",
       "    <tr>\n",
       "      <th>3</th>\n",
       "      <td>September 8, 2018</td>\n",
       "    </tr>\n",
       "    <tr>\n",
       "      <th>4</th>\n",
       "      <td>September 8, 2017</td>\n",
       "    </tr>\n",
       "    <tr>\n",
       "      <th>...</th>\n",
       "      <td>...</td>\n",
       "    </tr>\n",
       "    <tr>\n",
       "      <th>6229</th>\n",
       "      <td>NaN</td>\n",
       "    </tr>\n",
       "    <tr>\n",
       "      <th>6230</th>\n",
       "      <td>NaN</td>\n",
       "    </tr>\n",
       "    <tr>\n",
       "      <th>6231</th>\n",
       "      <td>NaN</td>\n",
       "    </tr>\n",
       "    <tr>\n",
       "      <th>6232</th>\n",
       "      <td>NaN</td>\n",
       "    </tr>\n",
       "    <tr>\n",
       "      <th>6233</th>\n",
       "      <td>NaN</td>\n",
       "    </tr>\n",
       "  </tbody>\n",
       "</table>\n",
       "<p>6234 rows × 1 columns</p>\n",
       "</div>"
      ],
      "text/plain": [
       "             date_added\n",
       "0     September 9, 2019\n",
       "1     September 9, 2016\n",
       "2     September 8, 2018\n",
       "3     September 8, 2018\n",
       "4     September 8, 2017\n",
       "...                 ...\n",
       "6229                NaN\n",
       "6230                NaN\n",
       "6231                NaN\n",
       "6232                NaN\n",
       "6233                NaN\n",
       "\n",
       "[6234 rows x 1 columns]"
      ]
     },
     "execution_count": 24,
     "metadata": {},
     "output_type": "execute_result"
    }
   ],
   "source": [
    "# deal with null\n",
    "nf[['date_added']].replace('nan',np.nan)\n",
    "# nf[['date_added']].head()"
   ]
  },
  {
   "cell_type": "code",
   "execution_count": 25,
   "metadata": {
    "scrolled": true
   },
   "outputs": [
    {
     "name": "stderr",
     "output_type": "stream",
     "text": [
      "/Users/mac/opt/anaconda3/envs/regularenv/lib/python3.6/site-packages/ipykernel_launcher.py:2: SettingWithCopyWarning: \n",
      "A value is trying to be set on a copy of a slice from a DataFrame\n",
      "\n",
      "See the caveats in the documentation: https://pandas.pydata.org/pandas-docs/stable/user_guide/indexing.html#returning-a-view-versus-a-copy\n",
      "  \n",
      "/Users/mac/opt/anaconda3/envs/regularenv/lib/python3.6/site-packages/pandas/core/indexing.py:670: SettingWithCopyWarning: \n",
      "A value is trying to be set on a copy of a slice from a DataFrame\n",
      "\n",
      "See the caveats in the documentation: https://pandas.pydata.org/pandas-docs/stable/user_guide/indexing.html#returning-a-view-versus-a-copy\n",
      "  iloc._setitem_with_indexer(indexer, value)\n"
     ]
    }
   ],
   "source": [
    "# make the time in date_added column in a consistent format\n",
    "nf['date_added'][:-11] = nf['date_added'][:-11].apply(lambda x: datetime.datetime.strptime(x.strip(), '%B %d, %Y').strftime(\"%Y/%m/%d\"))\n",
    "# nf.head()"
   ]
  },
  {
   "cell_type": "markdown",
   "metadata": {},
   "source": [
    "# deal with year"
   ]
  },
  {
   "cell_type": "code",
   "execution_count": 26,
   "metadata": {},
   "outputs": [],
   "source": [
    "# check the year column\n",
    "sorted_year = nf['release_year'].unique()\n",
    "sorted_year.sort()\n",
    "# sorted_year\n"
   ]
  },
  {
   "cell_type": "code",
   "execution_count": 27,
   "metadata": {},
   "outputs": [
    {
     "data": {
      "text/html": [
       "<div>\n",
       "<style scoped>\n",
       "    .dataframe tbody tr th:only-of-type {\n",
       "        vertical-align: middle;\n",
       "    }\n",
       "\n",
       "    .dataframe tbody tr th {\n",
       "        vertical-align: top;\n",
       "    }\n",
       "\n",
       "    .dataframe thead th {\n",
       "        text-align: right;\n",
       "    }\n",
       "</style>\n",
       "<table border=\"1\" class=\"dataframe\">\n",
       "  <thead>\n",
       "    <tr style=\"text-align: right;\">\n",
       "      <th></th>\n",
       "      <th>show_id</th>\n",
       "      <th>type</th>\n",
       "      <th>title</th>\n",
       "      <th>director</th>\n",
       "      <th>cast</th>\n",
       "      <th>country</th>\n",
       "      <th>date_added</th>\n",
       "      <th>release_year</th>\n",
       "      <th>rating</th>\n",
       "      <th>duration</th>\n",
       "      <th>...</th>\n",
       "      <th>country3</th>\n",
       "      <th>country4</th>\n",
       "      <th>country5</th>\n",
       "      <th>country6</th>\n",
       "      <th>country7</th>\n",
       "      <th>country8</th>\n",
       "      <th>country9</th>\n",
       "      <th>country10</th>\n",
       "      <th>country11</th>\n",
       "      <th>country12</th>\n",
       "    </tr>\n",
       "  </thead>\n",
       "  <tbody>\n",
       "    <tr>\n",
       "      <th>4292</th>\n",
       "      <td>81030762</td>\n",
       "      <td>TV Show</td>\n",
       "      <td>Pioneers: First Women Filmmakers*</td>\n",
       "      <td>NaN</td>\n",
       "      <td>NaN</td>\n",
       "      <td>NaN</td>\n",
       "      <td>2018/12/30</td>\n",
       "      <td>1925</td>\n",
       "      <td>TV-PG</td>\n",
       "      <td>1 Season</td>\n",
       "      <td>...</td>\n",
       "      <td></td>\n",
       "      <td></td>\n",
       "      <td></td>\n",
       "      <td></td>\n",
       "      <td></td>\n",
       "      <td></td>\n",
       "      <td></td>\n",
       "      <td></td>\n",
       "      <td></td>\n",
       "      <td></td>\n",
       "    </tr>\n",
       "  </tbody>\n",
       "</table>\n",
       "<p>1 rows × 89 columns</p>\n",
       "</div>"
      ],
      "text/plain": [
       "       show_id     type                              title director cast  \\\n",
       "4292  81030762  TV Show  Pioneers: First Women Filmmakers*      NaN  NaN   \n",
       "\n",
       "     country  date_added  release_year rating  duration  ... country3  \\\n",
       "4292     NaN  2018/12/30          1925  TV-PG  1 Season  ...            \n",
       "\n",
       "      country4 country5 country6 country7 country8 country9 country10  \\\n",
       "4292                                                                    \n",
       "\n",
       "     country11 country12  \n",
       "4292                      \n",
       "\n",
       "[1 rows x 89 columns]"
      ]
     },
     "execution_count": 27,
     "metadata": {},
     "output_type": "execute_result"
    }
   ],
   "source": [
    "nf[nf['release_year']==1925]"
   ]
  },
  {
   "cell_type": "markdown",
   "metadata": {},
   "source": [
    "# deal with list_in"
   ]
  },
  {
   "cell_type": "code",
   "execution_count": 28,
   "metadata": {},
   "outputs": [
    {
     "data": {
      "text/plain": [
       "Documentaries                                                  299\n",
       "Stand-Up Comedy                                                273\n",
       "Dramas, International Movies                                   248\n",
       "Dramas, Independent Movies, International Movies               186\n",
       "Comedies, Dramas, International Movies                         174\n",
       "                                                              ... \n",
       "Classic & Cult TV, TV Sci-Fi & Fantasy                           1\n",
       "TV Comedies, TV Sci-Fi & Fantasy, Teen TV Shows                  1\n",
       "Kids' TV, TV Action & Adventure, TV Dramas                       1\n",
       "Crime TV Shows, International TV Shows, TV Sci-Fi & Fantasy      1\n",
       "Reality TV, TV Horror, TV Thrillers                              1\n",
       "Name: listed_in, Length: 461, dtype: int64"
      ]
     },
     "execution_count": 28,
     "metadata": {},
     "output_type": "execute_result"
    }
   ],
   "source": [
    "nf['listed_in'].value_counts()"
   ]
  },
  {
   "cell_type": "code",
   "execution_count": 29,
   "metadata": {},
   "outputs": [],
   "source": [
    "# add listed_in_amount_list column\n",
    "count = 0\n",
    "listed_in_amount_list = []\n",
    "for i in nf['listed_in']:\n",
    "    comma_amount = len(str(i).split(','))\n",
    "    if comma_amount > count:\n",
    "        count = comma_amount\n",
    "    listed_in_amount_list.append(comma_amount)\n",
    "# print(count)\n",
    "nf['listed_in_amount'] = listed_in_amount_list\n",
    "# nf.head()"
   ]
  },
  {
   "cell_type": "code",
   "execution_count": 30,
   "metadata": {},
   "outputs": [],
   "source": [
    "# split the listed_in column into multiple columns\n",
    "for i in range(count):\n",
    "    nf[f'listed_in{i+1}']= ''\n",
    "    \n",
    "    \n",
    "for i,d_index in zip(nf['listed_in'],range(len(nf))):\n",
    "    listed_in = str(i).split(',')\n",
    "    for t in range(len(listed_in)):\n",
    "        nf.iloc[d_index,-3+t] = listed_in[t].strip()\n",
    "        \n",
    "\n",
    "        \n",
    "        \n",
    "# nf.head()"
   ]
  },
  {
   "cell_type": "markdown",
   "metadata": {},
   "source": [
    "# Questions"
   ]
  },
  {
   "cell_type": "markdown",
   "metadata": {},
   "source": [
    "# 1. movie/tvshow by year\n",
    "- netflix started increasing the numbers of movies and tv shows in 2015.\n",
    "- the increacement of movies is larger"
   ]
  },
  {
   "cell_type": "code",
   "execution_count": 31,
   "metadata": {},
   "outputs": [],
   "source": [
    "nf['add_year'] = nf['date_added'].apply(lambda x: str(x).split('/')[0] if x !=None else None)"
   ]
  },
  {
   "cell_type": "code",
   "execution_count": 32,
   "metadata": {},
   "outputs": [],
   "source": [
    "nf['count'] = 1\n",
    "movie = nf[nf['type']=='Movie']['add_year'].value_counts()\n",
    "tv_show = nf[nf['type']=='TV Show']['add_year'].value_counts()"
   ]
  },
  {
   "cell_type": "code",
   "execution_count": 33,
   "metadata": {
    "scrolled": true
   },
   "outputs": [],
   "source": [
    "movie = movie.reset_index()\n",
    "movie.rename(columns={'index':'add_year','add_year':'count'},inplace=True)\n",
    "movie.reset_index(drop=True)\n",
    "movie.drop(movie[movie['add_year']=='nan'].index,inplace=True)\n",
    "movie = movie.sort_values('add_year')"
   ]
  },
  {
   "cell_type": "code",
   "execution_count": 34,
   "metadata": {},
   "outputs": [],
   "source": [
    "tv_show = tv_show.reset_index()\n",
    "tv_show.rename(columns={'index':'add_year','add_year':'count'},inplace=True)\n",
    "tv_show.reset_index(drop=True)\n",
    "tv_show = tv_show.sort_values('add_year')\n",
    "tv_show.drop(tv_show[tv_show['add_year']=='nan'].index,inplace=True)"
   ]
  },
  {
   "cell_type": "code",
   "execution_count": 35,
   "metadata": {},
   "outputs": [
    {
     "data": {
      "text/plain": [
       "<matplotlib.legend.Legend at 0x7fc4d0b3f5f8>"
      ]
     },
     "execution_count": 35,
     "metadata": {},
     "output_type": "execute_result"
    },
    {
     "data": {
      "image/png": "[encoded data removed]",
      "text/plain": [
       "<Figure size 720x360 with 1 Axes>"
      ]
     },
     "metadata": {
      "needs_background": "light"
     },
     "output_type": "display_data"
    }
   ],
   "source": [
    "plt.figure(figsize= (10,5))\n",
    "plt.plot(movie['add_year'],movie['count'],label = 'movie')\n",
    "plt.plot(tv_show['add_year'],tv_show['count'],label='tv_show')\n",
    "plt.legend()"
   ]
  },
  {
   "cell_type": "markdown",
   "metadata": {},
   "source": [
    "# 2. listed_in amount by year\n",
    "- the genre of tv_shows/movies are getting more and more diverse "
   ]
  },
  {
   "cell_type": "code",
   "execution_count": 36,
   "metadata": {},
   "outputs": [],
   "source": [
    "listed_amount = nf[['add_year','listed_in1','listed_in2','listed_in3']]\n",
    "#listed_amount"
   ]
  },
  {
   "cell_type": "code",
   "execution_count": null,
   "metadata": {},
   "outputs": [],
   "source": []
  },
  {
   "cell_type": "code",
   "execution_count": 37,
   "metadata": {
    "scrolled": false
   },
   "outputs": [
    {
     "data": {
      "text/plain": [
       "([0, 1, 2, 3, 4, 5, 6, 7, 8, 9, 10, 11, 12],\n",
       " <a list of 13 Text major ticklabel objects>)"
      ]
     },
     "execution_count": 37,
     "metadata": {},
     "output_type": "execute_result"
    },
    {
     "data": {
      "image/png": "[encoded data removed]",
      "text/plain": [
       "<Figure size 432x288 with 1 Axes>"
      ]
     },
     "metadata": {
      "needs_background": "light"
     },
     "output_type": "display_data"
    }
   ],
   "source": [
    "listed_list_dict = {}\n",
    "for d in range(2008,2021):\n",
    "    listed_list = []\n",
    "    target = listed_amount[listed_amount['add_year']==str(d)]\n",
    "    for i in range(target.shape[0]):\n",
    "        for j in range(1,target.shape[1]):\n",
    "            if target.iloc[i,j] not in listed_list:\n",
    "                if target.iloc[i,j] !=\"\":\n",
    "                    listed_list.append(target.iloc[i,j])\n",
    "    listed_list_dict.update({str(d):len(listed_list)})\n",
    "    df = pd.DataFrame.from_dict(listed_list_dict, orient='index')\n",
    "    \n",
    "plt.plot(df.index,df[0])\n",
    "plt.xticks(rotation=45)\n",
    "    "
   ]
  },
  {
   "cell_type": "markdown",
   "metadata": {},
   "source": [
    "# 3. the top 5 genres\n",
    " the top 5 genres are:\n",
    "- International Movies          \n",
    "- Dramas                        \n",
    "- Comedies                      \n",
    "- International TV Shows        \n",
    "- Documentaries                  "
   ]
  },
  {
   "cell_type": "code",
   "execution_count": 38,
   "metadata": {},
   "outputs": [],
   "source": [
    "from collections import Counter"
   ]
  },
  {
   "cell_type": "code",
   "execution_count": 39,
   "metadata": {},
   "outputs": [
    {
     "data": {
      "text/plain": [
       "([0, 1, 2, 3, 4], <a list of 5 Text major ticklabel objects>)"
      ]
     },
     "execution_count": 39,
     "metadata": {},
     "output_type": "execute_result"
    },
    {
     "data": {
      "image/png": "[encoded data removed]",
      "text/plain": [
       "<Figure size 432x288 with 1 Axes>"
      ]
     },
     "metadata": {
      "needs_background": "light"
     },
     "output_type": "display_data"
    }
   ],
   "source": [
    "listed_dict = {}\n",
    "target = listed_amount\n",
    "for i in range(target.shape[0]):\n",
    "    for j in range(1,target.shape[1]):\n",
    "        if target.iloc[i,j] not in listed_dict:\n",
    "            listed_dict.update({target.iloc[i,j]:1})\n",
    "        else:\n",
    "            listed_dict[target.iloc[i,j]]=listed_dict[target.iloc[i,j]]+1\n",
    "del listed_dict['']\n",
    "\n",
    "\n",
    "df = pd.DataFrame.from_dict(listed_dict, orient='index')\n",
    "df.sort_values(0,inplace=True,ascending = False)\n",
    "#print(df)\n",
    "\n",
    "c = Counter(listed_dict)\n",
    "top5 = c.most_common(5)\n",
    "\n",
    "\n",
    "\n",
    "x = [i[0] for i in top5]\n",
    "y = [i[1] for i in top5]\n",
    "plt.bar(x,y)\n",
    "plt.xticks(rotation=45)\n",
    "\n",
    "    "
   ]
  },
  {
   "cell_type": "markdown",
   "metadata": {},
   "source": [
    "# 4. movie duration and year\n",
    "- the durations of movies are getting longer "
   ]
  },
  {
   "cell_type": "code",
   "execution_count": 40,
   "metadata": {},
   "outputs": [],
   "source": [
    "target = nf[nf['type']=='Movie'][['add_year','duration','type']]\n",
    "target['duration'] = target['duration'].apply(lambda x: int(x.split(' min')[0]))\n",
    "target.drop(target[target['add_year']=='nan'].index,inplace=True)\n",
    "temp = target.groupby('add_year').mean()"
   ]
  },
  {
   "cell_type": "code",
   "execution_count": 41,
   "metadata": {},
   "outputs": [
    {
     "data": {
      "text/plain": [
       "<matplotlib.axes._subplots.AxesSubplot at 0x7fc4d154cf60>"
      ]
     },
     "execution_count": 41,
     "metadata": {},
     "output_type": "execute_result"
    },
    {
     "data": {
      "image/png": "[encoded data removed]",
      "text/plain": [
       "<Figure size 432x288 with 1 Axes>"
      ]
     },
     "metadata": {
      "needs_background": "light"
     },
     "output_type": "display_data"
    }
   ],
   "source": [
    "temp.plot()"
   ]
  },
  {
   "cell_type": "markdown",
   "metadata": {},
   "source": [
    "# 5. tv rating amount by year\n",
    "- from 2008 to 2020 more and more shows are for 18+ years old people"
   ]
  },
  {
   "cell_type": "code",
   "execution_count": 42,
   "metadata": {},
   "outputs": [],
   "source": [
    "target = nf[['add_year','rating']]\n",
    "rating_list = list(target['rating'].unique())\n",
    "#rating_list"
   ]
  },
  {
   "cell_type": "code",
   "execution_count": 43,
   "metadata": {},
   "outputs": [],
   "source": [
    "listed_dict = {}\n",
    "for i in rating_list:\n",
    "    listed_dict.update({i:0})\n",
    "reset_dict = listed_dict"
   ]
  },
  {
   "cell_type": "code",
   "execution_count": 44,
   "metadata": {},
   "outputs": [],
   "source": [
    "df = pd.DataFrame.from_dict(listed_dict, orient='index')\n",
    "#df.head()"
   ]
  },
  {
   "cell_type": "code",
   "execution_count": 45,
   "metadata": {
    "scrolled": true
   },
   "outputs": [],
   "source": [
    "for d in range(2008,2021):\n",
    "    listed_dict = reset_dict.copy()\n",
    "    rating =  target[target['add_year']==str(d)]\n",
    "    for i in range(rating.shape[0]):\n",
    "        for j in range(1,rating.shape[1]):\n",
    "            rate = rating.iloc[i,j]\n",
    "            if rate != '':              \n",
    "                count = listed_dict[rate]\n",
    "                listed_dict[rate]= count+1\n",
    "    df[d] = pd.DataFrame.from_dict(listed_dict, orient='index')"
   ]
  },
  {
   "cell_type": "code",
   "execution_count": 46,
   "metadata": {},
   "outputs": [],
   "source": [
    "df = df.drop(0,axis=1)"
   ]
  },
  {
   "cell_type": "code",
   "execution_count": 47,
   "metadata": {
    "scrolled": true
   },
   "outputs": [],
   "source": [
    "tv =['TV-Y','TV-Y7','TV-Y7-FV','TV-G','TV-PG','TV-MA']"
   ]
  },
  {
   "cell_type": "code",
   "execution_count": 48,
   "metadata": {},
   "outputs": [],
   "source": [
    "sum_df = df.copy()\n",
    "sum_df = sum_df/sum_df.sum()"
   ]
  },
  {
   "cell_type": "code",
   "execution_count": 49,
   "metadata": {},
   "outputs": [
    {
     "data": {
      "text/plain": [
       "<matplotlib.axes._subplots.AxesSubplot at 0x7fc4d14ecac8>"
      ]
     },
     "execution_count": 49,
     "metadata": {},
     "output_type": "execute_result"
    },
    {
     "data": {
      "image/png": "[encoded data removed]",
      "text/plain": [
       "<Figure size 432x288 with 2 Axes>"
      ]
     },
     "metadata": {
      "needs_background": "light"
     },
     "output_type": "display_data"
    }
   ],
   "source": [
    "sns.heatmap(sum_df.loc[tv])"
   ]
  },
  {
   "cell_type": "markdown",
   "metadata": {},
   "source": [
    "# 6. tv rating by country\n",
    "# china vs US"
   ]
  },
  {
   "cell_type": "code",
   "execution_count": 50,
   "metadata": {},
   "outputs": [
    {
     "name": "stderr",
     "output_type": "stream",
     "text": [
      "/Users/mac/opt/anaconda3/envs/regularenv/lib/python3.6/site-packages/ipykernel_launcher.py:2: SettingWithCopyWarning: \n",
      "A value is trying to be set on a copy of a slice from a DataFrame.\n",
      "Try using .loc[row_indexer,col_indexer] = value instead\n",
      "\n",
      "See the caveats in the documentation: https://pandas.pydata.org/pandas-docs/stable/user_guide/indexing.html#returning-a-view-versus-a-copy\n",
      "  \n",
      "/Users/mac/opt/anaconda3/envs/regularenv/lib/python3.6/site-packages/ipykernel_launcher.py:3: SettingWithCopyWarning: \n",
      "A value is trying to be set on a copy of a slice from a DataFrame.\n",
      "Try using .loc[row_indexer,col_indexer] = value instead\n",
      "\n",
      "See the caveats in the documentation: https://pandas.pydata.org/pandas-docs/stable/user_guide/indexing.html#returning-a-view-versus-a-copy\n",
      "  This is separate from the ipykernel package so we can avoid doing imports until\n"
     ]
    }
   ],
   "source": [
    "target = nf[['add_year','rating','country']]\n",
    "target['china'] = target['country'].apply(lambda x: 1 if 'China' in str(x) else 0)\n",
    "target['us'] = target['country'].apply(lambda x: 1 if 'United States' in str(x) else 0)"
   ]
  },
  {
   "cell_type": "code",
   "execution_count": 51,
   "metadata": {
    "scrolled": true
   },
   "outputs": [],
   "source": [
    "rating_list = list(target['rating'].unique())"
   ]
  },
  {
   "cell_type": "code",
   "execution_count": 52,
   "metadata": {},
   "outputs": [],
   "source": [
    "listed_dict = {}\n",
    "for i in rating_list:\n",
    "    listed_dict.update({i:0})\n",
    "reset_dict = listed_dict"
   ]
  },
  {
   "cell_type": "code",
   "execution_count": 53,
   "metadata": {},
   "outputs": [],
   "source": [
    "ch_df = pd.DataFrame.from_dict(listed_dict, orient='index')\n",
    "us_df = pd.DataFrame.from_dict(listed_dict, orient='index')\n"
   ]
  },
  {
   "cell_type": "code",
   "execution_count": 54,
   "metadata": {},
   "outputs": [],
   "source": [
    "ch_listed_dict = reset_dict.copy()\n",
    "us_listed_dict = reset_dict.copy()\n",
    "ch_rating = target[target['china']==1]\n",
    "us_rating = target[target['us']==1]\n",
    "for i in range(ch_rating.shape[0]):\n",
    "    for j in range(1,ch_rating.shape[1]-3):\n",
    "        rate = ch_rating.iloc[i,j]\n",
    "        if rate != '':              \n",
    "            count = ch_listed_dict[rate]                    \n",
    "            ch_listed_dict[rate]= count+1\n",
    "for i in range(us_rating.shape[0]):\n",
    "    for j in range(1,us_rating.shape[1]-3):\n",
    "        rate = us_rating.iloc[i,j]\n",
    "        if rate != '':              \n",
    "            count = us_listed_dict[rate]                    \n",
    "            us_listed_dict[rate]= count+1            \n",
    "                \n",
    "ch_df[d] = pd.DataFrame.from_dict(ch_listed_dict, orient='index')\n",
    "us_df[d] = pd.DataFrame.from_dict(us_listed_dict, orient='index')"
   ]
  },
  {
   "cell_type": "code",
   "execution_count": 55,
   "metadata": {},
   "outputs": [],
   "source": [
    "ch_df = ch_df.drop(0,axis=1).rename(columns={2020:'count'})\n",
    "us_df = us_df.drop(0,axis=1).rename(columns={2020:'count'})"
   ]
  },
  {
   "cell_type": "code",
   "execution_count": 56,
   "metadata": {},
   "outputs": [],
   "source": [
    "ch_df = ch_df.loc[tv]\n",
    "us_df = us_df.loc[tv]"
   ]
  },
  {
   "cell_type": "code",
   "execution_count": 57,
   "metadata": {},
   "outputs": [],
   "source": [
    "ch_df = ch_df/ch_df.sum()\n",
    "us_df = us_df/us_df.sum()"
   ]
  },
  {
   "cell_type": "code",
   "execution_count": 58,
   "metadata": {},
   "outputs": [],
   "source": [
    "ch_df['country'] = 'china'\n",
    "us_df['country'] = 'us'"
   ]
  },
  {
   "cell_type": "code",
   "execution_count": 59,
   "metadata": {},
   "outputs": [],
   "source": [
    "df = pd.concat([ch_df,us_df],axis=0)"
   ]
  },
  {
   "cell_type": "code",
   "execution_count": 60,
   "metadata": {
    "scrolled": false
   },
   "outputs": [
    {
     "data": {
      "text/plain": [
       "(array([0, 1, 2, 3, 4, 5]), <a list of 6 Text major ticklabel objects>)"
      ]
     },
     "execution_count": 60,
     "metadata": {},
     "output_type": "execute_result"
    },
    {
     "data": {
      "image/png": "[encoded data removed]",
      "text/plain": [
       "<Figure size 576x576 with 1 Axes>"
      ]
     },
     "metadata": {
      "needs_background": "light"
     },
     "output_type": "display_data"
    }
   ],
   "source": [
    "plt.figure(figsize=(8,8))\n",
    "sns.barplot(x = df.index , y =df['count'],hue=df.country)\n",
    "plt.xticks(rotation=45)"
   ]
  },
  {
   "cell_type": "markdown",
   "metadata": {},
   "source": [
    "# 6. yearly tv rating by country \n",
    "# china vs US\n",
    "- Netflix usually starts their new service in a new market with adult oriented shows\n",
    "- like 2008 in US, 2014 in Uk, and 2016 in China"
   ]
  },
  {
   "cell_type": "code",
   "execution_count": 61,
   "metadata": {
    "scrolled": true
   },
   "outputs": [
    {
     "name": "stderr",
     "output_type": "stream",
     "text": [
      "/Users/mac/opt/anaconda3/envs/regularenv/lib/python3.6/site-packages/ipykernel_launcher.py:2: SettingWithCopyWarning: \n",
      "A value is trying to be set on a copy of a slice from a DataFrame.\n",
      "Try using .loc[row_indexer,col_indexer] = value instead\n",
      "\n",
      "See the caveats in the documentation: https://pandas.pydata.org/pandas-docs/stable/user_guide/indexing.html#returning-a-view-versus-a-copy\n",
      "  \n",
      "/Users/mac/opt/anaconda3/envs/regularenv/lib/python3.6/site-packages/ipykernel_launcher.py:3: SettingWithCopyWarning: \n",
      "A value is trying to be set on a copy of a slice from a DataFrame.\n",
      "Try using .loc[row_indexer,col_indexer] = value instead\n",
      "\n",
      "See the caveats in the documentation: https://pandas.pydata.org/pandas-docs/stable/user_guide/indexing.html#returning-a-view-versus-a-copy\n",
      "  This is separate from the ipykernel package so we can avoid doing imports until\n",
      "/Users/mac/opt/anaconda3/envs/regularenv/lib/python3.6/site-packages/ipykernel_launcher.py:4: SettingWithCopyWarning: \n",
      "A value is trying to be set on a copy of a slice from a DataFrame.\n",
      "Try using .loc[row_indexer,col_indexer] = value instead\n",
      "\n",
      "See the caveats in the documentation: https://pandas.pydata.org/pandas-docs/stable/user_guide/indexing.html#returning-a-view-versus-a-copy\n",
      "  after removing the cwd from sys.path.\n"
     ]
    }
   ],
   "source": [
    "target = nf[['add_year','rating','country']]\n",
    "target['china'] = target['country'].apply(lambda x: 1 if 'China' in str(x) else 0)\n",
    "target['us'] = target['country'].apply(lambda x: 1 if 'United States' in str(x) else 0)\n",
    "target['uk']=target['country'].apply(lambda x: 1 if 'United Kingdom' in str(x) else 0)"
   ]
  },
  {
   "cell_type": "code",
   "execution_count": 62,
   "metadata": {},
   "outputs": [],
   "source": [
    "rating_list = list(target['rating'].unique())"
   ]
  },
  {
   "cell_type": "code",
   "execution_count": 63,
   "metadata": {},
   "outputs": [],
   "source": [
    "listed_dict = {}\n",
    "for i in rating_list:\n",
    "    listed_dict.update({i:0})\n",
    "reset_dict = listed_dict"
   ]
  },
  {
   "cell_type": "code",
   "execution_count": 64,
   "metadata": {},
   "outputs": [],
   "source": [
    "ch_df = pd.DataFrame.from_dict(listed_dict, orient='index')\n",
    "us_df = pd.DataFrame.from_dict(listed_dict, orient='index')\n",
    "uk_df = pd.DataFrame.from_dict(listed_dict, orient='index')"
   ]
  },
  {
   "cell_type": "code",
   "execution_count": 65,
   "metadata": {
    "scrolled": false
   },
   "outputs": [],
   "source": [
    "for d in range(2008,2021):\n",
    "    ch_listed_dict = reset_dict.copy()\n",
    "    us_listed_dict = reset_dict.copy()\n",
    "    uk_listed_dict = reset_dict.copy()\n",
    "    ch_rating = target[(target['china']==1)&(target['add_year']==str(d))]\n",
    "    us_rating = target[(target['us']==1)&(target['add_year']==str(d))]\n",
    "    uk_rating = target[(target['uk']==1)&(target['add_year']==str(d))]\n",
    "    for i in range(ch_rating.shape[0]):\n",
    "        for j in range(1,ch_rating.shape[1]-4):\n",
    "            rate = ch_rating.iloc[i,j]\n",
    "            if rate != '':              \n",
    "                count = ch_listed_dict[rate]                    \n",
    "                ch_listed_dict[rate]= count+1\n",
    "    for i in range(us_rating.shape[0]):\n",
    "        for j in range(1,us_rating.shape[1]-4):\n",
    "            rate = us_rating.iloc[i,j]\n",
    "            if rate != '':              \n",
    "                count = us_listed_dict[rate]                    \n",
    "                us_listed_dict[rate]= count+1  \n",
    "    for i in range(uk_rating.shape[0]):\n",
    "        for j in range(1,us_rating.shape[1]-4):\n",
    "            rate = uk_rating.iloc[i,j]\n",
    "            if rate != '':              \n",
    "                count = uk_listed_dict[rate]                    \n",
    "                uk_listed_dict[rate]= count+1  \n",
    "\n",
    "    ch_df[d] = pd.DataFrame.from_dict(ch_listed_dict, orient='index')\n",
    "    us_df[d] = pd.DataFrame.from_dict(us_listed_dict, orient='index')\n",
    "    uk_df[d] = pd.DataFrame.from_dict(uk_listed_dict, orient='index')\n",
    "    "
   ]
  },
  {
   "cell_type": "code",
   "execution_count": 66,
   "metadata": {},
   "outputs": [],
   "source": [
    "tv =['TV-Y','TV-Y7','TV-Y7-FV','TV-G','TV-PG','TV-MA']\n",
    "ch_df = ch_df.loc[tv].drop(0,axis=1)\n",
    "us_df = us_df.loc[tv].drop(0,axis=1)\n",
    "uk_df = uk_df.loc[tv].drop(0,axis=1)"
   ]
  },
  {
   "cell_type": "code",
   "execution_count": 67,
   "metadata": {},
   "outputs": [],
   "source": [
    "ch_df = (ch_df/ch_df.sum()).fillna(0)\n",
    "us_df = (us_df/us_df.sum()).fillna(0)\n",
    "uk_df = (uk_df/uk_df.sum()).fillna(0)"
   ]
  },
  {
   "cell_type": "code",
   "execution_count": 68,
   "metadata": {},
   "outputs": [],
   "source": [
    "ch_df = ch_df.reindex(tv)\n",
    "us_df = us_df.reindex(tv)\n",
    "uk_df = uk_df.reindex(tv)"
   ]
  },
  {
   "cell_type": "code",
   "execution_count": 69,
   "metadata": {},
   "outputs": [],
   "source": [
    "ch_df['country'] = 'ch'\n",
    "us_df['country'] = 'us'\n",
    "uk_df['country'] = 'uk'"
   ]
  },
  {
   "cell_type": "code",
   "execution_count": 70,
   "metadata": {
    "scrolled": false
   },
   "outputs": [
    {
     "data": {
      "image/png": "[encoded data removed]",
      "text/plain": [
       "<Figure size 432x288 with 1 Axes>"
      ]
     },
     "metadata": {
      "needs_background": "light"
     },
     "output_type": "display_data"
    },
    {
     "data": {
      "image/png": "[encoded data removed]",
      "text/plain": [
       "<Figure size 432x288 with 1 Axes>"
      ]
     },
     "metadata": {
      "needs_background": "light"
     },
     "output_type": "display_data"
    },
    {
     "data": {
      "image/png": "[encoded data removed]",
      "text/plain": [
       "<Figure size 432x288 with 1 Axes>"
      ]
     },
     "metadata": {
      "needs_background": "light"
     },
     "output_type": "display_data"
    },
    {
     "data": {
      "image/png": "[encoded data removed]",
      "text/plain": [
       "<Figure size 432x288 with 1 Axes>"
      ]
     },
     "metadata": {
      "needs_background": "light"
     },
     "output_type": "display_data"
    },
    {
     "data": {
      "image/png": "[encoded data removed]",
      "text/plain": [
       "<Figure size 432x288 with 1 Axes>"
      ]
     },
     "metadata": {
      "needs_background": "light"
     },
     "output_type": "display_data"
    },
    {
     "data": {
      "image/png": "[encoded data removed]",
      "text/plain": [
       "<Figure size 432x288 with 1 Axes>"
      ]
     },
     "metadata": {
      "needs_background": "light"
     },
     "output_type": "display_data"
    },
    {
     "data": {
      "image/png": "[encoded data removed]",
      "text/plain": [
       "<Figure size 432x288 with 1 Axes>"
      ]
     },
     "metadata": {
      "needs_background": "light"
     },
     "output_type": "display_data"
    },
    {
     "data": {
      "image/png": "[encoded data removed]",
      "text/plain": [
       "<Figure size 432x288 with 1 Axes>"
      ]
     },
     "metadata": {
      "needs_background": "light"
     },
     "output_type": "display_data"
    },
    {
     "data": {
      "image/png": "[encoded data removed]",
      "text/plain": [
       "<Figure size 432x288 with 1 Axes>"
      ]
     },
     "metadata": {
      "needs_background": "light"
     },
     "output_type": "display_data"
    },
    {
     "data": {
      "image/png": "[encoded data removed]",
      "text/plain": [
       "<Figure size 432x288 with 1 Axes>"
      ]
     },
     "metadata": {
      "needs_background": "light"
     },
     "output_type": "display_data"
    },
    {
     "data": {
      "image/png": "[encoded data removed]",
      "text/plain": [
       "<Figure size 432x288 with 1 Axes>"
      ]
     },
     "metadata": {
      "needs_background": "light"
     },
     "output_type": "display_data"
    },
    {
     "data": {
      "image/png": "[encoded data removed]",
      "text/plain": [
       "<Figure size 432x288 with 1 Axes>"
      ]
     },
     "metadata": {
      "needs_background": "light"
     },
     "output_type": "display_data"
    },
    {
     "data": {
      "image/png": "[encoded data removed]",
      "text/plain": [
       "<Figure size 432x288 with 1 Axes>"
      ]
     },
     "metadata": {
      "needs_background": "light"
     },
     "output_type": "display_data"
    }
   ],
   "source": [
    "for d in range(2008,2021):\n",
    "    df = pd.concat([ch_df[[d,'country']],us_df[[d,'country']],uk_df[[d,'country']]],axis=0)\n",
    "    sns.barplot(x = df.index,y = df[d],hue=df['country'])\n",
    "    plt.title(d)\n",
    "    plt.ylabel('ratio')\n",
    "    plt.legend()\n",
    "    plt.show()"
   ]
  },
  {
   "cell_type": "code",
   "execution_count": null,
   "metadata": {},
   "outputs": [],
   "source": []
  }
 ],
 "metadata": {
  "kernelspec": {
   "display_name": "regularenv",
   "language": "python",
   "name": "regularenv"
  },
  "language_info": {
   "codemirror_mode": {
    "name": "ipython",
    "version": 3
   },
   "file_extension": ".py",
   "mimetype": "text/x-python",
   "name": "python",
   "nbconvert_exporter": "python",
   "pygments_lexer": "ipython3",
   "version": "3.6.12"
  }
 },
 "nbformat": 4,
 "nbformat_minor": 4
}
