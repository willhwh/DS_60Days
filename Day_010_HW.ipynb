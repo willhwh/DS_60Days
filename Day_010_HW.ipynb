{
 "cells": [
  {
   "cell_type": "code",
   "execution_count": 1,
   "metadata": {},
   "outputs": [],
   "source": [
    "import pandas as pd\n",
    "from IPython.display import Image"
   ]
  },
  {
   "cell_type": "code",
   "execution_count": 2,
   "metadata": {},
   "outputs": [
    {
     "data": {
      "text/html": [
       "<img src=\"https://lh5.googleusercontent.com/X6pR4FjjpP1fH0a3dbzuXMmK9E0trFXkhxv7OSn-9qgVtlNK08fJuQPM0tZdV1UWIHAza3eDw2q_e3xfDG4RCh8SXc21bHkUlVpwH6oV5MmKgjydtaBHihqPm2t4MZGH9KW_UlEi?t=1609901998754\"/>"
      ],
      "text/plain": [
       "<IPython.core.display.Image object>"
      ]
     },
     "execution_count": 2,
     "metadata": {},
     "output_type": "execute_result"
    }
   ],
   "source": [
    "#增加\n",
    "#dataframe.insert(column_index,added_column_name,added_value)\n",
    "Image(url= \"https://lh5.googleusercontent.com/X6pR4FjjpP1fH0a3dbzuXMmK9E0trFXkhxv7OSn-9qgVtlNK08fJuQPM0tZdV1UWIHAza3eDw2q_e3xfDG4RCh8SXc21bHkUlVpwH6oV5MmKgjydtaBHihqPm2t4MZGH9KW_UlEi?t=1609901998754\")\n"
   ]
  },
  {
   "cell_type": "code",
   "execution_count": 3,
   "metadata": {},
   "outputs": [],
   "source": [
    "#刪除\n",
    "#dataframe.pop()  >>>   return the deleted columns(s)\n",
    "#del dataframe[deleted_column_name] >>> return the dataframe with column(s) removed"
   ]
  },
  {
   "cell_type": "code",
   "execution_count": 4,
   "metadata": {},
   "outputs": [
    {
     "data": {
      "text/html": [
       "<img src=\"https://lh4.googleusercontent.com/cJgmTsJn73g7JIO5ZCkAeuka654TO52ZVUEqI1z9nhrjaF2xUqnFJkl4Up03hOKefRNY71G1RH4rQ4EwEPGy-RaklnZh0hlPIUhfeNURysaNqBPm7744Q8rSZunGkz7-sfSXE3vq?t=1610086879775\"/>"
      ],
      "text/plain": [
       "<IPython.core.display.Image object>"
      ]
     },
     "execution_count": 4,
     "metadata": {},
     "output_type": "execute_result"
    }
   ],
   "source": [
    "#資料過濾\n",
    "#dataframe.loc[condition,return_columns(s)]\n",
    "Image(url= \"https://lh4.googleusercontent.com/cJgmTsJn73g7JIO5ZCkAeuka654TO52ZVUEqI1z9nhrjaF2xUqnFJkl4Up03hOKefRNY71G1RH4rQ4EwEPGy-RaklnZh0hlPIUhfeNURysaNqBPm7744Q8rSZunGkz7-sfSXE3vq?t=1610086879775\")"
   ]
  },
  {
   "cell_type": "code",
   "execution_count": 5,
   "metadata": {},
   "outputs": [],
   "source": [
    "#pd.concat([df1,df2],axis=0/1,join='inner'/'outter')\n",
    "#pd.merge(df1,df2,on='based on which column',how=''inner'/outer'/'left','right')"
   ]
  },
  {
   "cell_type": "code",
   "execution_count": 6,
   "metadata": {},
   "outputs": [
    {
     "data": {
      "text/html": [
       "<img src=\"https://lh4.googleusercontent.com/VKj5mR8_BaAC8c3exfQdJzJzxBIu7hl-vmVXhW0chl1BYAFgdnwwmzJZ4yG7_WRkdTxzalh4hGuFcvBgfWhmkwMk25Nvi5-RYlWSl_maFyQ9jLfc_BlfefpM3L_pocetMSAswzbP?t=1612270204681\"/>"
      ],
      "text/plain": [
       "<IPython.core.display.Image object>"
      ]
     },
     "execution_count": 6,
     "metadata": {},
     "output_type": "execute_result"
    }
   ],
   "source": [
    "#df1.join(df2,how=\"inner\"/'outter',lsuffix= , rsuffix= ) >>if column name duplicates, use suffix!\n",
    "Image(url=\"https://lh4.googleusercontent.com/VKj5mR8_BaAC8c3exfQdJzJzxBIu7hl-vmVXhW0chl1BYAFgdnwwmzJZ4yG7_WRkdTxzalh4hGuFcvBgfWhmkwMk25Nvi5-RYlWSl_maFyQ9jLfc_BlfefpM3L_pocetMSAswzbP?t=1612270204681\")"
   ]
  },
  {
   "cell_type": "markdown",
   "metadata": {},
   "source": [
    "# HW"
   ]
  },
  {
   "cell_type": "code",
   "execution_count": 7,
   "metadata": {},
   "outputs": [],
   "source": [
    "#讀取STOCK_DAY_0050_202009.csv\n",
    "#串聯STOCK_DAY_0050_202010.csv\n",
    "#並且找出open小於close的資料"
   ]
  },
  {
   "cell_type": "code",
   "execution_count": 8,
   "metadata": {},
   "outputs": [
    {
     "name": "stdout",
     "output_type": "stream",
     "text": [
      "22 19\n"
     ]
    }
   ],
   "source": [
    "d9 = pd.read_csv('STOCK_DAY_0050_202009.csv')\n",
    "d10 = pd.read_csv('STOCK_DAY_0050_202010.csv')\n",
    "print(len(d9),len(d10))"
   ]
  },
  {
   "cell_type": "code",
   "execution_count": 9,
   "metadata": {},
   "outputs": [
    {
     "data": {
      "text/html": [
       "<div>\n",
       "<style scoped>\n",
       "    .dataframe tbody tr th:only-of-type {\n",
       "        vertical-align: middle;\n",
       "    }\n",
       "\n",
       "    .dataframe tbody tr th {\n",
       "        vertical-align: top;\n",
       "    }\n",
       "\n",
       "    .dataframe thead th {\n",
       "        text-align: right;\n",
       "    }\n",
       "</style>\n",
       "<table border=\"1\" class=\"dataframe\">\n",
       "  <thead>\n",
       "    <tr style=\"text-align: right;\">\n",
       "      <th></th>\n",
       "      <th>date</th>\n",
       "      <th>open</th>\n",
       "      <th>high</th>\n",
       "      <th>low</th>\n",
       "      <th>close</th>\n",
       "    </tr>\n",
       "  </thead>\n",
       "  <tbody>\n",
       "    <tr>\n",
       "      <th>0</th>\n",
       "      <td>109/09/01</td>\n",
       "      <td>102.45</td>\n",
       "      <td>103.35</td>\n",
       "      <td>101.85</td>\n",
       "      <td>103.35</td>\n",
       "    </tr>\n",
       "    <tr>\n",
       "      <th>1</th>\n",
       "      <td>109/09/02</td>\n",
       "      <td>103.65</td>\n",
       "      <td>104.05</td>\n",
       "      <td>102.30</td>\n",
       "      <td>103.00</td>\n",
       "    </tr>\n",
       "    <tr>\n",
       "      <th>2</th>\n",
       "      <td>109/09/03</td>\n",
       "      <td>103.70</td>\n",
       "      <td>104.30</td>\n",
       "      <td>103.20</td>\n",
       "      <td>103.30</td>\n",
       "    </tr>\n",
       "    <tr>\n",
       "      <th>3</th>\n",
       "      <td>109/09/04</td>\n",
       "      <td>102.00</td>\n",
       "      <td>102.70</td>\n",
       "      <td>101.90</td>\n",
       "      <td>102.55</td>\n",
       "    </tr>\n",
       "    <tr>\n",
       "      <th>4</th>\n",
       "      <td>109/09/07</td>\n",
       "      <td>102.55</td>\n",
       "      <td>103.05</td>\n",
       "      <td>101.90</td>\n",
       "      <td>102.40</td>\n",
       "    </tr>\n",
       "  </tbody>\n",
       "</table>\n",
       "</div>"
      ],
      "text/plain": [
       "        date    open    high     low   close\n",
       "0  109/09/01  102.45  103.35  101.85  103.35\n",
       "1  109/09/02  103.65  104.05  102.30  103.00\n",
       "2  109/09/03  103.70  104.30  103.20  103.30\n",
       "3  109/09/04  102.00  102.70  101.90  102.55\n",
       "4  109/09/07  102.55  103.05  101.90  102.40"
      ]
     },
     "execution_count": 9,
     "metadata": {},
     "output_type": "execute_result"
    }
   ],
   "source": [
    "d9_10 = pd.concat([d9,d10],axis=0,ignore_index=True) #ignore_index= True >>> reset index\n",
    "d9_10.head()"
   ]
  },
  {
   "cell_type": "code",
   "execution_count": 10,
   "metadata": {},
   "outputs": [
    {
     "name": "stdout",
     "output_type": "stream",
     "text": [
      "41\n"
     ]
    }
   ],
   "source": [
    "print(len(d9_10))"
   ]
  },
  {
   "cell_type": "code",
   "execution_count": 11,
   "metadata": {},
   "outputs": [
    {
     "data": {
      "text/html": [
       "<div>\n",
       "<style scoped>\n",
       "    .dataframe tbody tr th:only-of-type {\n",
       "        vertical-align: middle;\n",
       "    }\n",
       "\n",
       "    .dataframe tbody tr th {\n",
       "        vertical-align: top;\n",
       "    }\n",
       "\n",
       "    .dataframe thead th {\n",
       "        text-align: right;\n",
       "    }\n",
       "</style>\n",
       "<table border=\"1\" class=\"dataframe\">\n",
       "  <thead>\n",
       "    <tr style=\"text-align: right;\">\n",
       "      <th></th>\n",
       "      <th>date</th>\n",
       "      <th>open</th>\n",
       "      <th>high</th>\n",
       "      <th>low</th>\n",
       "      <th>close</th>\n",
       "    </tr>\n",
       "  </thead>\n",
       "  <tbody>\n",
       "    <tr>\n",
       "      <th>0</th>\n",
       "      <td>109/09/01</td>\n",
       "      <td>102.45</td>\n",
       "      <td>103.35</td>\n",
       "      <td>101.85</td>\n",
       "      <td>103.35</td>\n",
       "    </tr>\n",
       "    <tr>\n",
       "      <th>3</th>\n",
       "      <td>109/09/04</td>\n",
       "      <td>102.00</td>\n",
       "      <td>102.70</td>\n",
       "      <td>101.90</td>\n",
       "      <td>102.55</td>\n",
       "    </tr>\n",
       "    <tr>\n",
       "      <th>5</th>\n",
       "      <td>109/09/08</td>\n",
       "      <td>102.75</td>\n",
       "      <td>103.10</td>\n",
       "      <td>102.45</td>\n",
       "      <td>103.00</td>\n",
       "    </tr>\n",
       "    <tr>\n",
       "      <th>6</th>\n",
       "      <td>109/09/09</td>\n",
       "      <td>101.75</td>\n",
       "      <td>102.35</td>\n",
       "      <td>101.15</td>\n",
       "      <td>102.30</td>\n",
       "    </tr>\n",
       "    <tr>\n",
       "      <th>7</th>\n",
       "      <td>109/09/10</td>\n",
       "      <td>102.80</td>\n",
       "      <td>103.35</td>\n",
       "      <td>102.60</td>\n",
       "      <td>103.20</td>\n",
       "    </tr>\n",
       "    <tr>\n",
       "      <th>8</th>\n",
       "      <td>109/09/11</td>\n",
       "      <td>103.20</td>\n",
       "      <td>103.35</td>\n",
       "      <td>102.80</td>\n",
       "      <td>103.25</td>\n",
       "    </tr>\n",
       "    <tr>\n",
       "      <th>9</th>\n",
       "      <td>109/09/14</td>\n",
       "      <td>103.50</td>\n",
       "      <td>104.55</td>\n",
       "      <td>103.25</td>\n",
       "      <td>104.55</td>\n",
       "    </tr>\n",
       "    <tr>\n",
       "      <th>10</th>\n",
       "      <td>109/09/15</td>\n",
       "      <td>104.45</td>\n",
       "      <td>105.20</td>\n",
       "      <td>104.25</td>\n",
       "      <td>104.95</td>\n",
       "    </tr>\n",
       "    <tr>\n",
       "      <th>19</th>\n",
       "      <td>109/09/28</td>\n",
       "      <td>101.35</td>\n",
       "      <td>102.30</td>\n",
       "      <td>101.00</td>\n",
       "      <td>102.30</td>\n",
       "    </tr>\n",
       "    <tr>\n",
       "      <th>21</th>\n",
       "      <td>109/09/30</td>\n",
       "      <td>102.75</td>\n",
       "      <td>103.45</td>\n",
       "      <td>102.60</td>\n",
       "      <td>103.00</td>\n",
       "    </tr>\n",
       "    <tr>\n",
       "      <th>23</th>\n",
       "      <td>109/10/06</td>\n",
       "      <td>104.00</td>\n",
       "      <td>104.35</td>\n",
       "      <td>103.85</td>\n",
       "      <td>104.25</td>\n",
       "    </tr>\n",
       "    <tr>\n",
       "      <th>24</th>\n",
       "      <td>109/10/07</td>\n",
       "      <td>104.00</td>\n",
       "      <td>105.00</td>\n",
       "      <td>103.50</td>\n",
       "      <td>104.80</td>\n",
       "    </tr>\n",
       "    <tr>\n",
       "      <th>25</th>\n",
       "      <td>109/10/08</td>\n",
       "      <td>105.45</td>\n",
       "      <td>106.35</td>\n",
       "      <td>105.30</td>\n",
       "      <td>106.20</td>\n",
       "    </tr>\n",
       "    <tr>\n",
       "      <th>26</th>\n",
       "      <td>109/10/12</td>\n",
       "      <td>106.70</td>\n",
       "      <td>107.70</td>\n",
       "      <td>106.70</td>\n",
       "      <td>107.05</td>\n",
       "    </tr>\n",
       "    <tr>\n",
       "      <th>31</th>\n",
       "      <td>109/10/19</td>\n",
       "      <td>105.65</td>\n",
       "      <td>106.60</td>\n",
       "      <td>105.60</td>\n",
       "      <td>106.60</td>\n",
       "    </tr>\n",
       "    <tr>\n",
       "      <th>34</th>\n",
       "      <td>109/10/22</td>\n",
       "      <td>105.70</td>\n",
       "      <td>106.10</td>\n",
       "      <td>105.50</td>\n",
       "      <td>106.10</td>\n",
       "    </tr>\n",
       "  </tbody>\n",
       "</table>\n",
       "</div>"
      ],
      "text/plain": [
       "         date    open    high     low   close\n",
       "0   109/09/01  102.45  103.35  101.85  103.35\n",
       "3   109/09/04  102.00  102.70  101.90  102.55\n",
       "5   109/09/08  102.75  103.10  102.45  103.00\n",
       "6   109/09/09  101.75  102.35  101.15  102.30\n",
       "7   109/09/10  102.80  103.35  102.60  103.20\n",
       "8   109/09/11  103.20  103.35  102.80  103.25\n",
       "9   109/09/14  103.50  104.55  103.25  104.55\n",
       "10  109/09/15  104.45  105.20  104.25  104.95\n",
       "19  109/09/28  101.35  102.30  101.00  102.30\n",
       "21  109/09/30  102.75  103.45  102.60  103.00\n",
       "23  109/10/06  104.00  104.35  103.85  104.25\n",
       "24  109/10/07  104.00  105.00  103.50  104.80\n",
       "25  109/10/08  105.45  106.35  105.30  106.20\n",
       "26  109/10/12  106.70  107.70  106.70  107.05\n",
       "31  109/10/19  105.65  106.60  105.60  106.60\n",
       "34  109/10/22  105.70  106.10  105.50  106.10"
      ]
     },
     "execution_count": 11,
     "metadata": {},
     "output_type": "execute_result"
    }
   ],
   "source": [
    "d9_10[d9_10['open']<d9_10['close']]"
   ]
  },
  {
   "cell_type": "code",
   "execution_count": null,
   "metadata": {},
   "outputs": [],
   "source": []
  }
 ],
 "metadata": {
  "kernelspec": {
   "display_name": "Python 3",
   "language": "python",
   "name": "python3"
  },
  "language_info": {
   "codemirror_mode": {
    "name": "ipython",
    "version": 3
   },
   "file_extension": ".py",
   "mimetype": "text/x-python",
   "name": "python",
   "nbconvert_exporter": "python",
   "pygments_lexer": "ipython3",
   "version": "3.7.4"
  }
 },
 "nbformat": 4,
 "nbformat_minor": 2
}
